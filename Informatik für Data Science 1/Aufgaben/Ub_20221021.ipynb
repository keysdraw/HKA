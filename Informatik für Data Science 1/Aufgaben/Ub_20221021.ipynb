{
 "cells": [
  {
   "cell_type": "markdown",
   "id": "c8fb1bbf-0429-4474-9cdb-346d1f7f52d8",
   "metadata": {},
   "source": [
    "# Übungsblatt 3\n",
    "## DSCB130 | 3.2 Einführung in Python\n",
    "\n",
    "Freitag, 21.10.2022"
   ]
  },
  {
   "cell_type": "markdown",
   "id": "4485ee8a-9639-42d3-9ec6-2de891201da1",
   "metadata": {
    "tags": []
   },
   "source": [
    "## Grundlagen"
   ]
  },
  {
   "cell_type": "markdown",
   "id": "ae89a35e-0cc6-4578-86d8-4123f7605fd8",
   "metadata": {},
   "source": [
    "### Übung 1: Basis Datentypen und deren Umwandlung\n",
    "a) Fordern Sie den Anwender auf eine Dezimalzahl einzugeben. Worauf sollten Sie dabei achten?  \n",
    "b) Wandeln Sie die Eingabe in einen entsprechenden Datentyp um.  \n",
    "c) Geben Sie die ausführlichen Merkmale der Variable aus, in der Sie die Eingabe gespeichert haben."
   ]
  },
  {
   "cell_type": "code",
   "execution_count": 5,
   "id": "4f602576-3310-4e2c-8fd1-c70e3c43fa20",
   "metadata": {},
   "outputs": [
    {
     "name": "stdout",
     "output_type": "stream",
     "text": [
      "\u001b[0;31mType:\u001b[0m        float\n",
      "\u001b[0;31mString form:\u001b[0m 3.3\n",
      "\u001b[0;31mDocstring:\u001b[0m   Convert a string or number to a floating point number, if possible.\n"
     ]
    }
   ],
   "source": [
    "num = float(input('Dezimalzahl eingeben'))\n",
    "\n",
    "??num\n"
   ]
  },
  {
   "cell_type": "markdown",
   "id": "0ab5d27d-5311-41cb-aa3f-a404a028b07a",
   "metadata": {},
   "source": [
    "### Übung 2: Operatoren und Ausdrücke\n",
    "a) Was verstehen Sie unter einem Membership-Operator? Erklären Sie dies an einem Ausdruck.  \n",
    "b) Welche Operatoren werden in Python für den Vergleich von Werten verwendet?  Zeigen Sie dies an einem exmplarischen Ausdruck.  \n",
    "c) Bilden Sie eine ihnen bekannte mathematische Formel aus der Mathe-VL in Python nach. Verwenden Sie dabei die Kurzschreibweise von Zuweisungsoperatoren."
   ]
  },
  {
   "cell_type": "code",
   "execution_count": 12,
   "id": "5d498468-0d7c-4f37-b8ff-a3064f514950",
   "metadata": {},
   "outputs": [
    {
     "name": "stdout",
     "output_type": "stream",
     "text": [
      "True\n",
      "hahalol\n"
     ]
    },
    {
     "data": {
      "text/plain": [
       "((-1.5+1.118033988749895j), (-1.5-1.118033988749895j))"
      ]
     },
     "execution_count": 12,
     "metadata": {},
     "output_type": "execute_result"
    }
   ],
   "source": [
    "\n",
    "\n",
    "\n",
    "x = ['Peer', 'Raimer', 'Matthias', 3, 32]\n",
    "y = 'Matthias'\n",
    "print(y in x)\n",
    "\n",
    "if x[-1] > x[-2]:\n",
    "    print('hahalol')\n",
    "\n",
    "\n",
    "\n",
    "def pq_formula(p:float, q:float):\n",
    "    t1 = -(p/2)+((p/2)**2-q)**(1/2)\n",
    "    t2 = -(p/2)-((p/2)**2-q)**(1/2)\n",
    "    return t1,t2\n",
    "\n",
    "pq_formula(3,3.5)"
   ]
  },
  {
   "cell_type": "markdown",
   "id": "9efa0c35-c5d0-48e8-b46f-28128efd343e",
   "metadata": {},
   "source": [
    "### Übung 3: Verarbeitung von Zeichenketten\n",
    "> __Hinweis:__ Das Erste Zeichen hat Index 0.  \n",
    "\n",
    "Gegeben sein die Zeichenkette txt = \"The best things in life are free!\" \n",
    "\n",
    "a) Geben Sie Anzahl an Zeichen aus.  \n",
    "b) Prüfen Sie, ob die Zeichenfolge \"are\" in der Zeichenfolge `txt` vorkommt.  \n",
    "c) Geben Sie die Zeichen von Position 2 bis Position 15 (nicht enthalten) aus.  \n",
    "d) Geben Sie die letzten 5 Zeichen aus.  \n",
    "e) Ersetzen Sie die Zeichenfolge \"free\" durch Versalien und geben Sie den Text aus.  \n",
    "f) Fügen Sie einen weitere Zeichenkette an den Text an.  "
   ]
  },
  {
   "cell_type": "code",
   "execution_count": 36,
   "id": "e87f5493-474d-4b9a-a6d7-7207af1a6004",
   "metadata": {},
   "outputs": [
    {
     "name": "stdout",
     "output_type": "stream",
     "text": [
      "32\n",
      "True\n",
      "he best thing\n",
      " free!\n",
      "The best things in life are expensive!\n",
      "The best things in life are free! test\n"
     ]
    }
   ],
   "source": [
    "txt = \"The best things in life are free!\"\n",
    "i = 0\n",
    "j = -1\n",
    "for i in txt:\n",
    "    j = j + 1\n",
    "    \n",
    "print(j)\n",
    "print('are' in txt)\n",
    "print(txt[1:14])\n",
    "print(txt[32-5:33])\n",
    "print(txt.replace('free', 'expensive'))\n",
    "print(txt + ' test')"
   ]
  },
  {
   "cell_type": "markdown",
   "id": "bb08164d-e184-4f54-88dc-309ec04fe78d",
   "metadata": {},
   "source": [
    "### Übung 4: Module einbinden\n",
    "a) Importieren Sie die Module sys, platformm math und datetime.  \n",
    "b) Geben Sie  einige Merkmale ihres Computers aus, wie bspw. Computername, Betriebssystem, Prozessor, Python Version, etc.  \n",
    "c) Geben Sie die byteorder aus, die Ihrem Betriebssystem zugrund liegt.  \n",
    "d) Geben Sie das aktuelle Datum und die Zeit aus."
   ]
  },
  {
   "cell_type": "code",
   "execution_count": 8,
   "id": "6f8a2a37-a3bc-42d7-b9fd-79928c67550e",
   "metadata": {},
   "outputs": [
    {
     "name": "stdout",
     "output_type": "stream",
     "text": [
      "little\n",
      "18:14:52\n"
     ]
    }
   ],
   "source": [
    "import sys, platform, math, datetime\n",
    "\n",
    "def get_sys_info():\n",
    "    info = (platform.system(), platform.version(), platform.machine())\n",
    "    return info\n",
    "\n",
    "#get_sys_info()\n",
    "\n",
    "print(sys.byteorder)\n",
    "\n",
    "time = datetime.datetime.now()\n",
    "\n",
    "print(time.strftime('%T'))"
   ]
  },
  {
   "cell_type": "code",
   "execution_count": 13,
   "id": "c7e8e33a",
   "metadata": {},
   "outputs": [
    {
     "data": {
      "text/plain": [
       "b'\\x08\\x00'"
      ]
     },
     "execution_count": 13,
     "metadata": {},
     "output_type": "execute_result"
    }
   ],
   "source": [
    "(8).to_bytes(2, byteorder='little')"
   ]
  },
  {
   "cell_type": "markdown",
   "id": "35af8413-3a2b-42e7-a914-4b7a601f368b",
   "metadata": {},
   "source": [
    "### Übung 5: Zahlen und Mathe\n",
    "\n",
    "Gegeben sei eine liste an zahlen v = [5, 10, 25, 100]\n",
    "\n",
    "a) Geben Sie den niedrigsten oder höchsten Wert aus.  \n",
    "b) Berechenen Sie die Quersumme der Zahlen.  \n",
    "c) Berechnen Sie die 3. Potenz der Zahl 2.  \n",
    "d) Berechnen Sie die Quadratwurzel der Zahl 64.  \n",
    "e) Geben Sie die Zahl Kreiszahl PI auf 5 Stellen gerundet aus.  "
   ]
  },
  {
   "cell_type": "code",
   "execution_count": 47,
   "id": "d0d061ba-8fb1-4588-8ec5-03898e9c5598",
   "metadata": {},
   "outputs": [
    {
     "name": "stdout",
     "output_type": "stream",
     "text": [
      "3 1000\n",
      "1523\n",
      "8\n",
      "8.0\n",
      "3.14159\n"
     ]
    }
   ],
   "source": [
    "from cmath import pi\n",
    "\n",
    "\n",
    "v = [3, 5, 10, 25, 100, 234, 1000, 93, 7, 46]\n",
    "\n",
    "print(min(v), max(v))\n",
    "print(sum(v))\n",
    "print(2**3)\n",
    "print(64**(1/2))\n",
    "\n",
    "print(round(pi, 5))\n"
   ]
  },
  {
   "cell_type": "markdown",
   "id": "0856c2a0-1620-43b9-b4b3-3838a3ff88e9",
   "metadata": {},
   "source": [
    "## Herausforderungen"
   ]
  },
  {
   "cell_type": "markdown",
   "id": "20cd93d3-8d08-478f-ad31-441223d8f843",
   "metadata": {},
   "source": [
    "### Übung 6: Verarbeitung von Zeichenketten\n",
    "a) Berechnen Sie die Länge einer beliebig langen selbst erstellen Zeichenkette und geben Sie dies aus. Werden die Leerzeichen mitgezählt?  \n",
    "b) Berechnen Sie die Anzahl an Wörter dieser Zeichenkette und geben Sie dies aus.  \n",
    "c) Finden Sie sogenannte Stoppwörter in dieser Zeichenkette. Recherchieren Sie dazu ggf. in der bekannten Literatur und im Internat nach dem Begriff Stoppwörter.\n"
   ]
  },
  {
   "cell_type": "code",
   "execution_count": 56,
   "id": "5e3aa2a9",
   "metadata": {},
   "outputs": [
    {
     "name": "stdout",
     "output_type": "stream",
     "text": [
      "11\n",
      "11\n",
      " \n",
      "1\n"
     ]
    }
   ],
   "source": [
    "txt = 'Hallo Welt!'\n",
    "j = 0\n",
    "k = 1 #k muss 1 sein, da sonst immer ein wort zu wenig gezählt wird -> das letzte da dort das Satzende ist\n",
    "\n",
    "for i in txt: #länge zählen\n",
    "    j += 1\n",
    "\n",
    "print(j)\n",
    "print(len(txt))\n",
    "print(txt[5]) #leerzeichen wir mitgezält und als eigenständiges element angesehen\n",
    "\n",
    "for e in txt:\n",
    "    if e ==' ':\n",
    "        k += 1\n",
    "    \n",
    "print(k)\n",
    "\n",
    "# stoppwörter werden in suchmaschinen nicht berücksichtigt da sie keinen Inhalt haben\n",
    "\n",
    "#liste von stoppwörtern anlegen\n",
    "#txt anlegen\n",
    "\n",
    "#jedes WORT mit der liste vergleichen und falls es übereinstimmt entweder entfernen oder zählen\n",
    "\n",
    "\n",
    "\n"
   ]
  },
  {
   "cell_type": "markdown",
   "id": "874a544f-1852-4143-aef9-bee4f8a9a1c7",
   "metadata": {
    "tags": []
   },
   "source": [
    "### Übung 7: Modulo und ganzzahlige Division\n",
    "a) Prüfen Sie, ob eine Zahl gerade oder ungerade ist.  \n",
    "b) Berechen Sie modulo mit Fließkommazahlen.  \n",
    "> __Hinweis:__ Die offizielle Python-Dokumentation empfiehlt die Verwendung von `math.fmod()` anstelle des Python-Modulo-Operators bei der Arbeit mit Fließkommazahlen, da math.fmod() das Ergebnis der Modulo-Operation berechnet.  \n",
    "\n",
    "c) Verwenden Sie `divmod()`, um die Ergebnisse der ganzzahligen Division und Modulo  als Tupel zu erhalten.  \n",
    "b) Verwenden Sie Modulo, um zwischen Einheiten umzurechnen. Gegeben seien 1440 Minuten. Berechnen Sie die Anzahl an Tagen und den Rest als Minuten."
   ]
  },
  {
   "cell_type": "code",
   "execution_count": 55,
   "id": "acf3759f-9d42-4b5c-80f1-0ce6096baff4",
   "metadata": {},
   "outputs": [
    {
     "name": "stdout",
     "output_type": "stream",
     "text": [
      "76 (38, 0)\n",
      "(1, 60)\n"
     ]
    }
   ],
   "source": [
    "\n",
    "\n",
    "import math\n",
    "import random\n",
    "\n",
    "numFloat = random.random() * 100\n",
    "numInt = random.randint(0, 100)\n",
    "\n",
    "resultFloat = math.fmod(num,2)\n",
    "\n",
    "divmodRes = divmod(numInt,2)\n",
    "print(numInt,divmodRes)\n",
    "#print(num, resultFloat)\n",
    "\n",
    "timeMin = random.randint(1500, 1500)\n",
    "\n",
    "timeDayMin= divmod(timeMin,60*24)\n",
    "\n",
    "print(timeDayMin)\n",
    "\n",
    "\n",
    "\n",
    "\n",
    "\n",
    "\n",
    "\n",
    "\n"
   ]
  },
  {
   "cell_type": "markdown",
   "id": "ed98b896-7310-4404-a318-cf2dfe840fbb",
   "metadata": {
    "tags": []
   },
   "source": [
    "### Übung 8: Zahlen und Mathe\n",
    "Schreiben Sie ein Programm, dass eine bereits bearbeitete Aufgabe aus ihrer Mathe-VL berechnen kann."
   ]
  },
  {
   "cell_type": "code",
   "execution_count": null,
   "id": "c7a9c234-37c0-4c91-853a-b0c3031d6206",
   "metadata": {},
   "outputs": [],
   "source": [
    "# Vorgehensweise: Teile und Herrsche Prinzip\n",
    "# 1. Teilen Sie die Matheaufgabe in ihre Bestandteile auf.\n",
    "# 2. Weisen Sie den Bestandteilen Variablen zu.\n",
    "# 3. Erstellen Sie Zwischenrechnungen der Bestandteile.\n",
    "# 4. Bilden Sie die mathematische Formel durch Anordnung der Variablen mit entsprechenden Operatoren nach.\n",
    "# 5. Setzen Sie die Bestandteile in die Rechenvorschrift/Formel ein.\n",
    "# 6. Verifizieren Sie das programmatische Ergebnis mit ihrem schriftlichem Ergebnis.\n",
    "# 7. Suchen Sie nach einer passenden Build-In Funktion oder importieren Sie ein geeignetes Modul für die effizientere Berechnung der Matheaufgabe."
   ]
  },
  {
   "cell_type": "markdown",
   "id": "079f0f26-ac4f-4302-a486-a49c121a4a9f",
   "metadata": {},
   "source": [
    "# Weiterführendes Material  \n",
    "- https://docs.python.org/3.10/library/platform.html  \n",
    "- https://www.mockaroo.com  \n",
    "- https://pypi.org/project/python-lorem/  "
   ]
  }
 ],
 "metadata": {
  "kernelspec": {
   "display_name": "Python 3 (ipykernel)",
   "language": "python",
   "name": "python3"
  },
  "language_info": {
   "codemirror_mode": {
    "name": "ipython",
    "version": 3
   },
   "file_extension": ".py",
   "mimetype": "text/x-python",
   "name": "python",
   "nbconvert_exporter": "python",
   "pygments_lexer": "ipython3",
   "version": "3.10.6"
  },
  "vscode": {
   "interpreter": {
    "hash": "157110400edfb0ce6482c2ce036bf5e9c0a32f0542589f44aa0c75eb2f883e34"
   }
  }
 },
 "nbformat": 4,
 "nbformat_minor": 5
}
