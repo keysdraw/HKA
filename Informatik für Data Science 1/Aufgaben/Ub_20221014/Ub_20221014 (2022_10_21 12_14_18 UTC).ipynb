{
 "cells": [
  {
   "cell_type": "markdown",
   "id": "0cf2bf05-1780-4c66-abf8-7da9f53e0559",
   "metadata": {},
   "source": [
    "# Übungsblatt 3\n",
    "## DSCB130 | 3.2 Einführung in Python\n",
    "\n",
    "Freitag, 14.10.2022"
   ]
  },
  {
   "cell_type": "markdown",
   "id": "4a78b26a-c586-44d4-ab25-87f6a62a9e0d",
   "metadata": {
    "tags": []
   },
   "source": [
    "## Grundlagen"
   ]
  },
  {
   "cell_type": "markdown",
   "id": "8be4d26c-7a82-44c1-892a-f8b3adb13259",
   "metadata": {},
   "source": [
    "### Übung 1: Richtige Variablendeklarationen\n",
    "Betrachten Sie folgende Beispiele und führen Sie den Code aus."
   ]
  },
  {
   "cell_type": "code",
   "execution_count": 1,
   "id": "344cd0ac-b58c-4fae-8577-58294fc8312e",
   "metadata": {},
   "outputs": [
    {
     "name": "stdout",
     "output_type": "stream",
     "text": [
      "<class 'int'>,0\n"
     ]
    }
   ],
   "source": [
    "# Richtige Variablendeklarationen\n",
    "number = 0 # deklariert eine Variable number vom Typ int\n",
    "print(type(number), number, sep=\",\")"
   ]
  },
  {
   "cell_type": "code",
   "execution_count": 2,
   "id": "2b40e7bb-6627-4b12-8b2e-17e314a0c3fe",
   "metadata": {},
   "outputs": [
    {
     "name": "stdout",
     "output_type": "stream",
     "text": [
      "<class 'float'>,0.0\n"
     ]
    }
   ],
   "source": [
    "price = 0.0 # deklariert eine Variable price vom Typ float\n",
    "print(type(price), price, sep=\",\")"
   ]
  },
  {
   "cell_type": "code",
   "execution_count": 4,
   "id": "16907c6a-3155-4c74-b0c9-eb05b79c6b90",
   "metadata": {},
   "outputs": [
    {
     "name": "stdout",
     "output_type": "stream",
     "text": [
      "<class 'float'>,1.0\n"
     ]
    }
   ],
   "source": [
    "size = 1e0 # deklariert eine Variable size vom Typ float\n",
    "print(type(size), size, sep=\",\")"
   ]
  },
  {
   "cell_type": "code",
   "execution_count": 5,
   "id": "0ebaeb65-cc9e-41d9-aab9-980d9412ff90",
   "metadata": {},
   "outputs": [
    {
     "name": "stdout",
     "output_type": "stream",
     "text": [
      "<class 'str'>,\n"
     ]
    }
   ],
   "source": [
    "name = \"\" #  deklariert eine Variable name vom Typ str\n",
    "print(type(name), name, sep=\",\")"
   ]
  },
  {
   "cell_type": "code",
   "execution_count": 9,
   "id": "b1bb3c0e-9277-4e4d-ba1c-ac870d4ed5c1",
   "metadata": {},
   "outputs": [
    {
     "name": "stdout",
     "output_type": "stream",
     "text": [
      "<class 'complex'>,0j\n"
     ]
    }
   ],
   "source": [
    "inumber = 0 + 0j #  deklariert eine Variable inumber vom Typ complex\n",
    "print(type(inumber), inumber, sep=\",\")"
   ]
  },
  {
   "cell_type": "code",
   "execution_count": 10,
   "id": "888caf9b-434b-4bd5-8b9a-535fa6538857",
   "metadata": {},
   "outputs": [
    {
     "name": "stdout",
     "output_type": "stream",
     "text": [
      "<class 'bool'>,True\n"
     ]
    }
   ],
   "source": [
    "wahr = True #  deklariert eine Variable wahr vom Typ bool\n",
    "print(type(wahr), wahr, sep=\",\")"
   ]
  },
  {
   "cell_type": "code",
   "execution_count": null,
   "id": "93ed4df7-ae65-4b27-8121-f541ccbe8aa2",
   "metadata": {},
   "outputs": [],
   "source": [
    "# Fehlerhafte Variablendeklarationen!"
   ]
  },
  {
   "cell_type": "code",
   "execution_count": null,
   "id": "3dcb4097-d002-48a0-a327-c1a29de5d244",
   "metadata": {},
   "outputs": [],
   "source": [
    "&count = 42 # Bezeichner von Variablen dürfen kein & enthalten"
   ]
  },
  {
   "cell_type": "code",
   "execution_count": null,
   "id": "e5ce1754-44b2-4710-9fbf-15b3c45cde0f",
   "metadata": {},
   "outputs": [],
   "source": [
    "1number = 42 # Bezeichner von Variablen dürfen nicht mit einer Zahl beginnen"
   ]
  },
  {
   "cell_type": "code",
   "execution_count": null,
   "id": "3c29f04d-b5ba-44e2-b77b-149942b28551",
   "metadata": {},
   "outputs": [],
   "source": [
    "as = 1 # Bezeichner dürfen nicht mit Schlüsselwörtern übereinstimmen"
   ]
  },
  {
   "cell_type": "markdown",
   "id": "67b6c0a0-d6de-4e58-89f7-d3cb11a5877a",
   "metadata": {},
   "source": [
    "### Übung 2: Syntax\n",
    "a) Was verstehen Sie unter einem Literal?  \n",
    "b) Wie würden Sie mehrzeilige Zeichenfolgen (`Strings`) in Python darstellen?  \n",
    "c) Suchen Sie in der Literatur [7] nach Escape-Zeichen in Python und verwenden Sie mindestens drei davon in einem beliebigen Text. Geben Sie diesen Text aus."
   ]
  },
  {
   "cell_type": "markdown",
   "id": "b0cacdce",
   "metadata": {},
   "source": [
    "ein Literal ist die Zuweisung für eine Variable"
   ]
  },
  {
   "cell_type": "code",
   "execution_count": null,
   "id": "90a38249",
   "metadata": {},
   "outputs": [],
   "source": [
    "''' \n",
    "1\n",
    "2\n",
    "3\n",
    "4\n",
    "5\n",
    "'''"
   ]
  },
  {
   "cell_type": "code",
   "execution_count": 24,
   "id": "4675b9e8",
   "metadata": {},
   "outputs": [
    {
     "name": "stdout",
     "output_type": "stream",
     "text": [
      "\"Vikings\", so-called \n",
      "the \t\t'north'.\n"
     ]
    }
   ],
   "source": [
    "txt = \"We are the so-called \\r\\\"Vikings\\\", \\nfrom \\rthe \\t\\t\\'north'.\"\n",
    "\n",
    "print(txt)"
   ]
  },
  {
   "cell_type": "markdown",
   "id": "f7bafcbc-ff1d-4dc8-88f6-29741a3ce464",
   "metadata": {},
   "source": [
    "### Übung 3: f-String Ausgaben\n"
   ]
  },
  {
   "cell_type": "code",
   "execution_count": 26,
   "id": "11b59e91-2b0b-4aee-ba8e-8ccb81db1c93",
   "metadata": {},
   "outputs": [
    {
     "name": "stdout",
     "output_type": "stream",
     "text": [
      "Nur echte Köllner kaufen 2 Flaschen 4711 für 39.900000€ die Flasche\n"
     ]
    }
   ],
   "source": [
    "quantity = 2\n",
    "itemno = 4711\n",
    "price = 39.90\n",
    "# Schreiben Sie eine Anweisung, die einen sinnvollen Satz unter Verwendung der drei Variablen ausgibt.\n",
    "\n",
    "print('Nur echte Köllner kaufen %d Flaschen %d für %f€ die Flasche' %(quantity, itemno, price))"
   ]
  },
  {
   "cell_type": "markdown",
   "id": "ad2a0804-9083-46ff-8729-a6f4a22acc14",
   "metadata": {},
   "source": [
    "## Herausforderungen"
   ]
  },
  {
   "cell_type": "code",
   "execution_count": 27,
   "id": "ad837a2a-4c42-4b3d-acf1-53d3dedcd2d5",
   "metadata": {},
   "outputs": [
    {
     "name": "stdout",
     "output_type": "stream",
     "text": [
      "9\n"
     ]
    }
   ],
   "source": [
    "# Wie kann man am einfachsten das letzte Zeichen einer Liste ausgeben?\n",
    "liste = [0,1,2,3,4,5,6,7,8,9]\n",
    "\n",
    "print(liste[-1])"
   ]
  },
  {
   "cell_type": "code",
   "execution_count": 45,
   "id": "b1647233-9609-48d2-a575-2bf52ba21baf",
   "metadata": {},
   "outputs": [
    {
     "name": "stdout",
     "output_type": "stream",
     "text": [
      "\n",
      "    Fehler bei Eingabe.\n",
      "    Beachte das gerundet wird und nur Ziffern zulässig sind.\n",
      "    \n"
     ]
    }
   ],
   "source": [
    "# Schreiben Sie ein Programm, dass eine Benutzer-Eingabe prüft,\n",
    "# ob die eingegebene Zahl gerade oder ungerade ist.\n",
    "# Geben Sie das Ergebnis dieser Überprüfung aus.\n",
    "\n",
    "try:\n",
    "    number = int(input('Bitte Ziffer eingeben'))\n",
    "\n",
    "    if number % 2 == 0:\n",
    "        print('Ziffer ist gerade')\n",
    "    else:\n",
    "        print('Ziffer ist ungerade')\n",
    "except ValueError:\n",
    "    print('''\n",
    "    Fehler bei Eingabe.\n",
    "    Beachte das gerundet wird und nur Ziffern zulässig sind.\n",
    "    ''')"
   ]
  },
  {
   "cell_type": "markdown",
   "id": "6a6b68fd-ae6d-4d4a-9619-6adabac9e5b5",
   "metadata": {},
   "source": [
    " # Weiterführendes Material  \n",
    "- https://realpython.com/python-input-output/\n",
    "- https://realpython.com/python-print/\n",
    "- https://realpython.com/python-f-strings/\n",
    "- https://peps.python.org/pep-0502/\n",
    "- https://realpython.com/python-string-formatting\n",
    "- https://www.w3schools.com/python/ref_string_format.asp\n",
    "- https://realpython.com/python-formatted-output/\n",
    "- https://realpython.com/python-lists-tuples/"
   ]
  }
 ],
 "metadata": {
  "kernelspec": {
   "display_name": "Python 3.10.4 ('DSCB130')",
   "language": "python",
   "name": "python3"
  },
  "language_info": {
   "codemirror_mode": {
    "name": "ipython",
    "version": 3
   },
   "file_extension": ".py",
   "mimetype": "text/x-python",
   "name": "python",
   "nbconvert_exporter": "python",
   "pygments_lexer": "ipython3",
   "version": "3.10.4"
  },
  "toc-autonumbering": false,
  "vscode": {
   "interpreter": {
    "hash": "36be8c935b215e9ae8c5ce483fb0259ffd74fa34a4c5e5096a36e20f14630558"
   }
  }
 },
 "nbformat": 4,
 "nbformat_minor": 5
}
