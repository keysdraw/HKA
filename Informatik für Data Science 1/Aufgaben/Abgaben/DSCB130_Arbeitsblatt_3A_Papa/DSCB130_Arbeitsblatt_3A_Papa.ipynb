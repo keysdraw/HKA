{
 "cells": [
  {
   "cell_type": "markdown",
   "metadata": {},
   "source": [
    "# DSCB130 Informatik für Data Science 1 – Arbeitsblatt 3A\n",
    "\n",
    "| Gruppe | RZ-Kürzel | Name, Vorname | Punkte max. |\n",
    "|---|---|---|---|\n",
    "| Papa | bala1033 | Baumann, Lars |  |\n",
    "| Papa | poch1012 | Pohlan, Christina |   |\n",
    "| Papa | scju1033 | Schneider, Julian |   |\n",
    "\n",
    "__Hinweise__\n",
    "- Tragen Sie die fehlenden Daten in der Tabelle ein.  \n",
    "- Bearbeiten Sie Ihre Lösungen in diesem Dokument.  \n",
    "- Verwenden Sie folgende Dateinamen-Syntax entsprechend Ihrer Gruppe: DSCB130_Arbeitsblatt_3A_Gruppe.  \n",
    "- Das Übungsblatt sollte durch ein Gruppenmitglied per Upload in ILIAS fristgerecht abgegeben werden.  \n",
    "- Verwenden Sie für den Upload das Dateiformat ZIP.  \n",
    "- Teilpunkte sind je Aufgabe angegeben. Die Summe aller Teilpunkte wird abschließend mit 0,1 multipliziert.  \n",
    "- Die Bewertung berücksichtigt teilweise korrekte Lösungen.\n",
    "\n",
    "\n",
    "Das weiterführende Material soll Ihnen bei der Bearbeitung eine Hilfestellung bieten."
   ]
  },
  {
   "cell_type": "markdown",
   "metadata": {},
   "source": [
    "__Aufgabenstellung__"
   ]
  },
  {
   "cell_type": "markdown",
   "metadata": {},
   "source": [
    "# Aufgabe 1 (•): Zahlenumwandlung\n",
    "Wandeln Sie mithilfe der Built-in Funktionen von Python folgende Zahlen in binär und hexadezimal Werte um.  \n",
    "Wandeln Sie anschließend die Werte zur validierung in Dezimalwerte wieder zurück.\n",
    "\n",
    "a) 20221104  \n",
    "b) 3405691582  \n",
    "\n",
    "\n",
    "__Syntax__  \n",
    "String-Präfix `0b` oder `bin()`  \n",
    "String-Präfix `0x` oder `hex()` \n",
    "\n",
    "__Weiterführendes Material:__  \n",
    "- https://docs.python.org/3.10/library/functions.html#built-in-functions  \n",
    "- https://docs.python.org/3.10/library/functions.html#format"
   ]
  },
  {
   "cell_type": "code",
   "execution_count": 7,
   "metadata": {},
   "outputs": [
    {
     "name": "stdout",
     "output_type": "stream",
     "text": [
      "\n",
      "    A) Binär: 0b1001101001000110010110000, Hex: 0x1348cb0,\n",
      "    Dezimal :20221104, Dezimal: 20221104\n",
      "    B) Binär: 0b11001010111111101011101010111110, Hex: 0xcafebabe\n",
      "    Dezimal :3405691582, Dezimal: 3405691582    \n",
      "    \n"
     ]
    }
   ],
   "source": [
    "a = 20221104\n",
    "b = 3405691582\n",
    "print(\n",
    "    f'''\n",
    "    A) Binär: {bin(a)}, Hex: {hex(a)},\n",
    "    Dezimal :{int(bin(a),2)}, Dezimal: {int(hex(a),16)}\n",
    "    B) Binär: {bin(b)}, Hex: {hex(b)}\n",
    "    Dezimal :{int(bin(b),2)}, Dezimal: {int(hex(b),16)}    \n",
    "    '''\n",
    "    )"
   ]
  },
  {
   "cell_type": "markdown",
   "metadata": {},
   "source": [
    "# Aufgabe 2 (••): Wissenschaftliche Darstellung von Zahlen  \n",
    "a) Stellen Sie die Zahlen z1, z2, z3 in wissenschaftlicher Notation dar.  \n",
    "Verwenden Sie hierfür das Modul `math` sowie die Funktion `frexp()`.  \n",
    "Wieso kann die Zahl z3 nicht dargestellt werden?  \n",
    "Welcher Fehler tritt auf?  \n",
    "\n",
    "```python\n",
    "z1 = 0xc0ffee  \n",
    "z2 = 47.11  \n",
    "z3 = 'AFFE'\n",
    "```\n",
    "\n",
    "__Syntax__  \n",
    "```python\n",
    "math.frexp(x)  \n",
    "```\n",
    "\n",
    "b) Wenn Sie eine lange Zahl haben, können Sie die Zifferngruppen zum besseren Verständnis beliebig mit Unterstrichen `_` trennen.\n",
    "\n",
    "```python\n",
    "million = 1_000_000\n",
    "binary = 0b_0010_1010\n",
    "octa = 0o_64\n",
    "hexa = 0x_23_ab\n",
    "```\n",
    "\n",
    "Überprüfen Sie durch Ausgabe der Variablen, dass sich dadurch der Wert nicht verändert. Probieren Sie selbst eigene Werte.\n",
    "\n",
    "__Weiterführendes Material:__  \n",
    "- https://docs.python.org/3.10/library/math.html#math.frexp  \n",
    "- https://www.w3schools.com/python/ref_math_frexp.asp"
   ]
  },
  {
   "cell_type": "code",
   "execution_count": 28,
   "metadata": {},
   "outputs": [
    {
     "name": "stdout",
     "output_type": "stream",
     "text": [
      "0.753905177116394*2**24\n",
      "0.73609375*2**6\n",
      "z3 ist vom type str, kann daher nicht in Mantisse und Exponenten aufgeteilt werden\n"
     ]
    }
   ],
   "source": [
    "import math\n",
    "\n",
    "z1 = 0xc0ffee  \n",
    "z2 = 47.11  \n",
    "z3 = 'AFFE'\n",
    "\n",
    "z_list = [z1, z2, z3]\n",
    "try:        \n",
    "    for i in z_list:\n",
    "        mant_e_tuple = math.frexp(i)\n",
    "        mant = mant_e_tuple[0]\n",
    "        e = mant_e_tuple[1]\n",
    "        print(f'{mant}*2**{e}')\n",
    "except TypeError:\n",
    "    print('z3 ist vom type str, kann daher nicht in Mantisse und Exponenten aufgeteilt werden')\n"
   ]
  },
  {
   "cell_type": "code",
   "execution_count": 13,
   "metadata": {},
   "outputs": [
    {
     "ename": "NameError",
     "evalue": "name '_0o_000_000_00_0_0_4' is not defined",
     "output_type": "error",
     "traceback": [
      "\u001b[0;31m---------------------------------------------------------------------------\u001b[0m",
      "\u001b[0;31mNameError\u001b[0m                                 Traceback (most recent call last)",
      "\u001b[0;32m/tmp/ipykernel_4431/1421874378.py\u001b[0m in \u001b[0;36m<module>\u001b[0;34m\u001b[0m\n\u001b[1;32m      7\u001b[0m \u001b[0mdec2\u001b[0m \u001b[0;34m=\u001b[0m \u001b[0;36m4\u001b[0m\u001b[0;34m\u001b[0m\u001b[0;34m\u001b[0m\u001b[0m\n\u001b[1;32m      8\u001b[0m \u001b[0mbinary2\u001b[0m \u001b[0;34m=\u001b[0m \u001b[0;36m0b0_100\u001b[0m\u001b[0;34m\u001b[0m\u001b[0;34m\u001b[0m\u001b[0m\n\u001b[0;32m----> 9\u001b[0;31m \u001b[0mocta2\u001b[0m \u001b[0;34m=\u001b[0m \u001b[0m_0o_000_000_00_0_0_4\u001b[0m\u001b[0;34m\u001b[0m\u001b[0;34m\u001b[0m\u001b[0m\n\u001b[0m\u001b[1;32m     10\u001b[0m \u001b[0mhexa2\u001b[0m \u001b[0;34m=\u001b[0m \u001b[0;36m0x4\u001b[0m\u001b[0;34m\u001b[0m\u001b[0;34m\u001b[0m\u001b[0m\n\u001b[1;32m     11\u001b[0m \u001b[0;34m\u001b[0m\u001b[0m\n",
      "\u001b[0;31mNameError\u001b[0m: name '_0o_000_000_00_0_0_4' is not defined"
     ]
    }
   ],
   "source": [
    "million = 1_000_000\n",
    "binary = 0b_0010_1010\n",
    "octa = 0o_64\n",
    "hexa = 0x_23_ab\n",
    "\n",
    "#'_' will be ignored, whichever position it as in a number, as long as the following character isn't another '_' or it isn't at the end of the literal\n",
    "dec2 = 4\n",
    "binary2 = 0b0_100\n",
    "octa2 = 0o_000_000_00_0_0_4\n",
    "hexa2 = 0x4\n",
    "\n",
    "print(million, binary, octa, hexa)\n",
    "\n",
    "print(dec2, binary2, octa2, hexa2)\n",
    "\n",
    "\n",
    "\n",
    "\n"
   ]
  },
  {
   "cell_type": "markdown",
   "metadata": {},
   "source": [
    "# Aufgabe 3 (•••): Zeichenkettenmanipulation\n",
    "Leetspeak bezeichnet im Netzjargon das Ersetzen von Buchstaben durch ähnlich aussehende Ziffern sowie – je nach Definition – auch Sonderzeichen. Die häufige Schreibweise 1337 für Leetspeak entstand aus dem englischen Wort Elite. Manchmal sind bestimmte Buchstaben mit bestimmten Zahlen verbunden. Wenn Sie also den Buchstaben durch die Zahl ersetzen, lesen Menschen sie wie gewohnt.\n",
    "Hier ist eine kurze Liste von Buchstaben, die durch Zahlen ersetzt werden können:\n",
    "\n",
    "A für 4  \n",
    "E für 3  \n",
    "B für 8  \n",
    "S für 5  \n",
    "O für 0  \n",
    "L ooder I für 1  \n",
    "Z für 2  \n",
    "T für 7  \n",
    "\n",
    "Erzeugen Sie die Zeichenkette _\"1nn0v4t10n st4rts w1th s1mpl3 pr0bl3ms\"_ durch Zeichenkettenmanipulation aus der ursprünglichen Zeichenkette _\"Innovation starts with simple problems\"_.\n",
    "\n",
    "Verwenden Sie die Methoden `maketrans()` und `translate()`. `translate()` gibt eine Zeichenkette zurück, in der einige angegebene Zeichen durch die in einem Wörterbuch oder einer Zuordnungstabelle beschriebenen Zeichen ersetzt werden.\n",
    "\n",
    "> __Tipp:__ Verwenden Sie alternativ for-Schleife(n) und die Datenstruktur Dictionary für die Zeichen-Abbildung (_mapping_).\n",
    "\n",
    "__Weiterführendes Material:__\n",
    "- https://en.wikipedia.org/wiki/Leet  \n",
    "- https://de.wikipedia.org/wiki/Leetspeak  \n",
    "- https://docs.python.org/3.10/library/stdtypes.html#str.maketrans  \n",
    "- https://docs.python.org/3.10/library/stdtypes.html#str.translate  \n",
    "- https://www.w3schools.com/python/ref_string_maketrans.asp"
   ]
  },
  {
   "cell_type": "code",
   "execution_count": 57,
   "metadata": {},
   "outputs": [
    {
     "data": {
      "text/plain": [
       "'1nn0v4710n 574r75 w17h 51mpl3 pr08l3m5'"
      ]
     },
     "execution_count": 57,
     "metadata": {},
     "output_type": "execute_result"
    }
   ],
   "source": [
    "#in example above the alphabet only constists of I,A,E,O and their lowercase variants\n",
    "\n",
    "def convert_str_1337(text: str): \n",
    "\n",
    "    '''converts a str to Leetspeak'''\n",
    "\n",
    "    #definition of alphabet for conversion\n",
    "    alphabet = {\n",
    "        'A': 4,'a': 4,\n",
    "        'E': 3,'e': 3,\n",
    "        'B': 8,'b': 8,\n",
    "        'S': 5,'s': 5,\n",
    "        'O': 0,'o': 0,\n",
    "        'I': 1,'i': 1,\n",
    "        'Z': 2,'z': 2,\n",
    "        'T': 7,'t': 7\n",
    "    }\n",
    "\n",
    "    #checking each character for membership in alphabet and replacing with its assigned value, if it's true\n",
    "    for i in text:\n",
    "        if i in A:\n",
    "            text = text.replace(i,str(alphabet[i]))\n",
    "\n",
    "    return text\n",
    "\n",
    "\n",
    "convert_str_1337('Innovation starts with simple problems') \n",
    "#this conversion is more radical than in the given example, but still fulfills the purpose, the alphabet could be updated to resemble the example \n",
    "\n"
   ]
  },
  {
   "cell_type": "markdown",
   "metadata": {},
   "source": [
    "# Aufgabe 3 (•••): Datenstruktur List\n",
    "Erstellen Sie eine Liste mit 100 ganzzahligen Zufallszahlen aus dem Intervall 0 bis 1000. Verwenden Sie hierzu die Methode `randint` aus dem Modul random.  \n",
    "Entfernen Sie Dubletten durch Konvertierung der List in die Datenstruktur `set`. Wandeln Sie das bereinigte Set in eine Liste zurück und sortieren Sie die Werte absteigend. Geben Sie die sortierte Liste aus.\n",
    "\n"
   ]
  },
  {
   "cell_type": "code",
   "execution_count": 17,
   "metadata": {},
   "outputs": [
    {
     "name": "stdout",
     "output_type": "stream",
     "text": [
      "[32, 844, 414, 196, 343, 529, 364, 801, 794, 445, 5, 165, 500, 139, 661, 150, 50, 19, 517, 368, 366, 418, 942, 896, 481, 221, 998, 149, 262, 977, 144, 569, 399, 295, 440, 221, 45, 263, 268, 104, 342, 203, 600, 11, 846, 587, 764, 795, 557, 921, 670, 619, 127, 352, 988, 423, 565, 589, 647, 945, 26, 383, 383, 247, 971, 304, 17, 385, 335, 683, 545, 91, 108, 729, 127, 167, 744, 851, 246, 684, 690, 940, 295, 533, 250, 268, 131, 355, 321, 879, 819, 977, 489, 782, 43, 772, 747, 815, 891, 428]\n"
     ]
    },
    {
     "data": {
      "text/plain": [
       "100"
      ]
     },
     "execution_count": 17,
     "metadata": {},
     "output_type": "execute_result"
    }
   ],
   "source": [
    "import random\n",
    "random_list = []\n",
    "\n",
    "for i in range(100):\n",
    "    random_list.append(random.randint(0,1000))\n",
    "\n",
    "    j = 0\n",
    "print(random_list)\n",
    "len(random_list)\n"
   ]
  },
  {
   "cell_type": "markdown",
   "metadata": {},
   "source": [
    "# Aufgabe 4 (••••): Datenstruktur Dictionary\n",
    "Schreiben Sie ein Programm `produktdaten.py`, das insgesamt drei Produkte mit je seinen Ausprägungen \"Produktkategorie\", \"Herstellername\" und \"Preis\" vom Anwender erfragt und anschließend ausgibt.  \n",
    "\n",
    "Verwenden Sie die Anweisung `input()` für die Eingabe, die Datenstruktur `dict` zum speichern der Schlüssel-Wert-Paare und `print()` für die Ausgabe.  \n",
    "\n",
    "Für das bessere Verständnis des Programms ist der Quellcode zu kommentieren."
   ]
  },
  {
   "cell_type": "code",
   "execution_count": 22,
   "metadata": {},
   "outputs": [
    {
     "name": "stdin",
     "output_type": "stream",
     "text": [
      "\n",
      "    Produktkategorie, Hersteller und Preis eingeben.\n",
      "    In Format: Kategorie, Hersteller, Preis\n",
      "     ,,\n"
     ]
    },
    {
     "name": "stdout",
     "output_type": "stream",
     "text": [
      "{'Kategorie': '', 'Hersteller': '', 'Preis': ''}\n"
     ]
    }
   ],
   "source": [
    "%run produktdaten.py"
   ]
  },
  {
   "cell_type": "markdown",
   "metadata": {},
   "source": [
    "# Aufgabe 5 (••): Programm zur Temperaturumrechnung"
   ]
  },
  {
   "cell_type": "markdown",
   "metadata": {},
   "source": [
    "Schreiben Sie ein Programm zur Temperaturumrechnung, dass vom angloamerikanischen Fahrenheit (°F) in das internationale Einheitensystem nach Celsius (°C) umrechnet und vice versa.  \n",
    "\n",
    "Verwenden Sie `input()` für die Eingabe, Variablen zum speichern von Werten und `print()` für die Ausgabe.  \n",
    "\n",
    "Das Programm soll Gleitpunktzahlen verarbeiten können.  \n",
    "Die Darstellung der Ausgabewerte soll in geeigneter Weise gerundet werden. Für das bessere Verständnis des Programms ist der Quellcode zu kommentieren."
   ]
  },
  {
   "cell_type": "code",
   "execution_count": 4,
   "metadata": {},
   "outputs": [
    {
     "name": "stdout",
     "output_type": "stream",
     "text": [
      "37.0° Celsius sind 98.6° Fahrenheit\n"
     ]
    }
   ],
   "source": [
    "%run temperature_conversion.py"
   ]
  }
 ],
 "metadata": {
  "kernelspec": {
   "display_name": "Python 3 (ipykernel)",
   "language": "python",
   "name": "python3"
  },
  "language_info": {
   "codemirror_mode": {
    "name": "ipython",
    "version": 3
   },
   "file_extension": ".py",
   "mimetype": "text/x-python",
   "name": "python",
   "nbconvert_exporter": "python",
   "pygments_lexer": "ipython3",
   "version": "3.9.13"
  },
  "toc-autonumbering": false,
  "vscode": {
   "interpreter": {
    "hash": "916dbcbb3f70747c44a77c7bcd40155683ae19c65e1c03b4aa3499c5328201f1"
   }
  }
 },
 "nbformat": 4,
 "nbformat_minor": 4
}
