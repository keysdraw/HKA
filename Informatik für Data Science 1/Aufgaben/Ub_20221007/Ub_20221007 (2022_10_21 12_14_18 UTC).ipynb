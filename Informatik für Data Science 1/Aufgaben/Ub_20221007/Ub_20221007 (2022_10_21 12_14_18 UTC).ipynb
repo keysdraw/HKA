{
 "cells": [
  {
   "cell_type": "markdown",
   "id": "68cdead9-d4b5-488a-9377-e5c16957ff53",
   "metadata": {},
   "source": [
    "# Übungsblatt 2\n",
    "## DSCB130 | 3.2 Einführung in Python\n",
    "\n",
    "Freitag, 07.10.2022"
   ]
  },
  {
   "cell_type": "markdown",
   "id": "bb93cf7d-be72-490e-8642-6796da9a2452",
   "metadata": {},
   "source": [
    "## Grundlagen"
   ]
  },
  {
   "cell_type": "markdown",
   "id": "32a36034-1b47-4300-b570-2876d7fc6617",
   "metadata": {},
   "source": [
    "### Übung 1: Arbeiten mit grundlegenden Sprachelementen\n",
    "a) Was verstehen Sie unter einer Variablen, und welche Gültigkeitsbereiche gibt es?  \n",
    "b) Welche Zahlenart kann eine als `int` deklarierte Variable in Python darstellen?  "
   ]
  },
  {
   "cell_type": "code",
   "execution_count": null,
   "id": "aa4c71ab-573b-462b-864c-d91cda08be7e",
   "metadata": {},
   "outputs": [],
   "source": [
    "grussworte = \"Welt, seid mir gegrüßt!\"  # Bekannte Grußworte von Thomas Panke, https://www.held-der-steine.de"
   ]
  },
  {
   "cell_type": "code",
   "execution_count": null,
   "id": "21821c1d-efcc-4a3e-8f3c-4e969eca9085",
   "metadata": {},
   "outputs": [],
   "source": [
    "# Zeichenkette mit doppelten Anführungszeichen kann einfache Anführungszeichen enthalten.\n",
    "c = b\"Contain embedded 'single' quotes\"\n",
    "print(c)"
   ]
  },
  {
   "cell_type": "code",
   "execution_count": null,
   "id": "15365447-e9fa-483d-93f7-168711f26e53",
   "metadata": {},
   "outputs": [],
   "source": [
    "# Geschützes einfaches Anführungszeichen mit vorangestelltem Bachslash \\, das sonst die Zeichenkette beendet wäre.\n",
    "c = b'Contain embedded Tim\\'s quotes'\n",
    "print(c)"
   ]
  },
  {
   "cell_type": "code",
   "execution_count": null,
   "id": "b5dafc66-956a-494f-9bbe-41b76b9119aa",
   "metadata": {},
   "outputs": [],
   "source": [
    "x = \"Thomas\"\n",
    "# is the same as\n",
    "x = 'Thomas'"
   ]
  },
  {
   "cell_type": "code",
   "execution_count": null,
   "id": "41d20710-e237-40f3-a91f-0f9d303b1e61",
   "metadata": {},
   "outputs": [],
   "source": [
    "myvar = \"John\"\n",
    "my_var = \"John\"\n",
    "_my_var = \"John\"\n",
    "myVar = \"John\"\n",
    "MYVAR = \"John\"\n",
    "myvar2 = \"John\""
   ]
  },
  {
   "cell_type": "code",
   "execution_count": null,
   "id": "2b8e9a18-5689-40c0-89c0-a400b37168fa",
   "metadata": {},
   "outputs": [],
   "source": [
    "# Illegal variable names:\n",
    "2myvar = \"John\"\n",
    "my-var = \"John\"\n",
    "my var = \"John\""
   ]
  },
  {
   "cell_type": "code",
   "execution_count": null,
   "id": "16c76d64-c0e8-45d6-8467-4f183078486c",
   "metadata": {},
   "outputs": [],
   "source": [
    "var_1 = \"Hallo\" # String\n",
    "var_2 = 2  # int\n",
    "var_3 = \"2\" # String mit einer Zahl als Inhalt\n",
    "\n",
    "print(var_1 + var_3) # String-Verkettung ohne Umwandlung\n",
    "print(var_1 + str(var_2)) # Umwandlung des int var2\n",
    "print(str(var_2) + var_3) # Umwandlung des int var2\n"
   ]
  },
  {
   "cell_type": "code",
   "execution_count": null,
   "id": "4771ec07-58ac-4e91-b611-74a6dafae284",
   "metadata": {},
   "outputs": [],
   "source": [
    "öpnv = \"KVV\""
   ]
  },
  {
   "cell_type": "code",
   "execution_count": null,
   "id": "e8f0a178-7445-46c5-b210-894cc6bda738",
   "metadata": {},
   "outputs": [],
   "source": [
    "\"\"\"\n",
    "This is a comment\n",
    "written in\n",
    "more than just one line\n",
    "\"\"\"\n",
    "print(\"8\", \"4\", sep=\"*\")"
   ]
  },
  {
   "cell_type": "code",
   "execution_count": null,
   "id": "c43d875e-7b32-4561-92d0-261e1af29f17",
   "metadata": {},
   "outputs": [],
   "source": [
    "x = 5\n",
    "y = \"Thomas\"\n",
    "print(x)\n",
    "print(y)"
   ]
  },
  {
   "cell_type": "code",
   "execution_count": null,
   "id": "334b6c97-42e7-4b81-bc09-079573d96f9d",
   "metadata": {},
   "outputs": [],
   "source": [
    "a = b = c = 300\n",
    "print(a, b, c)"
   ]
  },
  {
   "cell_type": "code",
   "execution_count": null,
   "id": "0cf2e76c-6365-47c6-8076-ed90dfa4b3c3",
   "metadata": {},
   "outputs": [],
   "source": [
    "# Python kann rechnen\n",
    "5+3"
   ]
  },
  {
   "cell_type": "code",
   "execution_count": 4,
   "id": "438787b4-314d-4a94-a366-fb84294eb88e",
   "metadata": {},
   "outputs": [],
   "source": [
    "# Floor division\n",
    "floor_division = 5 // 3 # Ergebnis der Division ohne Rest"
   ]
  },
  {
   "cell_type": "code",
   "execution_count": 2,
   "id": "e459aab2",
   "metadata": {},
   "outputs": [
    {
     "name": "stdout",
     "output_type": "stream",
     "text": [
      "2\n"
     ]
    }
   ],
   "source": [
    "\n",
    "# Modulus (returns the remainder from division)\n",
    "modulo_remainder = 5 % 3 # Rest der bei Division übrig bleibt\n",
    "print(modulo_remainder)"
   ]
  },
  {
   "cell_type": "code",
   "execution_count": 3,
   "id": "4697383f",
   "metadata": {},
   "outputs": [
    {
     "name": "stdout",
     "output_type": "stream",
     "text": [
      "125\n"
     ]
    }
   ],
   "source": [
    "\n",
    "# Power\n",
    "power = 5 ** 3 \n",
    "\n",
    "print(power)"
   ]
  },
  {
   "cell_type": "code",
   "execution_count": 5,
   "id": "5a0ed407-0a0b-4451-a67f-2ee873de6a0d",
   "metadata": {},
   "outputs": [
    {
     "name": "stdout",
     "output_type": "stream",
     "text": [
      "1 2 125\n"
     ]
    }
   ],
   "source": [
    "print(floor_division, modulo_remainder, power)"
   ]
  },
  {
   "cell_type": "code",
   "execution_count": 6,
   "id": "11335245-5390-4204-a423-ac9b112ac76d",
   "metadata": {},
   "outputs": [
    {
     "name": "stdout",
     "output_type": "stream",
     "text": [
      "\n",
      "Here is a list of the Python keywords.  Enter any keyword to get more help.\n",
      "\n",
      "False               class               from                or\n",
      "None                continue            global              pass\n",
      "True                def                 if                  raise\n",
      "and                 del                 import              return\n",
      "as                  elif                in                  try\n",
      "assert              else                is                  while\n",
      "async               except              lambda              with\n",
      "await               finally             nonlocal            yield\n",
      "break               for                 not                 \n",
      "\n"
     ]
    }
   ],
   "source": [
    "# Anzeige der Schlüsselwörter in der vorhandenen Python Version\n",
    "help(\"keywords\")"
   ]
  },
  {
   "cell_type": "markdown",
   "id": "f10d55e7-b7b3-4b34-a7a8-6a53304c6b58",
   "metadata": {},
   "source": [
    "## Herausforderungen"
   ]
  },
  {
   "cell_type": "code",
   "execution_count": 7,
   "id": "d07be2c0-778f-45a8-a2b0-a76181ae0562",
   "metadata": {},
   "outputs": [
    {
     "data": {
      "text/plain": [
       "[1, 2, 3, 4, 5]"
      ]
     },
     "execution_count": 7,
     "metadata": {},
     "output_type": "execute_result"
    }
   ],
   "source": [
    "# Einfache Liste mit Zahlen\n",
    "numbers = [1, 2, 3, 4, 5]\n",
    "numbers # Ausgabe der Liste ohne print()-Funktion"
   ]
  },
  {
   "cell_type": "code",
   "execution_count": 8,
   "id": "a22beedf-54e2-4c00-b3b8-232ea99bddf1",
   "metadata": {},
   "outputs": [
    {
     "name": "stdout",
     "output_type": "stream",
     "text": [
      "3.0\n"
     ]
    }
   ],
   "source": [
    "x = str(3)    # x will be '3'\n",
    "y = int(3)    # y will be 3\n",
    "z = float(3)  # z will be 3.0\n",
    "print(z)"
   ]
  },
  {
   "cell_type": "code",
   "execution_count": 9,
   "id": "29784389-c34b-48ed-ba11-6fcadfdd6c1a",
   "metadata": {},
   "outputs": [
    {
     "name": "stdout",
     "output_type": "stream",
     "text": [
      "2022-10-14 11:11:48.819462\n"
     ]
    }
   ],
   "source": [
    "import datetime\n",
    "x = datetime.datetime.now() # Aktuelles Datum in ausführlichem Format ausgeben\n",
    "print(x)"
   ]
  },
  {
   "cell_type": "code",
   "execution_count": 10,
   "id": "57d5039e-afeb-4c4c-a36e-41c573e35b7f",
   "metadata": {},
   "outputs": [
    {
     "name": "stdout",
     "output_type": "stream",
     "text": [
      "2022\n",
      "Friday\n"
     ]
    }
   ],
   "source": [
    "print(x.year)\n",
    "print(x.strftime(\"%A\"))"
   ]
  },
  {
   "cell_type": "code",
   "execution_count": 11,
   "id": "c077c95d-7e64-4f1d-ba05-361ed838e619",
   "metadata": {},
   "outputs": [
    {
     "name": "stdout",
     "output_type": "stream",
     "text": [
      "October\n"
     ]
    }
   ],
   "source": [
    "# Display the name of the month:\n",
    "print(x.strftime(\"%B\"))"
   ]
  },
  {
   "cell_type": "code",
   "execution_count": 12,
   "id": "eb651428-1878-498f-b1ae-3a7e8c2abc29",
   "metadata": {},
   "outputs": [
    {
     "name": "stdout",
     "output_type": "stream",
     "text": [
      "0001-01-01\n",
      "9999-12-31\n"
     ]
    }
   ],
   "source": [
    "from datetime import date\n",
    "print(date.min)\n",
    "print(date.max)"
   ]
  },
  {
   "cell_type": "code",
   "execution_count": 13,
   "id": "38c0f7bb-f898-4456-86b7-42a00bfb152e",
   "metadata": {},
   "outputs": [
    {
     "name": "stdout",
     "output_type": "stream",
     "text": [
      "1\n",
      "2\n",
      "3\n",
      "4\n",
      "5\n",
      "6\n",
      "7\n",
      "8\n",
      "9\n",
      "10\n",
      "Counting complete!\n"
     ]
    }
   ],
   "source": [
    "count = 1\n",
    "\n",
    "# Code block 1\n",
    "while count < 11:\n",
    "    print(count)\n",
    "    count = count + 1\n",
    "\n",
    "# Code block 2\n",
    "if count == 11:\n",
    "    print(\"Counting complete!\")"
   ]
  },
  {
   "cell_type": "markdown",
   "id": "a5d3212a-d772-4a2a-8de6-2169ef2c5283",
   "metadata": {},
   "source": [
    " # Weiterführendes Material  \n",
    "- [Beginner Tips for Learning Python Programming](https://realpython.com/python-beginner-tips/)\n",
    "- [How to Use Python: Your First Steps](https://realpython.com/python-first-steps/)\n",
    "- https://www.w3schools.com/python/python_syntax.asp\n",
    "- https://www.w3schools.com/python/python_variables.asp\n",
    "- https://realpython.com/python-print/\n",
    "- https://realpython.com/python-input-output/\n",
    "- https://realpython.com/python-comments-guide/ "
   ]
  }
 ],
 "metadata": {
  "kernelspec": {
   "display_name": "Python 3.10.4 ('DSCB130')",
   "language": "python",
   "name": "python3"
  },
  "language_info": {
   "codemirror_mode": {
    "name": "ipython",
    "version": 3
   },
   "file_extension": ".py",
   "mimetype": "text/x-python",
   "name": "python",
   "nbconvert_exporter": "python",
   "pygments_lexer": "ipython3",
   "version": "3.10.4"
  },
  "toc-autonumbering": false,
  "vscode": {
   "interpreter": {
    "hash": "36be8c935b215e9ae8c5ce483fb0259ffd74fa34a4c5e5096a36e20f14630558"
   }
  }
 },
 "nbformat": 4,
 "nbformat_minor": 5
}
