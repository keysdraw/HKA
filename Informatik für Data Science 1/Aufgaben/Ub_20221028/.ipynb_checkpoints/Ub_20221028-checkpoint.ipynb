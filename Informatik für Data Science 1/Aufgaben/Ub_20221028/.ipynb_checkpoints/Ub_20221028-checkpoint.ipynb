{
 "cells": [
  {
   "cell_type": "markdown",
   "id": "9efecdd5-8c13-481c-996e-dbd600a86e33",
   "metadata": {},
   "source": [
    "# Übungsblatt 4\n",
    "## DSCB130 | 3.2 Einführung in Python\n",
    "\n",
    "Freitag, 28.10.2022"
   ]
  },
  {
   "cell_type": "markdown",
   "id": "3014df40-e8ea-4f2f-a46d-a509df16835f",
   "metadata": {
    "tags": []
   },
   "source": [
    "## Grundlagen"
   ]
  },
  {
   "cell_type": "code",
   "execution_count": null,
   "id": "de145d13",
   "metadata": {},
   "outputs": [],
   "source": []
  },
  {
   "cell_type": "markdown",
   "id": "77035278-718d-4ff7-8076-51cd4562a861",
   "metadata": {},
   "source": [
    "# Übung 1: Zahlen-Umwandlung\n",
    "Gegeben seien folgende Zahlen.  \n",
    "\n",
    "2\n",
    "3.95\n",
    "4j\n",
    "1/3\n",
    "\n",
    "a) Ordnen Sie jeder Zahl einen geeigneten Datentyp zu.  \n",
    "b) Runden Sie die Gleitkommenzahl auf eine Ganzzahl auf.  \n",
    "c) Verwenden Sie für die Division das Modul `decimal` und zeigen sie, welche Genauigkeit gegenüber dem Datentyp `float` möglich ist."
   ]
  },
  {
   "cell_type": "code",
   "execution_count": 8,
   "id": "fce3676f-f341-46b5-900c-b46069379a23",
   "metadata": {},
   "outputs": [
    {
     "name": "stdout",
     "output_type": "stream",
     "text": [
      "2 3.95 4j 0.3333333333333333\n",
      "4 0\n",
      "0.9165431249999999252509041980\n",
      "0.9165431249999999\n"
     ]
    },
    {
     "ename": "TypeError",
     "evalue": "unsupported operand type(s) for -: 'float' and 'decimal.Decimal'",
     "output_type": "error",
     "traceback": [
      "\u001b[0;31m---------------------------------------------------------------------------\u001b[0m",
      "\u001b[0;31mTypeError\u001b[0m                                 Traceback (most recent call last)",
      "\u001b[0;32m/tmp/ipykernel_3606/2751944231.py\u001b[0m in \u001b[0;36m<module>\u001b[0;34m\u001b[0m\n\u001b[1;32m     16\u001b[0m \u001b[0;34m\u001b[0m\u001b[0m\n\u001b[1;32m     17\u001b[0m \u001b[0mstr_div_decimal\u001b[0m \u001b[0;34m=\u001b[0m \u001b[0mstr\u001b[0m\u001b[0;34m(\u001b[0m\u001b[0mdiv_decimal\u001b[0m\u001b[0;34m)\u001b[0m\u001b[0;34m\u001b[0m\u001b[0;34m\u001b[0m\u001b[0m\n\u001b[0;32m---> 18\u001b[0;31m \u001b[0mprint\u001b[0m\u001b[0;34m(\u001b[0m\u001b[0mdiv_float\u001b[0m\u001b[0;34m-\u001b[0m\u001b[0mdiv_decimal\u001b[0m\u001b[0;34m)\u001b[0m\u001b[0;34m\u001b[0m\u001b[0;34m\u001b[0m\u001b[0m\n\u001b[0m",
      "\u001b[0;31mTypeError\u001b[0m: unsupported operand type(s) for -: 'float' and 'decimal.Decimal'"
     ]
    }
   ],
   "source": [
    "from decimal import Decimal\n",
    "\n",
    "#a\n",
    "a, b, c, d = [int(2), float(3.95), complex(4j), float(1/3)]\n",
    "print(a,b,c,d)\n",
    "\n",
    "#b\n",
    "print(int(round(b,1)), int(round(d,0)))\n",
    "\n",
    "#c\n",
    "div_decimal = Decimal(73.32345) / Decimal(80)\n",
    "div_float = float(73.32345) / float(80)\n",
    "\n",
    "print(div_decimal)\n",
    "print(div_float)\n"
   ]
  },
  {
   "cell_type": "markdown",
   "id": "92b039b7-03b1-4061-b38b-8abd69f7948e",
   "metadata": {},
   "source": [
    "# Übung 2: Wissenschaftliche Darstellung von Zahlen\n",
    "\n",
    "Probieren Sie ihnen bekannte Zahlen aus und stellen Sie diese in wissenschaftlicher Notation dar.\n",
    "\n",
    "```python\n",
    "200000000000000000.0\n",
    "2e+17\n",
    "\n",
    "0.0000042\n",
    "4.2e-6\n",
    "```\n",
    "\n",
    "> __Hinweis:_ Die E-Notation ist die Abkürzung für die Exponentialschreibweise. Sie haben diese Notation vielleicht schon bei Taschenrechnern gesehen, um Zahlen darzustellen, die zu groß sind, um auf den Bildschirm zu passen."
   ]
  },
  {
   "cell_type": "code",
   "execution_count": 3,
   "id": "84298240-72d8-4373-8994-74b88646765a",
   "metadata": {},
   "outputs": [],
   "source": [
    "# Code here"
   ]
  },
  {
   "cell_type": "markdown",
   "id": "76e33ee8-71cf-41a4-aa75-55a7f2c6401c",
   "metadata": {},
   "source": [
    "# Übung 3: Zeichenketten Manipulation\n",
    "Schreiben Sie ein Programm, das folgende Manipulationen an der Zeichenkette `Hey Anna, there is a 0xbadc0ffee error!` durchführt.  \n",
    "Geben Sie jeweils das Ergebnis aus.\n",
    "\n",
    "a) Ersetzen Sie die Hexadezimalwerte durch Wörter der englischen Sprache.  \n",
    "b) Ersetzen Sie Hexadezimalwerte durch die entsprechden Zeichen der ASCII-Tabelle. Wenngleich dies semantisch nicht besonders sinnvoll erscheint.  \n",
    "c) Zählen Sie die Länge der Zeichenkette.  \n",
    "d) Finden Sie mit dem Index das Zeichen in der Mitte.  \n",
    "e) Finden Sie das passende Symbol für den Kontext Kaffee bzw. Kaffeetasse im Unicode Zeichensatz.  \n",
    "f) Ändern Sie die Aussage so, dass sich Anna über wohlschmeckenden Kaffee freut und dies durch das Symbol zum Ausdruck bringt."
   ]
  },
  {
   "cell_type": "code",
   "execution_count": 1,
   "id": "67e623f8-401b-4470-ba14-7a01f37c561a",
   "metadata": {},
   "outputs": [],
   "source": [
    "# Code here"
   ]
  },
  {
   "cell_type": "markdown",
   "id": "abd62c06-0dbc-45a1-86dd-7c8ef54df862",
   "metadata": {},
   "source": [
    "# Übung 4: Datenstruktur List\n",
    "Gegeben sei die Liste der Mitglieder des Kurses DSCB130 im CSV-Format. Diese wurde generiert durch einen Export aus ILIAS.   \n",
    "`2022_11_04_09-051667549116_member_export_585938.csv`\n",
    "\n",
    "a) Erstellen Sie aus der Datei eine Liste, die nur die Vornamen enthält.  \n",
    "b) Sortieren Sie die Liste aufsteigend.  \n",
    "c) Zählen Sie Häufigkeit der Anfangsbuchstaben."
   ]
  },
  {
   "cell_type": "code",
   "execution_count": 67,
   "id": "941ca28b-4b7d-4035-9f61-5189bd71be1a",
   "metadata": {},
   "outputs": [
    {
     "name": "stdout",
     "output_type": "stream",
     "text": [
      "{'A': 1, 'B': 1, 'C': 1, 'D': 2, 'E': 1, 'F': 1, 'J': 2, 'L': 2, 'M': 1, 'N': 3, 'R': 2, 'S': 6, 'T': 3, 'W': 1}\n"
     ]
    }
   ],
   "source": [
    "import csv\n",
    "\n",
    "#open csv file and assign a list to it\n",
    "file = open('DSCB130_Mitglieder.csv','r')\n",
    "data = list(csv.reader(file, delimiter = ','))\n",
    "file.close()\n",
    "\n",
    "#creating list with only names\n",
    "j = 0\n",
    "name_list = []\n",
    "\n",
    "for i in data:\n",
    "    name_list.append(data[j][2])    \n",
    "    j += 1\n",
    "\n",
    "#removing unnecessary element\n",
    "name_list.remove(name_list[0])\n",
    "\n",
    "#sorting list alphabetically\n",
    "name_list.sort()\n",
    "\n",
    "#creating dictionary to view the count of each of the starting letters of every elementt in name_list\n",
    "count_dict = {}\n",
    "\n",
    "l = 0 \n",
    "\n",
    "for i in name_list:\n",
    "    #checking membership in count_dict\n",
    "    #if yes add new entry with value 1\n",
    "    if name_list[l][0] not in count_dict:\n",
    "        count_update = {name_list[l][0]:1}\n",
    "        count_dict.update(count_update)\n",
    "    #if no then increment existing key by 1    \n",
    "    else:\n",
    "        count_update = {name_list[l][0]:count_dict.get(name_list[l][0]) + 1}\n",
    "        count_dict.update(count_update)\n",
    "        \n",
    "    l += 1\n",
    "\n",
    "print(count_dict)\n"
   ]
  },
  {
   "cell_type": "markdown",
   "id": "26caf7b0-23ae-4a59-a969-dab32c7c0154",
   "metadata": {},
   "source": [
    "# Übung 5: Datenstruktur Dictionary\n",
    "Bilden Sie die aktuelle Gruppenaufteilung des Kurses DSCB130 in der Datenstruktur `dict` nach.  \n",
    "\n",
    "a) Verwenden Sie die gleiche CSV-Datei aus Aufgabe 4.  \n",
    "b) Erstellen Sie aus der Datei eine Liste, die nur den Benutzername enthält.  \n",
    "c) Ordnen Sie die Studierenden in Gruppen zu, so das es der tatsächlichen Zuordnung entspricht. Siehe Link in ILIAS."
   ]
  },
  {
   "cell_type": "code",
   "execution_count": 76,
   "id": "deb21e5a-213b-447b-a9ec-21ec926fae5d",
   "metadata": {},
   "outputs": [
    {
     "data": {
      "text/plain": [
       "{'Papa': ['Lars', 'Christina', 'Julian']}"
      ]
     },
     "execution_count": 76,
     "metadata": {},
     "output_type": "execute_result"
    }
   ],
   "source": [
    "import csv\n",
    "\n",
    "#open csv file and assign a list to it\n",
    "file = open('DSCB130_Mitglieder.csv','r')\n",
    "data = list(csv.reader(file, delimiter = ','))\n",
    "file.close()\n",
    "\n",
    "#creating list with only names\n",
    "j = 0\n",
    "name_list = []\n",
    "\n",
    "for i in data:\n",
    "    name_list.append(data[j][2])    \n",
    "    j += 1\n",
    "    \n",
    "\n",
    "group_dict = {'Papa':['Lars','Christina','Julian']}\n",
    "\n",
    "group_dict\n",
    "\n"
   ]
  },
  {
   "cell_type": "markdown",
   "id": "90d62ff0-478f-4a20-8fd5-6ebccd9bc92e",
   "metadata": {},
   "source": [
    "# Übung 6: Datenstruktur Dictionary\n",
    "Das Aufteilen einer Zeichenfolge in kleinere Teile ist eine  häufig durchgeführte Aufgabe. Dazu kann die Methode `split()` verwendet werden.\n",
    "\n",
    "Erstellen Sie ein Dictionary namens `word_counts`, das die Worte und deren Häufigkeit im folgenden Text abbildet.\n",
    "\n",
    "text = \"Lorem ipsum dolor sit amet, consectetur adipiscing elit, sed do eiusmod tempor incididunt ut labore et dolore magna aliqua. Eget dolor morbi non arcu risus quis varius quam. Ut etiam sit amet nisl purus in. Lectus nulla at volutpat diam ut venenatis tellus. Libero nunc consequat interdum varius sit amet mattis vulputate. Tempor orci dapibus ultrices in iaculis nunc. Adipiscing tristique risus nec feugiat in fermentum. Et netus et malesuada fames ac. Sed nisi lacus sed viverra tellus. Ullamcorper a lacus vestibulum sed arcu non odio euismod lacinia. Nec sagittis aliquam malesuada bibendum arcu vitae elementum curabitur. Semper quis lectus nulla at. Magnis dis parturient montes nascetur ridiculus mus. Nunc sed id semper risus. Convallis tellus id interdum velit laoreet. Dolor morbi non arcu risus quis varius quam quisque id. Justo laoreet sit amet cursus sit amet. Elit pellentesque habitant morbi tristique senectus et netus. Sed augue lacus viverra vitae congue. Egestas maecenas pharetra convallis posuere morbi leo urna.\n",
    "\n",
    "Vestibulum rhoncus est pellentesque elit ullamcorper dignissim cras tincidunt lobortis. Odio ut enim blandit volutpat maecenas. Habitant morbi tristique senectus et netus et. Risus at ultrices mi tempus imperdiet nulla malesuada. Sagittis eu volutpat odio facilisis mauris sit amet. Tempor orci eu lobortis elementum. Orci dapibus ultrices in iaculis. Vitae elementum curabitur vitae nunc sed velit dignissim. Mi proin sed libero enim sed faucibus turpis in eu. Sapien nec sagittis aliquam malesuada. Ut ornare lectus sit amet est placerat. Augue ut lectus arcu bibendum at varius vel pharetra vel. Tellus in hac habitasse platea dictumst vestibulum rhoncus. Consequat semper viverra nam libero justo laoreet sit. Amet commodo nulla facilisi nullam vehicula ipsum a arcu.\"\n",
    "\n",
    "__Weiterführendes Material:__\n",
    "- https://loremipsum.io/generator/"
   ]
  },
  {
   "cell_type": "code",
   "execution_count": 90,
   "id": "dbf601d2-e4e9-48fa-bae6-e86fa530f6e5",
   "metadata": {},
   "outputs": [
    {
     "name": "stdout",
     "output_type": "stream",
     "text": [
      "{'Lorem': 2, 'ipsum': 3, 'dolor': 5, 'sit': 8, 'amet': 6, 'consectetur': 5, 'adipiscing': 3, 'elit': 3, 'sed': 14, 'do': 1, 'eiusmod': 1, 'tempor': 2, 'incididunt': 1, 'ut': 6, 'labore': 1, 'et': 6, 'dolore': 1, 'magna': 3, 'aliqua': 1, 'Sed': 2, 'velit': 6, 'dignissim': 2, 'sodales': 1, 'eu': 6, 'sem': 3, 'integer': 5, 'Mauris': 3, 'rhoncus': 3, 'aenean': 1, 'vel': 7, 'scelerisque': 7, 'mauris': 3, 'pellentesque': 5, 'pulvinar': 1, 'Imperdiet': 1, 'euismod': 4, 'nisi': 2, 'porta': 1, 'lorem': 4, 'mollis': 2, 'aliquam': 5, 'porttitor': 1, 'Arcu': 1, 'non': 7, 'odio': 3, 'lacinia': 2, 'at': 10, 'quis': 4, 'risus': 5, 'vulputate': 3, 'Non': 2, 'a': 5, 'erat': 4, 'nam': 3, 'lectus': 3, 'Eu': 2, 'felis': 5, 'imperdiet': 4, 'proin': 3, 'fermentum': 3, 'leo': 6, 'eget': 8, 'aliquet': 5, 'sagittis': 4, 'id': 9, 'Diam': 1, 'nisl': 3, 'suscipit': 1, 'bibendum': 2, 'est': 2, 'ultricies': 2, 'Molestie': 1, 'iaculis': 4, 'Quis': 2, 'varius': 1, 'quam': 2, 'quisque': 2, 'diam': 4, 'Vel': 1, 'pharetra': 1, 'turpis': 4, 'nunc': 9, 'Urna': 2, 'volutpat': 9, 'lacus': 2, 'laoreet': 2, 'Interdum': 1, 'donec': 3, 'Ut': 3, 'tristique': 2, 'egestas': 4, 'suspendisse': 4, 'ultrices': 3, 'gravida': 1, 'Turpis': 1, 'tincidunt': 2, 'feugiat': 1, 'in': 8, 'ante': 1, 'metus': 2, 'dictum': 2, 'Et': 2, 'malesuada': 7, 'fames': 2, 'ac': 6, 'tempus': 3, 'Posuere': 1, 'consequat': 3, 'semper': 3, 'viverra': 7, 'Tincidunt': 1, 'augue': 1, 'interdum': 1, 'Quam': 1, 'vitae': 8, 'massa': 2, 'elementum': 3, 'Sem': 1, 'justo': 1, 'Odio': 1, 'orci': 1, 'dapibus': 1, 'Enim': 1, 'neque': 2, 'Eleifend': 1, 'pretium': 2, 'sapien': 2, 'nec': 2, 'Facilisi': 1, 'morbi': 2, 'urna': 4, 'Faucibus': 1, 'ullamcorper': 1, 'Pretium': 1, 'potenti': 3, 'nullam': 2, 'tortor': 3, 'Maecenas': 2, 'enim': 3, 'Parturient': 1, 'montes': 1, 'nascetur': 1, 'ridiculus': 1, 'mus': 1, 'Eget': 2, 'Velit': 1, 'Viverra': 2, 'maecenas': 3, 'accumsan': 1, 'facilisis': 2, 'phasellus': 1, 'vestibulum': 1, 'Orci': 1, 'lobortis': 2, 'nibh': 2, 'tellus': 1, 'molestie': 3, 'blandit': 3, 'netus': 2, 'Adipiscing': 1, 'mattis': 3, 'Vulputate': 1, 'Tristique': 1, 'senectus': 1, 'Venenatis': 1, 'cursus': 4, 'Sagittis': 1, 'purus': 3, 'congue': 1, 'faucibus': 2, 'Elementum': 1, 'duis': 1, 'Cursus': 1, 'hac': 1, 'habitasse': 1, 'platea': 1, 'dictumst': 1, 'Amet': 1, 'arcu': 1, 'nulla': 4, 'ornare': 1, 'Aliquet': 1, 'praesent': 1, 'Etiam': 1, 'Nulla': 1, 'venenatis': 1, 'Ipsum': 1, 'Nullam': 1, 'Vitae': 1, 'Risus': 1, 'mi': 2, 'Nunc': 2, 'eleifend': 1, 'Ultricies': 2, 'Metus': 1, 'etiam': 1, 'libero': 1}\n"
     ]
    }
   ],
   "source": [
    "\n",
    "#reading lorem file as str\n",
    "file = open('lorem.txt','r')\n",
    "text = file.read()\n",
    "file.close()\n",
    "\n",
    "\n",
    "#cleaning text\n",
    "text = text.replace(',','').replace('.','')\n",
    "#creating the dict and the counter in the for loop\n",
    "word_counts = {}\n",
    "\n",
    "for i in text.split():\n",
    "    #checking membership in object\n",
    "    #if yes add new entry with value 1\n",
    "    if i not in word_counts:\n",
    "        count_update = {i:1}\n",
    "        word_counts.update(count_update)\n",
    "    #if no then increment existing key by 1    \n",
    "    else:\n",
    "        count_update = {i:word_counts.get(i) + 1}\n",
    "        word_counts.update(count_update)\n",
    "\n",
    "print(word_counts)\n",
    "        \n",
    "    "
   ]
  },
  {
   "cell_type": "markdown",
   "id": "7c6acda2-1273-42db-b1bf-6607b3380093",
   "metadata": {},
   "source": [
    "## Herausforderungen"
   ]
  },
  {
   "cell_type": "markdown",
   "id": "8050ed14-5202-416a-976c-8eaec54e377a",
   "metadata": {},
   "source": [
    "# Übung 7: Textanalyse\n",
    "Finden Sie heraus, was sog. Stoppwörter sind und speichern Sie diese in einer geeigneten Datenstruktur.\n",
    "Analysieren Sie einen realen Text, bspw. von einer Nachrichten-Webseite, anhand des Vorkommens dieser Stoppwörter.  \n",
    "\n",
    "a) Kopieren Sie sich einen Textabschnitt heraus.  \n",
    "b) Entfernen Sie die Stoppwörter.  \n",
    "c) Zählen Sie die Häufigkeit der verbleibenden Wörter.  \n",
    "d) Visualisieren Sie das Ergebnis in einer Wortwolke (_Tag Cloud_) bspw. mit dem Service auf https://www.wordclouds.com."
   ]
  },
  {
   "cell_type": "markdown",
   "id": "168aa2e9-1b41-408c-8f9e-d4d631c90d49",
   "metadata": {},
   "source": [
    "## Stoppwörter liste und Text liste erstellen"
   ]
  },
  {
   "cell_type": "code",
   "execution_count": 129,
   "id": "cc396725-ef7b-472c-a83b-b35da6124468",
   "metadata": {},
   "outputs": [
    {
     "name": "stdout",
     "output_type": "stream",
     "text": [
      "{'Electric': 1, 'vehicles': 19, 'arrived': 2, 'With': 1, 'technology': 7, 'led': 1, 'Tesla': 1, \"world's\": 4, 'major': 1, 'car': 3, 'manufacturers': 3, 'along': 1, 'electric': 28, 'now': 1, 'common': 1, 'sight': 1, 'roads': 4, 'most': 1, 'developed': 3, 'countries': 6, 'Yet': 2, 'situation': 2, 'less': 3, 'African': 1, 'country': 1, 'started': 1, 'change': 1, 'South': 2, 'Africa': 1, 'even': 1, 'account': 1, '001%': 1, 'total': 2, 'number': 2, 'cars': 6, 'In': 4, 'America': 2, 'better': 1, 'Latin': 1, 'American': 1, 'towards': 1, 'Columbia': 1, '2020': 2, \"continent's\": 1, 'fleet': 1, 'Russia': 1, 'wealthy': 1, 'investing': 1, 'imported': 1, 'yet': 2, 'manufactured': 1, 'locally': 1, 'India': 1, 'government': 1, 'promoting': 1, 'purchase': 1, 'tax': 1, 'exemptions': 1, 'other': 2, 'incentives': 1, 'So': 2, 'have': 3, 'share': 1, 'market': 1, 'increasing': 1, 'worldwide': 2, 'Does': 1, 'world': 1, 'track': 1, 'phase': 1, 'petroldriven': 1, 'thirty': 1, 'years': 2, 'And': 2, 'mean': 1, 'sustainable': 1, 'solution': 1, 'our': 2, 'transport': 1, 'second': 1, 'century': 2, 'Unfortunately': 1, 'disappointment': 1, 'some': 1, 'people': 3, 'answer': 1, 'both': 1, 'questions': 1, 'no': 2, 'The': 2, 'massive': 1, 'development': 1, 'only': 2, 'possible': 1, 'two': 1, 'conditions': 1, 'met': 1, 'Firstly': 1, 'expansion': 1, 'vehicle': 6, 'manufacturing': 1, 'dependent': 1, 'fragile': 1, 'ability': 2, 'source': 1, 'vastly': 1, 'increased': 1, 'quantities': 2, 'vital': 3, 'components': 2, 'elements': 1, 'operate': 1, 'these': 2, 'include': 1, 'lithium': 2, 'cobalt': 1, 'rare': 1, 'earths': 1, 'neodymium': 1, 'tantalum': 1, 'well': 2, 'silicon': 1, 'chips': 1, 'been': 2, 'short': 1, 'supply': 1, 'Secondly': 1, 'electricity': 6, 'grids': 1, 'near': 1, 'cope': 2, 'huge': 1, 'increase': 1, 'demand': 2, 'accompany': 1, 'rapid': 2, 'growth': 1, 'ownership': 1, 'Without': 1, 'adequate': 1, 'supplies': 2, 'all': 4, 'ingredients': 1, 'motors': 1, 'batteries': 12, 'without': 1, 'power': 2, 'able': 2, 'provide': 1, 'needed': 2, 'recharge': 1, 'millions': 1, 'day': 1, 'supplying': 1, 'current': 1, 'need': 1, 'everything': 1, 'lighting': 1, 'heating': 1, 'trains': 1, 'devices': 1, 'revolution': 3, 'run': 1, 'against': 1, 'insoluble': 1, 'problems': 3, 'Governments': 1, 'fully': 2, 'aware': 1, 'issues': 2, 'the': 33, 'consensus': 1, 'policymakers': 1, 'come': 1, 'answers': 1, 'Analysts': 1, 'predict': 1, 'changing': 1, 'social': 1, 'attitudes': 1, 'environmental': 2, 'awareness': 1, 'lead': 1, 'reduction': 1, 'private': 2, 'fall': 2, 'numbers': 1, 'This': 1, 'prediction': 1, 'likely': 1, 'though': 1, 'necessarily': 1, 'those': 1, 'reasons': 1, 'any': 2, 'shortage': 2, 'essential': 1, 'force': 1, 'cost': 1, 'battery': 8, 'recharging': 6, 'facilities': 1, 'capacity': 1, 'discourage': 1, 'buying': 1, 'leading': 1, 'Ultimately': 1, 'success': 1, 'transition': 1, 'powered': 1, 'depend': 1, 'advances': 1, 'three': 1, 'fields': 1, 'weight': 1, 'amount': 1, 'produce': 1, 'speed': 1, 'which': 3, 'recharged': 2, 'exchanged': 1, 'It': 1, 'surprise': 1, 'learn': 1, 'that': 3, 'not': 2, 'a': 5, 'new': 1, 'idea': 1, 'start': 1, 'automobile': 1, 'age': 1, 'late': 1, '19th': 1, 'as': 4, 'gasdriven': 1, 'New': 2, \"York's\": 1, 'biggest': 1, 'taxi': 1, 'company': 2, 'order': 1, 'keep': 1, 'taxis': 1, 'road': 1, 'low': 1, 'they': 2, 'set': 1, 'points': 3, 'at': 1, 'strategic': 1, 'locations': 1, 'instead': 1, 'drivers': 1, 'exchange': 4, 'for': 2, 'process': 1, 'took': 1, 'longer': 1, 'refilling': 1, 'gasolene': 1, 'Thus': 1, 'stations': 2, 'rather': 1, 'than': 1, 'perhaps': 1, 'solve': 2, 'problem': 1, 'slow': 1, 'times': 1, 'currently': 1, 'prevents': 1, 'owners': 1, 'their': 2, 'long': 1, 'trips': 1, 'option': 1, \"today's\": 1, 'large': 1, 'heavy': 2, 'While': 1, 'latest': 1, 'generation': 1, 'Lithiumion': 1, 'almost': 1, 'efficient': 1, 'used': 1, 'five': 1, 'remain': 1, 'big': 1, 'Before': 1, 'can': 2, 'become': 1, 'easy': 1, 'quantum': 1, 'leap': 1, 'allow': 1, 'store': 1, 'larger': 1, 'amounts': 1, 'much': 1, 'smaller': 1, 'lighter': 1, 'units': 1, 'Teams': 1, 'top': 1, 'electrical': 1, 'engineers': 1, 'universities': 1, 'laboratories': 1, 'working': 1, 'on': 1, 'progress': 3, 'types': 1, 'are': 2, 'radical': 1, 'discovery': 1, 'revolutionise': 1, 'design': 1, 'still': 1, 'to': 4, 'be': 3, 'As': 1, 'availability': 2, 'clean': 1, 'renewable': 1, 'sufficient': 1, 'with': 1, 'this': 1, 'direction': 1, 'underway': 2, 'Ideally': 1, 'notably': 1, 'hot': 1, 'outside': 1, 'cities': 1, 'will': 3, 'autonomous': 1, 'generating': 1, 'own': 1, 'solar': 1, 'panels': 1, 'wind': 1, 'water': 1, 'turbines': 1, 'storing': 1, 'it': 2, 'either': 1, 'mechanically': 1, 'highpowered': 1, 'already': 1, 'exists': 1, 'California': 1, 'Beam': 1, 'Global': 1, 'installed': 1, '30': 1, 'solarpowered': 1, 'in': 3, 'sunny': 1, 'parts': 1, 'believe': 1, 'of': 3, 'realistic': 1, 'overoptimistic': 1, 'such': 1, 'and': 1, 'materials': 1, 'throw': 1, 'spanner': 1, 'works': 1, 'Will': 1, 'complete': 1, 'poorer': 1, 'nations': 1, 'left': 1, 'For': 1, 'time': 1, 'being': 1, 'upwards': 1, 'continue': 1, 'terms': 1, 'volume': 1, 'has': 1, 'just': 1, 'got': 1}\n"
     ]
    }
   ],
   "source": [
    "#read stop word file as str\n",
    "file = open('stop_words_english.txt','r')\n",
    "stop_words = file.read()\n",
    "file.close()\n",
    "\n",
    "#cleaning and splitting stop words\n",
    "stop_words = stop_words.replace('\\n',' ').split()\n",
    "\n",
    "#read text file as str\n",
    "file = open('example_text_english.txt','r')\n",
    "text = file.read()\n",
    "file.close()\n",
    "\n",
    "#cleaning the copied text\n",
    "cleaning_list = ['!','?',':',',',';','.','_','-','\\n','\"','(',')','{','}','[',']']\n",
    "\n",
    "for i in text:\n",
    "    if i in cleaning_list:\n",
    "        text = text.replace(i,'')\n",
    "    \n",
    "#splitting cleaned text\n",
    "text = text.split()\n",
    "\n",
    "\n",
    "#removing stop words from text\n",
    "for i in text:\n",
    "    if i in stop_words:\n",
    "        text.remove(i)\n",
    "    else:\n",
    "        continue\n",
    "\n",
    "words_count = {}\n",
    "\n",
    "#word counter\n",
    "for i in text:\n",
    "    #checking membership in object\n",
    "    #if yes add new entry with value 1\n",
    "    if i not in words_count:\n",
    "        count_update = {i:1}\n",
    "        words_count.update(count_update)\n",
    "    #if no then increment existing key by 1    \n",
    "    else:\n",
    "        count_update = {i:words_count.get(i) + 1}\n",
    "        words_count.update(count_update)\n",
    "        \n",
    "print(words_count)\n"
   ]
  }
 ],
 "metadata": {
  "kernelspec": {
   "display_name": "Python 3 (ipykernel)",
   "language": "python",
   "name": "python3"
  },
  "language_info": {
   "codemirror_mode": {
    "name": "ipython",
    "version": 3
   },
   "file_extension": ".py",
   "mimetype": "text/x-python",
   "name": "python",
   "nbconvert_exporter": "python",
   "pygments_lexer": "ipython3",
   "version": "3.9.13"
  },
  "vscode": {
   "interpreter": {
    "hash": "916dbcbb3f70747c44a77c7bcd40155683ae19c65e1c03b4aa3499c5328201f1"
   }
  }
 },
 "nbformat": 4,
 "nbformat_minor": 5
}
