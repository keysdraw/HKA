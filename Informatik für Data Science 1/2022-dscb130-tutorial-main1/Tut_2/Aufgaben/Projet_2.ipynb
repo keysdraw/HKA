{
 "cells": [
  {
   "cell_type": "markdown",
   "metadata": {},
   "source": [
    "# Python Taschenrechner"
   ]
  },
  {
   "cell_type": "markdown",
   "metadata": {},
   "source": [
    "Aufgabe Programmiere einen Taschenrechner.\n",
    "\n",
    "Schritt 1: Der Taschenrechner soll 2 Natürliche Zahlen addieren können. <br>\n",
    "Schritt 2: Der Taschenrechner soll mit 2 Natürliche Zahlen alle Grundrechenarten beherrschen <br>\n",
    "→ Schritt 2,5: Was machst du, wenn jemand versuch durch 0 zu teilen und/oder nichts eingibt\n",
    "\n",
    "Idee/Hilfe gibt es  <a href= \"https://www.sivakids.de/python-taschenrechner/\">hier </a> aber BITTE erst mal selber denken ihr bekommt das auch ohne Hilfe hin :)<br>\n",
    "\n",
    "Schritt 3: Der Taschenrechner soll mit 2 Natürliche Zahlen alle Grundrechenarten beherrschen und Teilen mit Rest können. <br>\n",
    "\n",
    "Weitere Ideen, die ihr umsetzen könnt:\n",
    "\n",
    "+ Probiere dich an weitere mathematisch Funktionen (Potenz, Fakultät, ...)\n",
    "+ Nutze nur eine Input-Funktion\n",
    "+ Programmiere einen Taschenrechner, der mehr als 2 Zahlen kann\n",
    "\n",
    "Ziel ist, dass ihr rumprobiert und nach euren Vorstellungen ein Taschenrechner schreibt, er muss/sollte nicht aussehen wie in der Lösung - bei Problem euch einfach. Gerne aber auch einfach mal googeln und schauen, ob ihr das Problem selber lösen könnt :)\n",
    "\n",
    "\n",
    "Hilfe Bool: https://pythonbuch.com/bool.html\n",
    "Hilfe If: https://pythonbuch.com/kontrollstrukturen.html#die-if-verzweigung"
   ]
  },
  {
   "cell_type": "code",
   "execution_count": null,
   "metadata": {},
   "outputs": [],
   "source": []
  }
 ],
 "metadata": {
  "kernelspec": {
   "display_name": "Python 3.8.10 64-bit",
   "language": "python",
   "name": "python3"
  },
  "language_info": {
   "codemirror_mode": {
    "name": "ipython",
    "version": 3
   },
   "file_extension": ".py",
   "mimetype": "text/x-python",
   "name": "python",
   "nbconvert_exporter": "python",
   "pygments_lexer": "ipython3",
   "version": "3.8.10"
  },
  "orig_nbformat": 4,
  "vscode": {
   "interpreter": {
    "hash": "916dbcbb3f70747c44a77c7bcd40155683ae19c65e1c03b4aa3499c5328201f1"
   }
  }
 },
 "nbformat": 4,
 "nbformat_minor": 2
}
