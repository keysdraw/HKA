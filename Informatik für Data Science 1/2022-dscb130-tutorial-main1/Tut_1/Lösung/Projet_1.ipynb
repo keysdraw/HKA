{
 "cells": [
  {
   "cell_type": "markdown",
   "metadata": {},
   "source": [
    "### Radom Story Generator"
   ]
  },
  {
   "cell_type": "markdown",
   "metadata": {},
   "source": [
    "## Examples"
   ]
  },
  {
   "cell_type": "code",
   "execution_count": 3,
   "metadata": {},
   "outputs": [
    {
     "name": "stdout",
     "output_type": "stream",
     "text": [
      "About 100 years ago there was a man named j. One day he was passing by the mountains he saw a young lady who seemed very old and feeble searching something.\n"
     ]
    }
   ],
   "source": [
    "# https://www.youtube.com/watch?v=8ext9G7xspg\n",
    "# 1. Madlibs \n",
    "# Importing random module\n",
    "import random\n",
    "  \n",
    "# Defining list of phrases which will help to build a story\n",
    "  \n",
    "Sentence_starter = ['About 100 years ago', ' In the 20 BC', 'Once upon a time']\n",
    "character = [' there lived a king named ',' there was a man named ',\n",
    "             ' there lived a farmer named ']\n",
    "\n",
    "name = input(\"Enter Name hier:\") + \". \"\n",
    "\n",
    "time = ['One day', 'One full-moon night']\n",
    "story_plot = [' he was passing by',' he was going for a picnic to']\n",
    "place = [' the mountains', ' the garden']\n",
    "second_character = [' he saw a man', ' he saw a young lady']\n",
    "age = [' who seemed to be in late 20s', ' who seemed very old and feeble']\n",
    "work = [' searching something.', ' digging a well on roadside.']\n",
    "  \n",
    "# Selecting an item from each list and concatenating them.\n",
    "print(f\"{random.choice(Sentence_starter)}{random.choice(character)}{name}\\\n",
    "{random.choice(time)}{random.choice(story_plot)}{random.choice(place)}\\\n",
    "{random.choice(second_character)}{random.choice(age)}{random.choice(work)}\")\n",
    "\n"
   ]
  }
 ],
 "metadata": {
  "kernelspec": {
   "display_name": "Python 3.8.10 64-bit",
   "language": "python",
   "name": "python3"
  },
  "language_info": {
   "codemirror_mode": {
    "name": "ipython",
    "version": 3
   },
   "file_extension": ".py",
   "mimetype": "text/x-python",
   "name": "python",
   "nbconvert_exporter": "python",
   "pygments_lexer": "ipython3",
   "version": "3.8.10"
  },
  "orig_nbformat": 4,
  "vscode": {
   "interpreter": {
    "hash": "916dbcbb3f70747c44a77c7bcd40155683ae19c65e1c03b4aa3499c5328201f1"
   }
  }
 },
 "nbformat": 4,
 "nbformat_minor": 2
}
