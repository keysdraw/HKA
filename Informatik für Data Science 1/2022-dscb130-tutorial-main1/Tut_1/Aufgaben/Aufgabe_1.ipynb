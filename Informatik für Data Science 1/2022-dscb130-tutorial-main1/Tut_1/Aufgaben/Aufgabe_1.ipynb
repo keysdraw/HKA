{
 "cells": [
  {
   "cell_type": "markdown",
   "metadata": {},
   "source": [
    "# 1. Tutorium"
   ]
  },
  {
   "cell_type": "markdown",
   "metadata": {},
   "source": [
    "Ein Hello-World-Programm ist eines der kleinste lauffähige Programm in Python es gibt den Text \"Hello World\" auf der Konsole aus. Es verwendet für die Ausgabe die print Funktion.\n",
    "Then press  `<shift> + <return>` to execute the command."
   ]
  },
  {
   "cell_type": "code",
   "execution_count": null,
   "metadata": {},
   "outputs": [],
   "source": [
    "print(\"Hallo Welt\")"
   ]
  },
  {
   "cell_type": "markdown",
   "metadata": {},
   "source": [
    "## String\n",
    "Ein ist eine Folge von Zeichen, die von Anführungszeichen umgeben sind. Für eine Zeichenkette können sowohl einfache, doppelte als auch dreifache Anführungszeichen verwendet werden. Und ein Zeichenliteral ist ein einzelnes Zeichen, das von einfachen oder doppelten Anführungszeichen umgeben ist."
   ]
  },
  {
   "cell_type": "code",
   "execution_count": 2,
   "metadata": {},
   "outputs": [
    {
     "name": "stdout",
     "output_type": "stream",
     "text": [
      "Apple\n",
      "Apple\n",
      "Apple\n",
      "Apple\n"
     ]
    },
    {
     "ename": "NameError",
     "evalue": "name 'Apple' is not defined",
     "output_type": "error",
     "traceback": [
      "\u001b[0;31m---------------------------------------------------------------------------\u001b[0m",
      "\u001b[0;31mNameError\u001b[0m                                 Traceback (most recent call last)",
      "\u001b[1;32m/home/ich/Documents/Uni/Semester_3/tutorium/2022-dscb130-tutorial/Tut_1/Aufgaben/Aufgabe_1.ipynb Cell 3\u001b[0m in \u001b[0;36m<cell line: 15>\u001b[0;34m()\u001b[0m\n\u001b[1;32m     <a href='vscode-notebook-cell:/home/ich/Documents/Uni/Semester_3/tutorium/2022-dscb130-tutorial/Tut_1/Aufgaben/Aufgabe_1.ipynb#W2sZmlsZQ%3D%3D?line=11'>12</a>\u001b[0m d \u001b[39m=\u001b[39m \u001b[39m\"\u001b[39m\u001b[39mApple\u001b[39m\u001b[39m\"\u001b[39m\n\u001b[1;32m     <a href='vscode-notebook-cell:/home/ich/Documents/Uni/Semester_3/tutorium/2022-dscb130-tutorial/Tut_1/Aufgaben/Aufgabe_1.ipynb#W2sZmlsZQ%3D%3D?line=12'>13</a>\u001b[0m \u001b[39mprint\u001b[39m(d)\n\u001b[0;32m---> <a href='vscode-notebook-cell:/home/ich/Documents/Uni/Semester_3/tutorium/2022-dscb130-tutorial/Tut_1/Aufgaben/Aufgabe_1.ipynb#W2sZmlsZQ%3D%3D?line=14'>15</a>\u001b[0m e \u001b[39m=\u001b[39m Apple     \u001b[39m# cannot write string with out quotes ('', \" \", \"\"\" \"\"\", ''' ''')\u001b[39;00m\n\u001b[1;32m     <a href='vscode-notebook-cell:/home/ich/Documents/Uni/Semester_3/tutorium/2022-dscb130-tutorial/Tut_1/Aufgaben/Aufgabe_1.ipynb#W2sZmlsZQ%3D%3D?line=15'>16</a>\u001b[0m \u001b[39mprint\u001b[39m(e)\n",
      "\u001b[0;31mNameError\u001b[0m: name 'Apple' is not defined"
     ]
    }
   ],
   "source": [
    "# Example:\n",
    "\n",
    "a = '''Apple'''\n",
    "print(a)\n",
    "\n",
    "b = \"\"\"Apple\"\"\"\n",
    "print(b)\n",
    "\n",
    "c = 'Apple'\n",
    "print(c)\n",
    "\n",
    "d = \"Apple\"\n",
    "print(d)\n",
    "\n",
    "e = Apple     # cannot write string with out quotes ('', \" \", \"\"\" \"\"\", ''' ''')\n",
    "print(e)\n"
   ]
  },
  {
   "cell_type": "code",
   "execution_count": 2,
   "metadata": {},
   "outputs": [
    {
     "name": "stdout",
     "output_type": "stream",
     "text": [
      "This is Python\n",
      "C\n",
      "-------------\n",
      "This \n",
      "is \n",
      "a \n",
      "multiline \n",
      "string.\n",
      "-------------\n",
      "Ünicöde\n",
      "raw \\n string\n",
      "🤣\n"
     ]
    }
   ],
   "source": [
    "strings = \"This is Python\"\n",
    "char = \"C\"\n",
    "\n",
    "multiline_str = \"\"\"-------------\n",
    "This \n",
    "is \n",
    "a \n",
    "multiline \n",
    "string.\n",
    "-------------\"\"\"\n",
    "\n",
    "unicode = u\"\\u00dcnic\\u00f6de\"\n",
    "\n",
    "raw_str = r\"raw \\n string\"\n",
    "\n",
    "print(strings)\n",
    "print(char)\n",
    "print(multiline_str)\n",
    "print(unicode)\n",
    "print(raw_str)\n",
    "print(\"\\U0001F923\")\n"
   ]
  },
  {
   "cell_type": "markdown",
   "metadata": {},
   "source": [
    "Aufgabe: Druck etwas Auf der Console aus mit ``` print() ```"
   ]
  },
  {
   "cell_type": "code",
   "execution_count": null,
   "metadata": {},
   "outputs": [],
   "source": []
  },
  {
   "cell_type": "markdown",
   "metadata": {},
   "source": [
    "## input()"
   ]
  },
  {
   "cell_type": "markdown",
   "metadata": {},
   "source": [
    "Um eine Angabe vom Nutzer zubekommen, gibt es in Python den Befehl ```input``` mit diesem Befehl können mit dem Programm interagieren."
   ]
  },
  {
   "cell_type": "code",
   "execution_count": 9,
   "metadata": {},
   "outputs": [
    {
     "name": "stdout",
     "output_type": "stream",
     "text": [
      "g  🤣\n"
     ]
    }
   ],
   "source": [
    "eingabe = input(\"Put youer input her:\")  # Eingabe\n",
    "ausgabe = f\"{eingabe}  \\U0001F923\"       # Verarbeiung\n",
    "print(ausgabe)                           # Ausgbabe "
   ]
  },
  {
   "cell_type": "markdown",
   "metadata": {},
   "source": [
    "### Mini Excurs F-String"
   ]
  },
  {
   "cell_type": "markdown",
   "metadata": {},
   "source": [
    "F-Strings sind String in, die an vordefinierten Stellen (`{}`) definierte Strings eingesetzt werden können. Z.b.:"
   ]
  },
  {
   "cell_type": "code",
   "execution_count": 11,
   "metadata": {},
   "outputs": [
    {
     "data": {
      "text/plain": [
       "'Welcome to Python Paul!'"
      ]
     },
     "execution_count": 11,
     "metadata": {},
     "output_type": "execute_result"
    }
   ],
   "source": [
    "name = \"Paul\"\n",
    "f\"Welcome to Python {name}!\""
   ]
  },
  {
   "cell_type": "markdown",
   "metadata": {},
   "source": [
    "### EVA (Reminder: Grundprinzip der Datenverarbeitung)\n",
    "- Eingabe\n",
    "- Verarbeitung\n",
    "- Ausgabe \n",
    "\n",
    "Wir wissen nun genug um kleine Programme zu schreiben. Da wir mit `input()` Eingaben entgegen nehmen sie weiter mit `f-Strings` verarbeiten können und sie dann mit `print()` ausgeben können. Hier ein Beispiel eines Text Generator:"
   ]
  },
  {
   "cell_type": "code",
   "execution_count": null,
   "metadata": {},
   "outputs": [],
   "source": [
    "#Eingabe\n",
    "adj = input(\"Adjective: \")\n",
    "verb1 = input(\"Verb: \")\n",
    "verb2 = input(\"Verb: \")\n",
    "famous_person = input(\"Famous person: \")\n",
    "\n",
    "#Verarbeitung\n",
    "text = f\"Computer programming is so {adj}! It makes me so excited all the time because \\\n",
    "I love to {verb1}. Stay hydrated and {verb2} like you are {famous_person}!\"\n",
    "\n",
    "#Ausgabe\n",
    "print(text)"
   ]
  },
  {
   "cell_type": "markdown",
   "metadata": {},
   "source": [
    "## Aufgabe\n",
    "\n",
    "1. Setze den Text Generator um eine Variabel fort.\n"
   ]
  },
  {
   "cell_type": "markdown",
   "metadata": {},
   "source": [
    "## String Indizierung\n",
    "\n",
    "Betrachten wir den String \"Hello World\":\n",
    "Aufbau eines Strings\n",
    "Man sieht, dass die Zeichen eines Strings von links nach rechts mit 0 beginnend nummeriert sind. Von hinten (rechts) beginnt man mit -1 zu zählen. Jedes Zeichen eines Strings kann so eindeutig angesprochen werden, sie können mit eckigen Klammern indizieren, wie man im folgenden Beispiel sehen kann:\n",
    "\n",
    "``` py\n",
    "txt = \"Hello World\"\n",
    "txt[0]\n",
    "'H'\n",
    "txt[4]\n",
    "'o'\n",
    "``` \n",
    "Statt von vorne kann man die Indizes auch von hinten bestimmen:\n",
    "``` py\n",
    "txt[-1]\n",
    "'d'\n",
    "txt[-5]\n",
    "'W'\n",
    "\n",
    "``` \n",
    "## String Slicing\n",
    " Man kann auch Teile eines sequentiellen Datentyps ausschneiden. Im Falle eines Strings erhält man dann einen Teilstring oder bei Listen wieder eine Liste. Im Englischen wird dieses Ausschneiden als \"slicing\" bezeichnet. Wie bei der Indizierung benutzt der Slicing-Operator eckige Klammer, aber nun werden statt einem Wert mindestens zwei Werte erwartet: Anfangswert und Endwert\n",
    "Man versteht dies am besten an einem Beispiel:\n",
    "``` py\n",
    "txt = \"Hello World\"\n",
    "txt[1:5]\n",
    "'ello'\n",
    "txt[0:5]\n",
    "'Hello'\n",
    "txt = \"Hello World\"\n",
    "txt[0:5]\n",
    "'Hello'\n",
    "```\n",
    "Lässt man den Anfangswert weg (z.B. [:5] ), beginnt das ausschneiden am Anfang des Strings (oder der Liste). Analog kann man auch den Endwert weglassen, um alles bis zum Ende zu übernehmen ( z.B. [6:] )\n",
    "Lässt man Anfangs- und Endwert weg, erhält man den ganzen String (oder entsprechend die ganze Liste oder Tupel) zurück:\n",
    "\n",
    "``` py\n",
    "txt[0:-6]\n",
    "'Hello'\n",
    "txt[:5]\n",
    "'Hello'\n",
    "txt[6:]\n",
    "'World'\n",
    "txt[:]\n",
    "'Hello World'\n",
    "```\n",
    "Der obige Slicing-Operator funktioniert auch mit drei Argumenten. Das dritte Argument gibt dann an, das wievielte Argument jedesmal genommen werden soll, d.h. s[begin, end, step].\n",
    "Ausgegeben werden dann die folgenden Elemente von s: s[begin], s[begin + 1 * step], ... s[begin + i * step] solange (begin + i * step) < end ist.\n",
    "txt[::3] gibt jeden dritten Buchstaben eines Strings aus.\n",
    "Beispiel: \n",
    "``` py\n",
    "txt = \"Python ist ganz toll\"\n",
    "txt[2:15:3]\n",
    "'tnsgz'\n",
    "txt[::3]\n",
    "'Ph ta l'\n",
    "```\n",
    "(https://www.python-kurs.eu/sequentielle_datentypen.php)\n",
    "###### "
   ]
  },
  {
   "cell_type": "markdown",
   "metadata": {},
   "source": [
    "#### Syntax\n",
    "``` py\n",
    "str[index]              # get character of index  \n",
    "str[start:stop]         # items start through stop-1\n",
    "str[start:]             # items start through the rest of the str\n",
    "str[:stop]              # items from the beginning through stop-1\n",
    "str[:]                  # a copy of the whole str\n",
    "str[start:stop:step]    # start through not past stop, by step\n",
    "\n",
    "```"
   ]
  },
  {
   "cell_type": "markdown",
   "metadata": {},
   "source": [
    "## Aufgabe:\n",
    "Versuche durch Anwenden des gelerntem die angegeben Outputs zu erzeugen."
   ]
  },
  {
   "cell_type": "code",
   "execution_count": 6,
   "metadata": {},
   "outputs": [],
   "source": [
    "alphabet =\"abcdefghijklmnopqrstuvwxyz\" "
   ]
  },
  {
   "cell_type": "markdown",
   "metadata": {},
   "source": [
    "Output: 'i'"
   ]
  },
  {
   "cell_type": "markdown",
   "metadata": {},
   "source": [
    "Output: 'abc'"
   ]
  },
  {
   "cell_type": "markdown",
   "metadata": {},
   "source": [
    "Output: 'xyz'"
   ]
  },
  {
   "cell_type": "markdown",
   "metadata": {},
   "source": [
    "Output: 'zyx'"
   ]
  },
  {
   "cell_type": "code",
   "execution_count": 20,
   "metadata": {},
   "outputs": [],
   "source": [
    "mums = '0, 1, 2, 3, 4, 5, 6, 7, 8, 9'"
   ]
  },
  {
   "cell_type": "markdown",
   "metadata": {},
   "source": [
    "Output: '0123456789'"
   ]
  },
  {
   "cell_type": "markdown",
   "metadata": {},
   "source": [
    "Output: '97531'"
   ]
  },
  {
   "cell_type": "markdown",
   "metadata": {},
   "source": [
    "Output: '678'"
   ]
  },
  {
   "cell_type": "markdown",
   "metadata": {},
   "source": [
    "Output: '876'"
   ]
  },
  {
   "cell_type": "code",
   "execution_count": 10,
   "metadata": {},
   "outputs": [
    {
     "data": {
      "text/plain": [
       "'llot znag tsi no'"
      ]
     },
     "execution_count": 10,
     "metadata": {},
     "output_type": "execute_result"
    }
   ],
   "source": [
    "txt = \"Python ist ganz toll\""
   ]
  },
  {
   "cell_type": "markdown",
   "metadata": {},
   "source": [
    "Output: 'yoi nt'"
   ]
  },
  {
   "cell_type": "markdown",
   "metadata": {},
   "source": [
    "Output: 'llot znag tsi no'"
   ]
  }
 ],
 "metadata": {
  "kernelspec": {
   "display_name": "Python 3.8.10 64-bit",
   "language": "python",
   "name": "python3"
  },
  "language_info": {
   "codemirror_mode": {
    "name": "ipython",
    "version": 3
   },
   "file_extension": ".py",
   "mimetype": "text/x-python",
   "name": "python",
   "nbconvert_exporter": "python",
   "pygments_lexer": "ipython3",
   "version": "3.8.10"
  },
  "orig_nbformat": 4,
  "vscode": {
   "interpreter": {
    "hash": "916dbcbb3f70747c44a77c7bcd40155683ae19c65e1c03b4aa3499c5328201f1"
   }
  }
 },
 "nbformat": 4,
 "nbformat_minor": 2
}
