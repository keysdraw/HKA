{
 "cells": [
  {
   "cell_type": "markdown",
   "id": "d06e81f3",
   "metadata": {},
   "source": [
    "# Kontrollstrukturen in Python"
   ]
  },
  {
   "cell_type": "markdown",
   "id": "711e4031",
   "metadata": {},
   "source": [
    "## if - else - elif"
   ]
  },
  {
   "cell_type": "markdown",
   "id": "50465954",
   "metadata": {},
   "source": [
    " <div class=\"alert alert-block alert-info\"> \n",
    "    <b>NOTE</b> \"Das if Statement wird verwendet wenn ein Teil des Codes nur unter einer bestimmten Bedingung ausgeführt werden soll. Python unterstützt hierzu die Vergleichsoperatoren der Mathematik\" </div>"
   ]
  },
  {
   "cell_type": "markdown",
   "id": "685c8a0e",
   "metadata": {},
   "source": [
    "+ Equals: <span style=\"color:red\">a == b</span>\n",
    "+ Not Equals: <span style=\"color:red\">a != b</span>\n",
    "+ Less than: <span style=\"color:red\">a < b</span>\n",
    "+ Less than or equal to: <span style=\"color:red\">a <= b</span>\n",
    "+ Greater than: <span style=\"color:red\">a > b</span>\n",
    "+ Greater than or equal to:  <span style=\"color:red\">a >= b</span>\n",
    "\n"
   ]
  },
  {
   "cell_type": "code",
   "execution_count": 4,
   "id": "ca56ecbd",
   "metadata": {},
   "outputs": [],
   "source": [
    "# Beispiel - Prüft die Gleichheit zweier Variablen\n",
    "\n",
    "a = 33\n",
    "b = 24 \n",
    "\n",
    "if a == b:\n",
    "    print('a und b sind gleich')\n",
    "else: \n",
    "    print('a und b sind nicht gleich')"
   ]
  },
  {
   "cell_type": "markdown",
   "id": "6e60bdb9",
   "metadata": {},
   "source": [
    "### Aufgabe_1: Einstieg"
   ]
  },
  {
   "cell_type": "markdown",
   "id": "16796bdc",
   "metadata": {},
   "source": [
    "Definiere ein paar Variablen und wende die oben aufgeführten Vergleichsoperatoren auf diese an."
   ]
  },
  {
   "cell_type": "code",
   "execution_count": 1,
   "id": "47d4b6d1",
   "metadata": {},
   "outputs": [
    {
     "name": "stdout",
     "output_type": "stream",
     "text": [
      "a, b sind gleich\n",
      "d ist kleiner als c\n"
     ]
    }
   ],
   "source": [
    "a = 25\n",
    "b = 50/2\n",
    "c = 43\n",
    "d = 34\n",
    "\n",
    "if a == b:\n",
    "    print('a, b sind gleich')\n",
    "else:\n",
    "    print('a, ,b sind ungleich')\n",
    "\n",
    "if c <= d:\n",
    "    print('d ist größer-gleich als c')\n",
    "else:\n",
    "    print('d ist kleiner als c')\n"
   ]
  },
  {
   "cell_type": "markdown",
   "id": "5cc8f7bf",
   "metadata": {},
   "source": [
    "### Aufgabe_2: if vs. elif"
   ]
  },
  {
   "cell_type": "markdown",
   "id": "7c16cce6",
   "metadata": {},
   "source": [
    "<div class=\"alert alert-block alert-info\"> \n",
    "    <b>NOTE</b> \"elif sagt in Python in etwa \"wenn die vorausgegangene Condition not true war dann prüfe diese Condition (in anderen Programmiersprachen häufig \"else if\"). \" </div>"
   ]
  },
  {
   "cell_type": "markdown",
   "id": "5967720e",
   "metadata": {},
   "source": [
    "Zeige an einem selbstgewählten Beispiel den Unterschied zwischen mehreren aufeinanderfolgenden `if-Statements` und der Verwendung von einem if Statement gefolgt von `elif-Statements`. "
   ]
  },
  {
   "cell_type": "code",
   "execution_count": 3,
   "id": "c19b60cc",
   "metadata": {
    "scrolled": true
   },
   "outputs": [
    {
     "name": "stdout",
     "output_type": "stream",
     "text": [
      "Die Zahl ist auf jedenfall nicht durch 2 teilbar\n"
     ]
    }
   ],
   "source": [
    "a = int(input('Ziffer eingeben'))\n",
    "\n",
    "#if a >= 0:\n",
    "   # if a % 2 == 0:\n",
    "  #      print('Die Zahl ist positv und durch 2 teilbar')\n",
    "\n",
    "if a >= 0 and a % 2 == 0:\n",
    "    print('Die Zahl ist durch positv und durch 2 teilbar')\n",
    "elif a <= 0 and a % 2 == 0:\n",
    "    print('Die Zahl ist kleiner als Null und durch 2 teilbar')\n",
    "else:\n",
    "    print('Die Zahl ist auf jedenfall nicht durch 2 teilbar')"
   ]
  },
  {
   "cell_type": "markdown",
   "id": "218274b0",
   "metadata": {},
   "source": [
    "### Aufgabe_3: Umwandlung von Zeichenketten"
   ]
  },
  {
   "cell_type": "markdown",
   "id": "3be0fef9",
   "metadata": {},
   "source": [
    "Schreiben Sie ein Python Programm, welches beliebige Eingabewerte(input) in Integer- und Float-Typen umwandelt. Schaue dir hierzu auch die `isnumeric()` methode an. Nutze hierzu die kennengelernten Kontrollstrukturen `if` und `else`"
   ]
  },
  {
   "cell_type": "code",
   "execution_count": 10,
   "id": "0d3b2155",
   "metadata": {},
   "outputs": [
    {
     "name": "stdout",
     "output_type": "stream",
     "text": [
      "2345678 2345678.0\n"
     ]
    }
   ],
   "source": [
    "a = \"\\u0030\" #unicode for 0\n",
    "b = \"\\u00B2\" #unicode for &sup2;\n",
    "\n",
    "f = input('Bitte etwas eingeben')\n",
    "\n",
    "\n",
    "\n",
    "if f.isnumeric():\n",
    "    print(int(f), float(f))\n",
    "else:\n",
    "    print('Eingabe besteht nicht komplett aus Ziffern')\n"
   ]
  },
  {
   "cell_type": "markdown",
   "id": "1bdfb707",
   "metadata": {},
   "source": [
    "### Aufgabe_4 Umrechnung"
   ]
  },
  {
   "cell_type": "markdown",
   "id": "db47cdc5",
   "metadata": {},
   "source": [
    "Schreibe ein Programm, das Temperaturen in verschiedene Skalensystemen ineinander umwandelt. Das Programm soll zu Beginn eine Auswahl mit den verschiedenen Möglichkeiten anbieten nutze hierzu die `if`-`elif`-`else` Verzweigung"
   ]
  },
  {
   "cell_type": "markdown",
   "id": "5c54d6b0",
   "metadata": {},
   "source": [
    "<div class=\"alert alert-block alert-info\"> \n",
    "    <b>NOTE</b> \"Celsius = 5/9 * (Fahrenheit - 32)\" </div>"
   ]
  },
  {
   "cell_type": "code",
   "execution_count": 21,
   "id": "fec83f69",
   "metadata": {
    "scrolled": true
   },
   "outputs": [
    {
     "name": "stdout",
     "output_type": "stream",
     "text": [
      "(1) Umrechnung von Celsius nach Fahrenheit\n",
      "(2) Umrechnung von Fahrenheit nach Celsius\n",
      "\n",
      "    In Fahrenheit: 23\n",
      "    IN Grad Celsius: -5\n",
      "    \n"
     ]
    }
   ],
   "source": [
    "print(\"(1) Umrechnung von Celsius nach Fahrenheit\")\n",
    "print(\"(2) Umrechnung von Fahrenheit nach Celsius\")\n",
    "\n",
    "wahl = input(\"Bitte wählen: \")\n",
    "\n",
    "if wahl == '1' or wahl == '(1)':\n",
    "    wert_celsius = float(input('Grad Celsius angeben'))\n",
    "    wert_fahrenheit = (wert_celsius*(9/5)) + 32 \n",
    "    print(\n",
    "        '''In Grad Celsius: %d\n",
    "        In Fahrenheit: %d '''\n",
    "        %(wert_celsius, wert_fahrenheit))\n",
    "elif wahl == '2' or wahl == '(2)':\n",
    "    wert_fahrenheit = float(input('Fahrenheit angeben'))\n",
    "    wert_celsius = 5/9 * (wert_fahrenheit - 32)\n",
    "    print(\n",
    "        '''In Fahrenheit: %d\n",
    "        In Grad Celsius: %d'''\n",
    "        %(wert_fahrenheit, wert_celsius))\n",
    "else:\n",
    "    print('''\n",
    "    Jo\n",
    "    gib mal Ziffern ein\n",
    "    sonst geht's halt nicht\n",
    "    ''')"
   ]
  },
  {
   "cell_type": "markdown",
   "id": "d892a5a3",
   "metadata": {},
   "source": [
    "## NOT - OR - AND - IN"
   ]
  },
  {
   "cell_type": "markdown",
   "id": "34264951",
   "metadata": {},
   "source": [
    "<div class=\"alert alert-block alert-info\"> \n",
    "    <b>NOTE</b> \"Logische Operatoren werden genutzt um Conditional Statements zu kombinieren\" </div>"
   ]
  },
  {
   "cell_type": "markdown",
   "id": "eab52ad3",
   "metadata": {},
   "source": [
    "| Operator     | Description                                | Example               | \n",
    "|:--------------|:--------------------------------------------|-----------------------:|\n",
    "|and           |`True` wenn beide Statements true           |x < 5 `and` x < 10     |\n",
    "|or            |`True` wenn eines der beiden Statements true|x < 5 `or` x < 4       |\n",
    "|not           |`False` wenn beide Statements true          |not(x < 5 `and` x < 10)|\n",
    "|in            |`True` wenn ein definierter Wert in geprüfter Sequenz liegt         |x `in` y|\n",
    "|not in        |`True` wenn ein definierter Wert nicht in geprüfter Sequenz liegt   |x `in` y|"
   ]
  },
  {
   "cell_type": "markdown",
   "id": "5a6ec1e9",
   "metadata": {},
   "source": [
    "<table>\n",
    "<tr><th> AND </th><th> OR </th><th> NOT </th></tr>\n",
    "<tr><td>\n",
    "\n",
    "|A|B|A and B|\n",
    "|--|--|:--:|\n",
    "|T|T|T|\n",
    "|T|F|F|\n",
    "|F|T|F|\n",
    "|F|F|F|\n",
    "\n",
    "</td><td>\n",
    "\n",
    "|A|B|A or B|\n",
    "|--|--|:--:|\n",
    "|T|T|T|\n",
    "|T|F|T|\n",
    "|F|T|T|\n",
    "|F|F|F|\n",
    "    \n",
    "</td><td>\n",
    "\n",
    "|A|A'|\n",
    "|-|-|\n",
    "|T|F|\n",
    "|F|T|\n",
    "\n",
    "</td></tr> </table>\n"
   ]
  },
  {
   "cell_type": "markdown",
   "id": "ee16918c",
   "metadata": {},
   "source": [
    "### Aufgabe_5: Wetterempfehlung"
   ]
  },
  {
   "cell_type": "markdown",
   "id": "908aa3c1",
   "metadata": {},
   "source": [
    "Schreibe ein Programm welches nach der aktuellen Temperatur fragt und abhängig davon ausgibt, ob das Wetter gut oder schlecht ist. \n",
    "Wenn die eingegebene Temperatur nicht niedriger als 10 Grad und nicht höher als 30 Grad ist, dann ist das Wetter gut. Wenn die Temperatur aber außerhalb des Intervalls liegt, ist das Wetter schlecht. "
   ]
  },
  {
   "cell_type": "code",
   "execution_count": 28,
   "id": "86a9c6ad",
   "metadata": {},
   "outputs": [
    {
     "name": "stdout",
     "output_type": "stream",
     "text": [
      "Eingabe ungültig Brudi\n"
     ]
    }
   ],
   "source": [
    "from cmath import exp\n",
    "\n",
    "try:\n",
    "    emperature = int(input('Temperatur eingeben: '))\n",
    "\n",
    "    if temperature < 10 or temperature > 30:\n",
    "        print('Du hast schlechtes Wetter')\n",
    "    else:\n",
    "        print('Du hast gutes Wetter')\n",
    "except:\n",
    "    print('Eingabe ungültig Brudi')"
   ]
  },
  {
   "cell_type": "markdown",
   "id": "41ae8057",
   "metadata": {},
   "source": [
    "# for - while - break - continue"
   ]
  },
  {
   "cell_type": "markdown",
   "id": "ecc9fcba",
   "metadata": {},
   "source": [
    "## for\n",
    "https://pythonbuch.com/kontrollstrukturen.html#die-for-schleife"
   ]
  },
  {
   "cell_type": "code",
   "execution_count": 29,
   "id": "4ba5dd94",
   "metadata": {},
   "outputs": [
    {
     "name": "stdout",
     "output_type": "stream",
     "text": [
      "Wenn ich zu 4 zwei addiere, erhalte ich 6\n",
      "Wenn ich zu 5 zwei addiere, erhalte ich 7\n",
      "Wenn ich zu 7 zwei addiere, erhalte ich 9\n",
      "Wenn ich zu 11 zwei addiere, erhalte ich 13\n",
      "Wenn ich zu 21 zwei addiere, erhalte ich 23\n",
      "Ich bin fertig!\n"
     ]
    }
   ],
   "source": [
    "for zahl in [4,5,7,11,21]:\n",
    "    summe = zahl + 2\n",
    "    print(\"Wenn ich zu\", zahl, \"zwei addiere, erhalte ich\", summe)\n",
    "print(\"Ich bin fertig!\")\n"
   ]
  },
  {
   "cell_type": "markdown",
   "id": "bc4597c9",
   "metadata": {},
   "source": [
    "Die Fakultät (manchmal, besonders in Österreich, auch Faktorielle genannt) ist in der Mathematik eine Funktion, die einer natürlichen Zahl das Produkt aller natürlichen Zahlen (ohne Null) kleiner und gleich dieser Zahl zuordnet. <a href=\"https://de.wikipedia.org/wiki/Fakult%C3%A4t_(Mathematik)\"> Qulle </a> <br>\n",
    "\n",
    "### Aufgabe_6:\n",
    "\n",
    "Er rechne die 5. Fakultät\n"
   ]
  },
  {
   "cell_type": "code",
   "execution_count": 44,
   "id": "3bd9bd2d",
   "metadata": {},
   "outputs": [
    {
     "data": {
      "text/plain": [
       "120"
      ]
     },
     "execution_count": 44,
     "metadata": {},
     "output_type": "execute_result"
    }
   ],
   "source": [
    "from math import factorial\n",
    "\n",
    "\n",
    "factorial(num)"
   ]
  },
  {
   "cell_type": "markdown",
   "id": "cf226d5e",
   "metadata": {},
   "source": [
    "### While\n",
    "https://pythonbuch.com/kontrollstrukturen.html#die-while-schleife"
   ]
  },
  {
   "cell_type": "code",
   "execution_count": 47,
   "id": "f5119430",
   "metadata": {},
   "outputs": [
    {
     "name": "stdout",
     "output_type": "stream",
     "text": [
      "Eingabe ungültig!\n",
      "Vielen Dank!\n"
     ]
    }
   ],
   "source": [
    "antwort = input('Beantworte die Frage mit Ja oder Nein (J/N): ')\n",
    "\n",
    "while antwort not in ['j', 'J', 'n', 'N']:\n",
    "    print('Eingabe ungültig!')\n",
    "    antwort = input('Beantworte die Frage mit Ja oder Nein (J/N): ')\n",
    "\n",
    "print('Vielen Dank!')\n"
   ]
  },
  {
   "cell_type": "markdown",
   "id": "c632143f",
   "metadata": {},
   "source": [
    "### Aufgabe_7:\n",
    "Herr Spar legt sich jedes Jahr einen festen Betrag (z.B. 800.00 Fr.) auf sein Konto, welches beispielsweise 2.5 Zins trägt. Er tut dies so lange, bis er einen bestimmten Betrag überschreitet. Dieser Betrag ist auch einzugeben, z.B. 5000.00. Schreibe dazu ein Programm."
   ]
  },
  {
   "cell_type": "code",
   "execution_count": 4,
   "id": "dc2eafd1",
   "metadata": {},
   "outputs": [
    {
     "name": "stdout",
     "output_type": "stream",
     "text": [
      "4.2668\n",
      "4.55139556\n",
      "4.8549736438519995\n",
      "5.178800385896928\n",
      "5.524226371636253\n",
      "5.892692270624391\n",
      "6.285734845075037\n",
      "6.704993359241542\n",
      "7.152216416302953\n",
      "7.62926925127036\n",
      "8.138141510330094\n",
      "8.680955549069111\n",
      "9.25997528419202\n",
      "9.877615635647627\n",
      "10.536452598545324\n",
      "11.239233986868298\n",
      "11.988890893792414\n",
      "12.788549916408368\n",
      "13.641546195832806\n",
      "14.551437327094854\n",
      "15.52201819681208\n",
      "16.557336810539447\n",
      "17.661711175802427\n",
      "18.83974731122845\n",
      "20.096358456887387\n",
      "21.436785565961777\n",
      "22.86661916321143\n",
      "24.39182266139763\n",
      "26.01875723291285\n",
      "27.75420834034814\n",
      "29.60541403664936\n",
      "31.580095152893872\n",
      "33.68648749959189\n",
      "35.93337621581467\n",
      "38.33013240940951\n",
      "40.88675224111712\n",
      "43.61389861559964\n",
      "46.52294565326013\n",
      "49.62602612833258\n",
      "52.936082071092365\n",
      "56.466918745234224\n",
      "60.233262225541345\n",
      "64.25082081598495\n",
      "68.53635056441115\n",
      "73.10772514705738\n",
      "77.98401041436611\n",
      "83.18554390900432\n",
      "88.73401968773491\n",
      "94.65257880090684\n",
      "100.96590580692732\n",
      "107.70033172424938\n",
      "114.88394385025681\n",
      "122.54670290506894\n",
      "130.72056798883705\n",
      "139.43962987369247\n",
      "148.74025318626775\n",
      "158.66122807379182\n",
      "169.24393198631373\n",
      "180.53250224980084\n",
      "192.57402014986255\n",
      "205.41870729385838\n",
      "219.12013507035874\n",
      "233.73544807955167\n",
      "249.32560246645778\n",
      "265.9556201509705\n",
      "283.69486001504026\n",
      "302.61730717804346\n",
      "322.80188156681896\n",
      "344.3327670673258\n",
      "367.29976263071643\n",
      "391.7986567981852\n",
      "417.93162720662417\n",
      "445.807666741306\n",
      "475.5430381129511\n",
      "507.26175875508494\n",
      "541.096118064049\n",
      "577.1872291389211\n",
      "615.6856173224871\n",
      "656.751847997897\n",
      "700.5571962593567\n",
      "747.2843612498558\n",
      "797.1282281452212\n",
      "850.2966809625075\n",
      "907.0114695827067\n",
      "967.5091346038732\n",
      "1032.0419938819516\n",
      "1100.8791948738779\n",
      "1174.3078371719655\n",
      "1252.6341699113357\n",
      "1336.1848690444217\n",
      "1425.3083998096847\n",
      "1520.3764700769907\n",
      "1621.7855806311259\n",
      "1729.958678859222\n",
      "1845.346922739132\n",
      "1968.431562485832\n",
      "2099.725947703637\n",
      "2239.7776684154696\n",
      "2389.1708388987813\n",
      "2548.52853385333\n",
      "2718.515387061347\n",
      "2899.840363378339\n",
      "3093.2597156156744\n",
      "3299.58013864724\n",
      "3519.662133895011\n",
      "3754.423598225808\n",
      "4004.843652227469\n",
      "4271.966723831041\n",
      "4556.906904310572\n",
      "4860.852594828087\n",
      "5185.07146290312\n",
      "Obergrenze wird nach 111 Jahren Überschritten\n"
     ]
    }
   ],
   "source": [
    "betrag = int(input('Betrag eingeben: '))\n",
    "zins = float(input('Zinssatz eingeben: '))\n",
    "obergrenze = int(input('Obergrenze eingeben: '))\n",
    "jahr = 0\n",
    "\n",
    "while betrag <= obergrenze:\n",
    "    betrag = betrag + (betrag*(zins/100))\n",
    "    print(betrag)\n",
    "    jahr = jahr + 1\n",
    "\n",
    "print('Obergrenze wird nach %d Jahren Überschritten' %(jahr))"
   ]
  },
  {
   "cell_type": "markdown",
   "id": "3b781fdc",
   "metadata": {},
   "source": [
    "### break\n",
    "-> Bricht die Schleife ab\n",
    "## continue\n",
    "-> Springt zur nächsten Schleifen iteration"
   ]
  },
  {
   "cell_type": "markdown",
   "id": "33084a45",
   "metadata": {},
   "source": [
    "\n",
    "# Fizz-Buzz-Test\n",
    "\n",
    "### Aufgabe_8\n",
    "\n",
    "Schreibe ein Programm, das die Zahlen von 1 bis 100 durchläuft:\n",
    "\n",
    "* ist die Zahl durch 3 teilbar, gibt das Programm *\"Fizz\"* aus\n",
    "* ist die Zahl durch 5 teilbar, gibt das Programm *\"Buzz\"* aus\n",
    "* ist die Zahl durch 3 und 5 teilbar, gibt das Programm *\"FizzBuzz\"* aus\n",
    "* andernfalls wird die Zahl ausgegeben\n",
    "\n"
   ]
  },
  {
   "cell_type": "markdown",
   "id": "3c5420c3",
   "metadata": {},
   "source": [
    "Nutze den gegeben code und break und continue."
   ]
  },
  {
   "cell_type": "code",
   "execution_count": 8,
   "id": "e5a0500e",
   "metadata": {},
   "outputs": [
    {
     "name": "stdout",
     "output_type": "stream",
     "text": [
      "1\n",
      "2\n",
      "Fizz\n",
      "4\n",
      "Buzz\n",
      "Fizz\n",
      "7\n",
      "8\n",
      "Fizz\n",
      "Buzz\n",
      "11\n",
      "Fizz\n",
      "13\n",
      "14\n",
      "FizzBuzz\n",
      "16\n",
      "17\n",
      "Fizz\n",
      "19\n",
      "Buzz\n",
      "Fizz\n",
      "22\n",
      "23\n",
      "Fizz\n",
      "Buzz\n",
      "26\n",
      "Fizz\n",
      "28\n",
      "29\n",
      "FizzBuzz\n",
      "31\n",
      "32\n",
      "Fizz\n",
      "34\n",
      "Buzz\n",
      "Fizz\n",
      "37\n",
      "38\n",
      "Fizz\n",
      "Buzz\n",
      "41\n",
      "Fizz\n",
      "43\n",
      "44\n",
      "FizzBuzz\n",
      "46\n",
      "47\n",
      "Fizz\n",
      "49\n",
      "Buzz\n",
      "Fizz\n",
      "52\n",
      "53\n",
      "Fizz\n",
      "Buzz\n",
      "56\n",
      "Fizz\n",
      "58\n",
      "59\n",
      "FizzBuzz\n",
      "61\n",
      "62\n",
      "Fizz\n",
      "64\n",
      "Buzz\n",
      "Fizz\n",
      "67\n",
      "68\n",
      "Fizz\n",
      "Buzz\n",
      "71\n",
      "Fizz\n",
      "73\n",
      "74\n",
      "FizzBuzz\n",
      "76\n",
      "77\n",
      "Fizz\n",
      "79\n",
      "Buzz\n",
      "Fizz\n",
      "82\n",
      "83\n",
      "Fizz\n",
      "Buzz\n",
      "86\n",
      "Fizz\n",
      "88\n",
      "89\n",
      "FizzBuzz\n",
      "91\n",
      "92\n",
      "Fizz\n",
      "94\n",
      "Buzz\n",
      "Fizz\n",
      "97\n",
      "98\n",
      "Fizz\n"
     ]
    }
   ],
   "source": [
    "i = 0\n",
    "\n",
    "while True: #while True ist prinzipiell schlechter Style\n",
    "    i = i + 1\n",
    "    if i == 100:\n",
    "        break\n",
    "    elif i % 3 == 0 and i % 5 == 0:\n",
    "        print('FizzBuzz')\n",
    "    elif i % 3 == 0:\n",
    "        print('Fizz')\n",
    "    elif i % 5 == 0:\n",
    "        print('Buzz')\n",
    "    else:\n",
    "        print(i)\n",
    "        continue\n",
    "\n",
    "    \n",
    "    "
   ]
  },
  {
   "cell_type": "markdown",
   "id": "b0e6aca7",
   "metadata": {},
   "source": [
    "#### Augabe_9"
   ]
  },
  {
   "cell_type": "markdown",
   "id": "d39fa07b",
   "metadata": {},
   "source": [
    "Schreibe ein Programm, welches alle Primzahlen zwischen 1 und einer vom Benutzer gewählten oberen Grenze ausgibt.\n",
    "\n",
    "Zusatzaufgabe: Versuche im Internet herauszufinden, wie man dieses Problem möglichst effizient (d.h. so, dass es wenig Zeit braucht) löst und schreibe dein Programm um, damit es schneller wird.\n"
   ]
  },
  {
   "cell_type": "code",
   "execution_count": 18,
   "id": "f1aae494",
   "metadata": {},
   "outputs": [
    {
     "data": {
      "text/plain": [
       "True"
      ]
     },
     "execution_count": 18,
     "metadata": {},
     "output_type": "execute_result"
    }
   ],
   "source": [
    "from math import sqrt\n",
    "\n",
    "def primeCheck(x):\n",
    "    \n",
    "    # ausgrenzen der 1\n",
    "    if x <= 1:\n",
    "        return False\n",
    "\n",
    "    #x durch alle Werte bis zur Wurzel von x teilen, wenn kein Rest dann ist es keine Primzahl\n",
    "    for i in range(2, int(sqrt(x)) + 1):\n",
    "        if (x % i == 0):\n",
    "            return False\n",
    "\n",
    "    return True\n",
    "\n",
    "primeCheck(67)"
   ]
  }
 ],
 "metadata": {
  "kernelspec": {
   "display_name": "Python 3.8.10 64-bit",
   "language": "python",
   "name": "python3"
  },
  "language_info": {
   "codemirror_mode": {
    "name": "ipython",
    "version": 3
   },
   "file_extension": ".py",
   "mimetype": "text/x-python",
   "name": "python",
   "nbconvert_exporter": "python",
   "pygments_lexer": "ipython3",
   "version": "3.10.6"
  },
  "vscode": {
   "interpreter": {
    "hash": "916dbcbb3f70747c44a77c7bcd40155683ae19c65e1c03b4aa3499c5328201f1"
   }
  }
 },
 "nbformat": 4,
 "nbformat_minor": 5
}
