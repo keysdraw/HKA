{
 "cells": [
  {
   "cell_type": "markdown",
   "id": "d42e517c-14a6-4c45-b0ac-4cbfe4f07c55",
   "metadata": {},
   "source": [
    "# DSCB130 | 3.3 Datenstrukturen"
   ]
  },
  {
   "cell_type": "markdown",
   "id": "3cc43109-3e5d-49a7-b9f3-268f7ad5e080",
   "metadata": {
    "tags": []
   },
   "source": [
    "## Übersicht\n",
    "\n",
    "| Kriterium | List [ ] | Tuple ( ) | String \" \" | Set { } | Dictionary { } |\n",
    "|---|:-:|:-:|:-:|:-:|:-:|\n",
    "| Sortiert | x |  x | - | - | x |\n",
    "| Änderbar | x | -  | x  | - | x |\n",
    "| Duplikate erlaubt | x | x | x | - | - |\n",
    "| Indexiert | x |  x | x | - | x |\n",
    "| Erstellung | `my_list = [\"apple\",\"banana\",\"cherry\"]` |  `my_tuple = (\"apple\",\"banana\",\"cherry\")` | `my_string = \"apple\",\"banana\",\"cherry\"` | `my_set = {\"apple\",\"banana\",\"cherry\"}` | `my_dict = {\"fruit 1\": \"apple\",\"fruit 2\": \"banana\",\"fruit 3\":\"cherry\"}` |\n",
    "| Ausgabe | print(my_list) | print(my_tuple) | print(my_string) | print(my_set) | print(my_dict) |\n",
    "| Methoden | [List Methods](https://www.w3schools.com/python/python_lists_methods.asp) | [Tuple Methods](https://www.w3schools.com/python/python_tuples_methods.asp) | [String Methods](https://www.w3schools.com/python/python_strings_methods.asp) | [Set Methods](https://www.w3schools.com/python/python_sets_methods.asp) | [Dictionary Methods](https://www.w3schools.com/python/python_dictionaries_methods.asp)  |\n",
    "| Training | [List Exercises](https://www.w3schools.com/python/exercise.asp?filename=exercise_lists1) | [Tuple Exercises](https://www.w3schools.com/python/exercise.asp?filename=exercise_tuples1) | [String Exercises](https://www.w3schools.com/python/python_strings_exercises.asp) | [Set Exercises](https://www.w3schools.com/python/exercise.asp?filename=exercise_sets1) | [Dictionary Exercises](https://www.w3schools.com/python/exercise.asp?filename=exercise_dictionaries1) |"
   ]
  },
  {
   "cell_type": "markdown",
   "id": "048565a6-4a4b-4975-b342-3c302ab49b6d",
   "metadata": {},
   "source": [
    "### Unstrukturierte elementare Datenstrukturen\n",
    "* Speichern einen Wert\n",
    "* Beispiele für skalare Datentypen\n",
    "\n",
    "```python \n",
    "int(i = 1)\n",
    "float(f = 0.1)\n",
    "bool(v = True)\n",
    "```\n"
   ]
  },
  {
   "cell_type": "markdown",
   "id": "f828b56f-7d13-44fb-b0cf-e7ae5afa31e7",
   "metadata": {},
   "source": [
    "### Strukturierte elementare Datenstrukturen\n",
    "* Speichern mehrere Werte\n",
    "* Sequenzen sind Listen von skalaren Datentypen: List, Tuple, Set\n",
    "* Dictionary\n",
    "* Sonderfall Strings\n",
    "    * Listen von einzelnen Zeichen\n",
    "    * grundsätzlich immutable (_unveränderbar_)\n",
    "    * Zeichenkettenmanipulation ermöglicht Verändernbarkeit"
   ]
  },
  {
   "cell_type": "markdown",
   "id": "cedf67e6-7584-49d0-8c18-a3378a9851bb",
   "metadata": {
    "tags": [],
    "toc-hr-collapsed": true
   },
   "source": [
    "\n",
    "### Aktuelle Entwicklung\n",
    "https://www.python.org  \n",
    "https://docs.python.org/3.11/"
   ]
  },
  {
   "cell_type": "markdown",
   "id": "859b639e-29b4-4c4e-9a07-a3fe4d1b19e7",
   "metadata": {},
   "source": [
    "https://earth-env-data-science.github.io/assignments/python_basics_and_functions.html  \n",
    "https://docs.python.org/3.10/tutorial/introduction.html"
   ]
  },
  {
   "cell_type": "markdown",
   "id": "1c481494-ea88-4b2c-ab67-ef92a82bb837",
   "metadata": {},
   "source": [
    "## List\n",
    "### Merkmale\n",
    "* Datentyp `list`\n",
    "* Semantisch: Zusammenfassen mehrerer Werte zu einer Liste\n",
    "* Syntaktisch: Listen können beliebige Objekte enthalten\n",
    "* Geordnete Reihenfolge in eckigen Klammern\n",
    "* Elemente werden mit Komma getrennt\n",
    "* Beliebig tiefe Verschachtelung\n",
    "* Veränderbar (_mutable_\n",
    "* Dynamisch\n",
    "* Vielzahl an Anwendungen, wie das Speichern von Personaldaten, Messdaten oder Inventarlisten"
   ]
  },
  {
   "cell_type": "markdown",
   "id": "22bda8d2-c5a8-40be-8b15-709bb0a260cd",
   "metadata": {},
   "source": [
    "### Syntax\n",
    "```python\n",
    "[e1,e2,...]\n",
    "```"
   ]
  },
  {
   "cell_type": "markdown",
   "id": "f260c9d5-3ca1-4386-af86-22209afa6b42",
   "metadata": {},
   "source": [
    "### Erstellen"
   ]
  },
  {
   "cell_type": "code",
   "execution_count": 1,
   "id": "2f821e7d-b460-4123-9c28-a03324433f3d",
   "metadata": {},
   "outputs": [],
   "source": [
    "elements = [1,2,3,4]"
   ]
  },
  {
   "cell_type": "markdown",
   "id": "74fa395d-04a0-4f2f-b0e7-4ec960aff549",
   "metadata": {},
   "source": [
    "### Anzahl Elemente"
   ]
  },
  {
   "cell_type": "code",
   "execution_count": 2,
   "id": "22fffc69-affe-4921-8500-465ea162b0d9",
   "metadata": {},
   "outputs": [
    {
     "data": {
      "text/plain": [
       "4"
      ]
     },
     "execution_count": 2,
     "metadata": {},
     "output_type": "execute_result"
    }
   ],
   "source": [
    "len(elements)"
   ]
  },
  {
   "cell_type": "markdown",
   "id": "32337d60-bbbd-448f-9bc2-797aec3cd37a",
   "metadata": {},
   "source": [
    "### Zugriff auf ein Element\n",
    "Feld mit $n$ Elementen, Zugriff über Feld-Index mit ganzzahligen Werten zwischen $0$ und $n−1$"
   ]
  },
  {
   "cell_type": "code",
   "execution_count": 3,
   "id": "80c8d96a-7c61-49d7-b912-122329a4fbdb",
   "metadata": {},
   "outputs": [],
   "source": [
    "e1 = elements[3]"
   ]
  },
  {
   "cell_type": "markdown",
   "id": "33c6d2c4-1d22-4257-954b-336a4ab46f8f",
   "metadata": {},
   "source": [
    "### Indexzahlen können auch negativ sein\n",
    "```python\n",
    "liste[-1] # gibt letzten Wert aus\n",
    "liste[-2] # gibt vorletzten Wert aus\n",
    "```"
   ]
  },
  {
   "cell_type": "code",
   "execution_count": 7,
   "id": "0ef335cd-a88a-487a-8e47-3928ea38452f",
   "metadata": {},
   "outputs": [
    {
     "data": {
      "text/plain": [
       "5"
      ]
     },
     "execution_count": 7,
     "metadata": {},
     "output_type": "execute_result"
    }
   ],
   "source": [
    "elements[-1]"
   ]
  },
  {
   "cell_type": "code",
   "execution_count": 5,
   "id": "f24b779e-c8ac-47b8-9d3e-20dde5828b53",
   "metadata": {},
   "outputs": [
    {
     "data": {
      "text/plain": [
       "3"
      ]
     },
     "execution_count": 5,
     "metadata": {},
     "output_type": "execute_result"
    }
   ],
   "source": [
    "elements[-2]"
   ]
  },
  {
   "cell_type": "markdown",
   "id": "f1cd3a68-3e70-4f7d-a5f5-6de40c60a59d",
   "metadata": {},
   "source": [
    "### Wertzuweisung\n",
    "Feld mit $n$ Elementen, Zugriff über Feld-Index mit ganzzahligen Werten zwischen $0$ und $n−1$ und Zuweisungsoperator"
   ]
  },
  {
   "cell_type": "code",
   "execution_count": 6,
   "id": "688fe2c6-79cf-43d9-b163-8c437525a6a1",
   "metadata": {},
   "outputs": [],
   "source": [
    "elements[3] = 5"
   ]
  },
  {
   "cell_type": "markdown",
   "id": "66569fe0-e48a-4c13-8b58-0891cbfdaee5",
   "metadata": {},
   "source": [
    "### Zugriff auf mehrere Werte\n",
    "* Slice-Operator `liste[a:b]`\n",
    "* Neu entstandene Liste enthält Werte vom ersten bis zum letzten angegebenen Index, jedoch ohne diesen Wert"
   ]
  },
  {
   "cell_type": "code",
   "execution_count": 14,
   "id": "51c1996c-2ff4-40db-b596-ba2fcdd526d7",
   "metadata": {},
   "outputs": [
    {
     "data": {
      "text/plain": [
       "[2, 3]"
      ]
     },
     "execution_count": 14,
     "metadata": {},
     "output_type": "execute_result"
    }
   ],
   "source": [
    "elements[1:3]"
   ]
  },
  {
   "cell_type": "markdown",
   "id": "1838c9c7-a5fb-4909-b8bd-fad8626ae27c",
   "metadata": {},
   "source": [
    "Wenn Beginn bei erstem oder letztem Element, kann durch verkürzte Schreibweise auf einen oder beide Index-Angaben verzichtet werden."
   ]
  },
  {
   "cell_type": "code",
   "execution_count": 15,
   "id": "ba23de92-1d75-4a93-9282-cf762b3b441a",
   "metadata": {},
   "outputs": [
    {
     "data": {
      "text/plain": [
       "[1, 2]"
      ]
     },
     "execution_count": 15,
     "metadata": {},
     "output_type": "execute_result"
    }
   ],
   "source": [
    "elements[:2]"
   ]
  },
  {
   "cell_type": "code",
   "execution_count": 16,
   "id": "35bf6ebb-6364-4579-be92-d5233b62d230",
   "metadata": {},
   "outputs": [
    {
     "data": {
      "text/plain": [
       "[3, 5]"
      ]
     },
     "execution_count": 16,
     "metadata": {},
     "output_type": "execute_result"
    }
   ],
   "source": [
    "elements[2:]"
   ]
  },
  {
   "cell_type": "markdown",
   "id": "1284d338-0909-473f-a835-3fff9227326f",
   "metadata": {},
   "source": [
    "### Zugriff auf mehrere Werte im Intervall\n",
    "* Slice-Operator `liste[a:b:c]`\n",
    "* Ausschnitt von a bis b mit jedem c-ten Element"
   ]
  },
  {
   "cell_type": "code",
   "execution_count": 17,
   "id": "e5198638-187a-45f6-900c-b8c55a752c46",
   "metadata": {},
   "outputs": [
    {
     "data": {
      "text/plain": [
       "[1, 3]"
      ]
     },
     "execution_count": 17,
     "metadata": {},
     "output_type": "execute_result"
    }
   ],
   "source": [
    "elements[0:3:2]"
   ]
  },
  {
   "cell_type": "markdown",
   "id": "6f064272-b31c-48ca-a507-06c10af830a0",
   "metadata": {},
   "source": [
    "### Elemente entfernen\n",
    "* Löscht das i-te Element aus der Liste\n",
    "```python\n",
    "del elements[i]\n",
    "```\n",
    "* Ausschnitt löschen\n",
    "```python\n",
    "del elements[a:b]\n",
    "del elements[a:b:c]\n",
    "```"
   ]
  },
  {
   "cell_type": "markdown",
   "id": "54df6100-64a3-46f1-a929-c57fc376fd7b",
   "metadata": {},
   "source": [
    "### Summe der Elemente bestimmen"
   ]
  },
  {
   "cell_type": "code",
   "execution_count": 23,
   "id": "fb98de04-9038-4703-8f4c-53641b56112d",
   "metadata": {},
   "outputs": [
    {
     "data": {
      "text/plain": [
       "7"
      ]
     },
     "execution_count": 23,
     "metadata": {},
     "output_type": "execute_result"
    }
   ],
   "source": [
    "sum(elements)"
   ]
  },
  {
   "cell_type": "code",
   "execution_count": 27,
   "id": "530d74d2",
   "metadata": {},
   "outputs": [],
   "source": [
    "#elements[3] = 'h'\n",
    "elements[3] = True\n",
    "elements.append('h')\n",
    "elements.append('f')"
   ]
  },
  {
   "cell_type": "markdown",
   "id": "c82f2117-1399-4f15-8946-c5bfa0b2572a",
   "metadata": {},
   "source": [
    "### Vorkommen von Elementen zählen"
   ]
  },
  {
   "cell_type": "code",
   "execution_count": 32,
   "id": "45881a52-f794-4427-88b0-6f6c4a01ec62",
   "metadata": {},
   "outputs": [
    {
     "name": "stdout",
     "output_type": "stream",
     "text": [
      "[1, 2, 3, True, 'h', 'h', 'h', 'f']\n",
      "4\n"
     ]
    }
   ],
   "source": [
    "def count_str(object_list): #zähler für strings in liste\n",
    "    j = 0\n",
    "    for i in object_list:\n",
    "        if type(i) == str:\n",
    "            j += 1\n",
    "    return j\n",
    "    \n",
    "print(elements)\n",
    "\n",
    "print(count_str(elements))"
   ]
  },
  {
   "cell_type": "markdown",
   "id": "cc0af1bf-9f51-46cc-b968-f0b3a7e7cc32",
   "metadata": {},
   "source": [
    "### Extremwerte bestimmen"
   ]
  },
  {
   "cell_type": "code",
   "execution_count": 43,
   "id": "375f825e-7e8a-4ec6-ad2c-dcf65529af1e",
   "metadata": {},
   "outputs": [
    {
     "name": "stdout",
     "output_type": "stream",
     "text": [
      "1 87\n",
      "None\n"
     ]
    }
   ],
   "source": [
    "n = [1,35,7,43,87,12]\n",
    "print(\n",
    "    min(n),\n",
    "    max(n)\n",
    ")\n",
    "\n",
    "print(\n",
    "    n.sort(reverse=True)\n",
    ")"
   ]
  },
  {
   "cell_type": "markdown",
   "id": "91bedce4-ef6b-4be0-b1b0-3d12d5461dc9",
   "metadata": {},
   "source": [
    "### Verketten von Listen"
   ]
  },
  {
   "cell_type": "code",
   "execution_count": 44,
   "id": "4ee81547-6ab2-48ea-b9e1-2d3466d229f4",
   "metadata": {},
   "outputs": [
    {
     "name": "stdout",
     "output_type": "stream",
     "text": [
      "[87, 43, 35, 12, 7, 1, 1, 2, 3, True, 'h', 'h', 'h', 'f']\n"
     ]
    }
   ],
   "source": [
    "big_list = n + elements\n",
    "\n",
    "\n",
    "print(big_list)"
   ]
  },
  {
   "cell_type": "markdown",
   "id": "484e5522-d483-461a-9ad2-13af77b92203",
   "metadata": {},
   "source": [
    "### Wiederholen von Listen"
   ]
  },
  {
   "cell_type": "code",
   "execution_count": 48,
   "id": "5c8f3012-995e-4663-b059-9e12e6017444",
   "metadata": {},
   "outputs": [],
   "source": [
    "#big_list * 2"
   ]
  },
  {
   "cell_type": "markdown",
   "id": "aa958aab-e061-4137-a59c-34d1b714d8f6",
   "metadata": {},
   "source": [
    "### Gezieltes erzeugen mit Schrittweite"
   ]
  },
  {
   "cell_type": "code",
   "execution_count": 51,
   "id": "54761d5f-e76c-42a9-a159-fd880e50658b",
   "metadata": {},
   "outputs": [
    {
     "data": {
      "text/plain": [
       "[0,\n",
       " 2,\n",
       " 4,\n",
       " 6,\n",
       " 8,\n",
       " 10,\n",
       " 12,\n",
       " 14,\n",
       " 16,\n",
       " 18,\n",
       " 20,\n",
       " 22,\n",
       " 24,\n",
       " 26,\n",
       " 28,\n",
       " 30,\n",
       " 32,\n",
       " 34,\n",
       " 36,\n",
       " 38,\n",
       " 40,\n",
       " 42,\n",
       " 44,\n",
       " 46,\n",
       " 48,\n",
       " 50,\n",
       " 52,\n",
       " 54,\n",
       " 56,\n",
       " 58,\n",
       " 60,\n",
       " 62,\n",
       " 64,\n",
       " 66,\n",
       " 68,\n",
       " 70,\n",
       " 72,\n",
       " 74,\n",
       " 76,\n",
       " 78,\n",
       " 80,\n",
       " 82,\n",
       " 84,\n",
       " 86,\n",
       " 88,\n",
       " 90,\n",
       " 92,\n",
       " 94,\n",
       " 96,\n",
       " 98]"
      ]
     },
     "execution_count": 51,
     "metadata": {},
     "output_type": "execute_result"
    }
   ],
   "source": [
    "start = 0\n",
    "stop = 100\n",
    "step = 2\n",
    "\n",
    "zahl_gerade  = list(range(start, stop, step))\n",
    "\n",
    "zahl_gerade\n",
    "\n"
   ]
  },
  {
   "cell_type": "markdown",
   "id": "925e211e-e0b5-4ff2-9fa6-f19f030915d2",
   "metadata": {},
   "source": [
    "### Verkürze Schreibweise für gezieltes erzeugen mit Schrittweite 1"
   ]
  },
  {
   "cell_type": "code",
   "execution_count": 52,
   "id": "a8a47fda-a14a-4151-9297-fd904b161cd9",
   "metadata": {},
   "outputs": [
    {
     "data": {
      "text/plain": [
       "[0,\n",
       " 1,\n",
       " 2,\n",
       " 3,\n",
       " 4,\n",
       " 5,\n",
       " 6,\n",
       " 7,\n",
       " 8,\n",
       " 9,\n",
       " 10,\n",
       " 11,\n",
       " 12,\n",
       " 13,\n",
       " 14,\n",
       " 15,\n",
       " 16,\n",
       " 17,\n",
       " 18,\n",
       " 19,\n",
       " 20,\n",
       " 21,\n",
       " 22,\n",
       " 23,\n",
       " 24,\n",
       " 25,\n",
       " 26,\n",
       " 27,\n",
       " 28,\n",
       " 29,\n",
       " 30,\n",
       " 31,\n",
       " 32,\n",
       " 33,\n",
       " 34,\n",
       " 35,\n",
       " 36,\n",
       " 37,\n",
       " 38,\n",
       " 39,\n",
       " 40,\n",
       " 41,\n",
       " 42,\n",
       " 43,\n",
       " 44,\n",
       " 45,\n",
       " 46,\n",
       " 47,\n",
       " 48,\n",
       " 49,\n",
       " 50,\n",
       " 51,\n",
       " 52,\n",
       " 53,\n",
       " 54,\n",
       " 55,\n",
       " 56,\n",
       " 57,\n",
       " 58,\n",
       " 59,\n",
       " 60,\n",
       " 61,\n",
       " 62,\n",
       " 63,\n",
       " 64,\n",
       " 65,\n",
       " 66,\n",
       " 67,\n",
       " 68,\n",
       " 69,\n",
       " 70,\n",
       " 71,\n",
       " 72,\n",
       " 73,\n",
       " 74,\n",
       " 75,\n",
       " 76,\n",
       " 77,\n",
       " 78,\n",
       " 79,\n",
       " 80,\n",
       " 81,\n",
       " 82,\n",
       " 83,\n",
       " 84,\n",
       " 85,\n",
       " 86,\n",
       " 87,\n",
       " 88,\n",
       " 89,\n",
       " 90,\n",
       " 91,\n",
       " 92,\n",
       " 93,\n",
       " 94,\n",
       " 95,\n",
       " 96,\n",
       " 97,\n",
       " 98,\n",
       " 99]"
      ]
     },
     "execution_count": 52,
     "metadata": {},
     "output_type": "execute_result"
    }
   ],
   "source": [
    "zahlen  = list(range(100))\n",
    "\n",
    "zahlen"
   ]
  },
  {
   "cell_type": "markdown",
   "id": "3548260c-251e-4127-88d0-0e74ebda6202",
   "metadata": {},
   "source": [
    "### Mehrfachzuweisung"
   ]
  },
  {
   "cell_type": "code",
   "execution_count": null,
   "id": "818232e8-e72a-4721-aef7-a7eb21845ee1",
   "metadata": {},
   "outputs": [],
   "source": [
    "a, b, c, d = [1,4,2,5]\n"
   ]
  },
  {
   "cell_type": "markdown",
   "id": "e957abb9-2659-46b0-bfad-2e37d4dc7220",
   "metadata": {},
   "source": [
    "### Überprüfen, ob Wert in Liste vorhanden"
   ]
  },
  {
   "cell_type": "code",
   "execution_count": 56,
   "id": "135f4de9-cc43-4a4e-ae04-807a7a062cfb",
   "metadata": {},
   "outputs": [
    {
     "name": "stdout",
     "output_type": "stream",
     "text": [
      "[87, 43, 35, 12, 7, 1, 1, 2, 3, True, 'h', 'h', 'h', 'f']\n",
      "True\n",
      "False\n"
     ]
    }
   ],
   "source": [
    "print(big_list)\n",
    "\n",
    "value = 1\n",
    "\n",
    "print(value in big_list)\n",
    "print(value not in big_list)"
   ]
  },
  {
   "cell_type": "code",
   "execution_count": 66,
   "id": "7b1128f9",
   "metadata": {},
   "outputs": [
    {
     "data": {
      "text/plain": [
       "(4, ['h', 'h', 'h', 'f'])"
      ]
     },
     "execution_count": 66,
     "metadata": {},
     "output_type": "execute_result"
    }
   ],
   "source": [
    "#check if a datatype is in list\n",
    "\n",
    "\n",
    "\n",
    "def count_str(object_list): #count strings in list-parameter, and return\n",
    "    str_count = 0\n",
    "    str_found = []\n",
    "\n",
    "    for i in object_list:\n",
    "        if type(i) == str:\n",
    "            str_count += 1\n",
    "            str_found.append(i)\n",
    "\n",
    "    return str_count, str_found\n",
    "\n",
    "count_str(big_list)\n"
   ]
  },
  {
   "cell_type": "markdown",
   "id": "ca3d2a4c-2dae-4794-9c8a-005ff3b13892",
   "metadata": {},
   "source": [
    "### Ersten Index zu angegebenem Wert finden"
   ]
  },
  {
   "cell_type": "code",
   "execution_count": 67,
   "id": "d7609046-8daf-47bc-8740-b13b93bde2be",
   "metadata": {},
   "outputs": [
    {
     "data": {
      "text/plain": [
       "5"
      ]
     },
     "execution_count": 67,
     "metadata": {},
     "output_type": "execute_result"
    }
   ],
   "source": [
    "big_list.index(1)"
   ]
  },
  {
   "cell_type": "markdown",
   "id": "911e903b",
   "metadata": {},
   "source": [
    "## hinzufügen eines Wertes am Ende"
   ]
  },
  {
   "cell_type": "code",
   "execution_count": 70,
   "id": "b6071841",
   "metadata": {},
   "outputs": [
    {
     "data": {
      "text/plain": [
       "[87,\n",
       " 43,\n",
       " 35,\n",
       " 12,\n",
       " 7,\n",
       " 1,\n",
       " 1,\n",
       " 2,\n",
       " 3,\n",
       " True,\n",
       " 'h',\n",
       " 'h',\n",
       " 'h',\n",
       " 'f',\n",
       " [1, 43, 1, 2, 5, 6],\n",
       " [1, 43, 1, 2, 5, 6]]"
      ]
     },
     "execution_count": 70,
     "metadata": {},
     "output_type": "execute_result"
    }
   ],
   "source": [
    "big_list.append([1,43,1,2,5,6])\n",
    "\n"
   ]
  },
  {
   "cell_type": "code",
   "execution_count": null,
   "id": "dfff2e08",
   "metadata": {},
   "outputs": [
    {
     "data": {
      "text/plain": [
       "[87,\n",
       " 43,\n",
       " 35,\n",
       " 12,\n",
       " 7,\n",
       " 1,\n",
       " 1,\n",
       " 2,\n",
       " 3,\n",
       " True,\n",
       " 'h',\n",
       " 'h',\n",
       " 'h',\n",
       " 'f',\n",
       " [1, 43, 1, 2, 5, 6],\n",
       " [1, 43, 1, 2, 5, 6]]"
      ]
     },
     "execution_count": 71,
     "metadata": {},
     "output_type": "execute_result"
    }
   ],
   "source": [
    "big_list"
   ]
  },
  {
   "cell_type": "markdown",
   "id": "efc72b1e",
   "metadata": {},
   "source": [
    "### hinzufügen an bestimmter stelle"
   ]
  },
  {
   "cell_type": "code",
   "execution_count": 72,
   "id": "6017a8be",
   "metadata": {},
   "outputs": [
    {
     "data": {
      "text/plain": [
       "[87,\n",
       " 43,\n",
       " 'lol',\n",
       " 35,\n",
       " 12,\n",
       " 7,\n",
       " 1,\n",
       " 1,\n",
       " 2,\n",
       " 3,\n",
       " True,\n",
       " 'h',\n",
       " 'h',\n",
       " 'h',\n",
       " 'f',\n",
       " [1, 43, 1, 2, 5, 6],\n",
       " [1, 43, 1, 2, 5, 6]]"
      ]
     },
     "execution_count": 72,
     "metadata": {},
     "output_type": "execute_result"
    }
   ],
   "source": [
    "big_list.insert(2,'lol')\n",
    "\n"
   ]
  },
  {
   "cell_type": "code",
   "execution_count": 75,
   "id": "68e7921d",
   "metadata": {},
   "outputs": [
    {
     "name": "stdout",
     "output_type": "stream",
     "text": [
      "[87, 43, 'lol', 35, 12, 7, 1, 1, 2, 3, True, 'h', 'h', 'h', 'f', [1, 43, 1, 2, 5, 6], [1, 43, 1, 2, 5, 6], 1, 3, 2, 1, 3, [1, 3, 2], 2, 1, 3, 2]\n",
      "None\n",
      "None\n"
     ]
    }
   ],
   "source": [
    "new_list = [1,3,2]\n",
    "\n",
    "print(big_list + new_list)\n",
    "\n",
    "print(big_list.extend(new_list))\n",
    "\n",
    "print(big_list.insert(len(big_list)-1,new_list))"
   ]
  },
  {
   "cell_type": "code",
   "execution_count": 76,
   "id": "1d4fd10e",
   "metadata": {},
   "outputs": [
    {
     "name": "stdout",
     "output_type": "stream",
     "text": [
      "[1, 2, 3, 4, 9, 8]\n"
     ]
    }
   ],
   "source": [
    "list1 = [1,2,3,4]\n",
    "list2 = [9,8]\n",
    "\n",
    "print(list1 + list2)"
   ]
  },
  {
   "cell_type": "code",
   "execution_count": 83,
   "id": "0674576c",
   "metadata": {},
   "outputs": [
    {
     "name": "stdout",
     "output_type": "stream",
     "text": [
      "[1, 2, 3, 4, 9, 8]\n"
     ]
    }
   ],
   "source": [
    "list1 = [1,2,3,4]\n",
    "list2 = [9,8]\n",
    "\n",
    "list1.extend(list2)\n",
    "\n",
    "print(list1)"
   ]
  },
  {
   "cell_type": "code",
   "execution_count": 84,
   "id": "da219a1b",
   "metadata": {},
   "outputs": [
    {
     "name": "stdout",
     "output_type": "stream",
     "text": [
      "[1, 2, 3, [9, 8], 4]\n"
     ]
    }
   ],
   "source": [
    "list1 = [1,2,3,4]\n",
    "list2 = [9,8]\n",
    "\n",
    "list1.insert(len(list1)-1,list2)\n",
    "\n",
    "print(list1)"
   ]
  },
  {
   "cell_type": "markdown",
   "id": "d43c668f",
   "metadata": {},
   "source": [
    "### Entfrenen eines bestimmten elements"
   ]
  },
  {
   "cell_type": "code",
   "execution_count": 89,
   "id": "8b46482f",
   "metadata": {},
   "outputs": [
    {
     "name": "stdout",
     "output_type": "stream",
     "text": [
      "[87, 43, 'lol', 35, 12, 7, 1, 1, 2, 3, True, 'h', 'h', 'h', 'f', [1, 43, 1, 2, 5, 6], [1, 43, 1, 2, 5, 6], 1, 3, 2, 1, 3, [1, 3, 2], 2, 1, 3, [1, 3, 2], 2]\n"
     ]
    },
    {
     "ename": "TypeError",
     "evalue": "unhashable type: 'list'",
     "output_type": "error",
     "traceback": [
      "\u001b[0;31m---------------------------------------------------------------------------\u001b[0m",
      "\u001b[0;31mTypeError\u001b[0m                                 Traceback (most recent call last)",
      "Cell \u001b[0;32mIn [89], line 3\u001b[0m\n\u001b[1;32m      1\u001b[0m \u001b[39mprint\u001b[39m(big_list)\n\u001b[0;32m----> 3\u001b[0m \u001b[39mset\u001b[39;49m(list1)\n",
      "\u001b[0;31mTypeError\u001b[0m: unhashable type: 'list'"
     ]
    }
   ],
   "source": [
    "print(big_list)\n",
    "\n"
   ]
  },
  {
   "cell_type": "code",
   "execution_count": 90,
   "id": "c80a6b59",
   "metadata": {},
   "outputs": [
    {
     "name": "stdout",
     "output_type": "stream",
     "text": [
      "{1, 2, 12}\n"
     ]
    }
   ],
   "source": [
    "#entfernen von dopplungen in nicht verschachtelten Listen durch umwandlung in set\n",
    "\n",
    "p = [1,1,1,12,2,2,12,2]\n",
    "\n",
    "print(set(p))"
   ]
  },
  {
   "cell_type": "markdown",
   "id": "ee140f9e",
   "metadata": {},
   "source": [
    "### Reihenfolge in listen verändern"
   ]
  },
  {
   "cell_type": "code",
   "execution_count": 95,
   "id": "c678491c",
   "metadata": {},
   "outputs": [
    {
     "name": "stdout",
     "output_type": "stream",
     "text": [
      "[2, [1, 3, 2], 3, 1, 2, [1, 3, 2], 3, 1, 2, 3, 1, [1, 43, 1, 2, 5, 6], [1, 43, 1, 2, 5, 6], 'f', 'h', 'h', 'h', True, 3, 2, 1, 1, 7, 12, 35, 'lol', 43, 87]\n"
     ]
    }
   ],
   "source": [
    "big_list.reverse()\n",
    "\n",
    "print(big_list)"
   ]
  },
  {
   "cell_type": "code",
   "execution_count": 96,
   "id": "97d37f04",
   "metadata": {},
   "outputs": [
    {
     "ename": "TypeError",
     "evalue": "'<' not supported between instances of 'str' and 'int'",
     "output_type": "error",
     "traceback": [
      "\u001b[0;31m---------------------------------------------------------------------------\u001b[0m",
      "\u001b[0;31mTypeError\u001b[0m                                 Traceback (most recent call last)",
      "Cell \u001b[0;32mIn [96], line 1\u001b[0m\n\u001b[0;32m----> 1\u001b[0m big_list\u001b[39m.\u001b[39;49msort(reverse\u001b[39m=\u001b[39;49m\u001b[39mTrue\u001b[39;49;00m)\n\u001b[1;32m      3\u001b[0m \u001b[39mprint\u001b[39m(big_list)\n",
      "\u001b[0;31mTypeError\u001b[0m: '<' not supported between instances of 'str' and 'int'"
     ]
    }
   ],
   "source": [
    "big_list.sort(reverse=True) # kann nicht verschiedene datentypen sortieren\n",
    "\n",
    "print(big_list)"
   ]
  },
  {
   "cell_type": "markdown",
   "id": "38b2afa1",
   "metadata": {},
   "source": [
    "### Referenzkopie"
   ]
  },
  {
   "cell_type": "code",
   "execution_count": 100,
   "id": "7cc8c83f",
   "metadata": {},
   "outputs": [
    {
     "name": "stdout",
     "output_type": "stream",
     "text": [
      "[1, 1, 1, 12, 2, 2, 12, 2]\n",
      "[1, 2, 3, 1, 5]\n"
     ]
    }
   ],
   "source": [
    "q = [1,2,3,1,5]\n",
    "print(p)\n",
    "print(q)"
   ]
  },
  {
   "cell_type": "code",
   "execution_count": 101,
   "id": "0966b6d9",
   "metadata": {},
   "outputs": [
    {
     "name": "stdout",
     "output_type": "stream",
     "text": [
      "[1, 1, 1, 12, 2, 2, 12, 2]\n"
     ]
    }
   ],
   "source": [
    "q = p\n",
    "print(q)"
   ]
  },
  {
   "cell_type": "code",
   "execution_count": 102,
   "id": "99d1d9d2",
   "metadata": {},
   "outputs": [
    {
     "name": "stdout",
     "output_type": "stream",
     "text": [
      "[34, 1, 1, 12, 2, 2, 12, 2]\n"
     ]
    }
   ],
   "source": [
    "p[0] = 34\n",
    "print(q)"
   ]
  },
  {
   "cell_type": "markdown",
   "id": "09364be8",
   "metadata": {},
   "source": [
    "### Wertmäßige Kopie"
   ]
  },
  {
   "cell_type": "code",
   "execution_count": 103,
   "id": "97dccb31",
   "metadata": {},
   "outputs": [
    {
     "name": "stdout",
     "output_type": "stream",
     "text": [
      "[34, 1, 1, 12, 2, 2, 12, 2]\n"
     ]
    }
   ],
   "source": [
    "import copy\n",
    "\n",
    "q = copy.copy(p)\n",
    "\n",
    "print(q)"
   ]
  },
  {
   "cell_type": "code",
   "execution_count": null,
   "id": "bbd65563-00ad-4058-bb98-27a77da88d6c",
   "metadata": {},
   "outputs": [],
   "source": [
    "### MMV Weiter ab S. 12"
   ]
  },
  {
   "cell_type": "markdown",
   "id": "bcd0fe35-aaa4-408b-b438-e3833d817a1d",
   "metadata": {
    "tags": []
   },
   "source": [
    "### Live Demo"
   ]
  },
  {
   "cell_type": "code",
   "execution_count": null,
   "id": "99f9e89f-955b-4193-9da4-9ed87b628278",
   "metadata": {},
   "outputs": [],
   "source": [
    "elements"
   ]
  },
  {
   "cell_type": "code",
   "execution_count": null,
   "id": "3551c5aa-bc96-4de8-b8f8-8c989b615bab",
   "metadata": {},
   "outputs": [],
   "source": [
    "help(list)"
   ]
  },
  {
   "cell_type": "markdown",
   "id": "0e285a6d-059f-4f3e-ae9e-c63369929fcc",
   "metadata": {},
   "source": [
    "## Tuple"
   ]
  },
  {
   "cell_type": "markdown",
   "id": "46b2292a-b819-4240-baba-1af5d10e13fc",
   "metadata": {
    "jp-MarkdownHeadingCollapsed": true,
    "tags": []
   },
   "source": [
    "### Live Demo\n"
   ]
  },
  {
   "cell_type": "markdown",
   "id": "418b21e2-e1e5-4e58-b376-726a29613bf1",
   "metadata": {},
   "source": [
    "## String"
   ]
  },
  {
   "cell_type": "markdown",
   "id": "f8a3d0cf-71ee-4a4b-acd9-4407675a8e4c",
   "metadata": {
    "jp-MarkdownHeadingCollapsed": true,
    "tags": []
   },
   "source": [
    "### Live Demo\n"
   ]
  },
  {
   "cell_type": "markdown",
   "id": "a7e35d25-7229-4979-9e53-8f8fa81c4f07",
   "metadata": {},
   "source": [
    "## Set"
   ]
  },
  {
   "cell_type": "markdown",
   "id": "00705733-22dc-499c-8db7-e39981ba2aae",
   "metadata": {
    "jp-MarkdownHeadingCollapsed": true,
    "tags": []
   },
   "source": [
    "### Live Demo\n"
   ]
  },
  {
   "cell_type": "markdown",
   "id": "0ccda356-749c-435a-bbd6-f2dd6516e901",
   "metadata": {},
   "source": [
    "## Dictionary"
   ]
  },
  {
   "cell_type": "markdown",
   "id": "ce89a197-7e10-4574-be49-4a634d36f2b5",
   "metadata": {
    "tags": []
   },
   "source": [
    "### Live Demo\n"
   ]
  },
  {
   "cell_type": "code",
   "execution_count": null,
   "id": "6fee25c2-60b5-41ee-8133-b775370f622c",
   "metadata": {},
   "outputs": [],
   "source": [
    "my_dict = {\"fruit 1\": \"apple\",\"fruit 2\": \"banana\",\"fruit 3\":\"cherry\"}"
   ]
  },
  {
   "cell_type": "markdown",
   "id": "cc143426-42d0-48e9-8a7c-aa1355b831f7",
   "metadata": {},
   "source": [
    "# Weiterführendes Material\n",
    "- https://www.w3schools.com/python/python_reference.asp  \n",
    "- https://docs.python.org/3.10/tutorial/introduction.html\n",
    "- https://www.geeksforgeeks.org/difference-between-find-and-index-in-python/"
   ]
  }
 ],
 "metadata": {
  "kernelspec": {
   "display_name": "Python 3.10.6 64-bit",
   "language": "python",
   "name": "python3"
  },
  "language_info": {
   "codemirror_mode": {
    "name": "ipython",
    "version": 3
   },
   "file_extension": ".py",
   "mimetype": "text/x-python",
   "name": "python",
   "nbconvert_exporter": "python",
   "pygments_lexer": "ipython3",
   "version": "3.10.6"
  },
  "vscode": {
   "interpreter": {
    "hash": "916dbcbb3f70747c44a77c7bcd40155683ae19c65e1c03b4aa3499c5328201f1"
   }
  }
 },
 "nbformat": 4,
 "nbformat_minor": 5
}
