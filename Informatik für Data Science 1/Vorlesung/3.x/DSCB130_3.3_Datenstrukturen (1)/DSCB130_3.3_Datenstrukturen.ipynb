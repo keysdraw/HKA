{
 "cells": [
  {
   "cell_type": "markdown",
   "id": "d42e517c-14a6-4c45-b0ac-4cbfe4f07c55",
   "metadata": {},
   "source": [
    "# DSCB130 | 3.3 Datenstrukturen"
   ]
  },
  {
   "cell_type": "markdown",
   "id": "3cc43109-3e5d-49a7-b9f3-268f7ad5e080",
   "metadata": {
    "tags": []
   },
   "source": [
    "## Übersicht\n",
    "\n",
    "| Kriterium | List [ ] | Tuple ( ) | String \" \" | Set { } | Dictionary { } |\n",
    "|---|:-:|:-:|:-:|:-:|:-:|\n",
    "| Sortiert | x |  x | - | - | x |\n",
    "| Änderbar | x | -  | x  | - | x |\n",
    "| Duplikate erlaubt | x | x | x | - | - |\n",
    "| Indexiert | x |  x | x | - | x |\n",
    "| Erstellung | `my_list = [\"apple\",\"banana\",\"cherry\"]` |  `my_tuple = (\"apple\",\"banana\",\"cherry\")` | `my_string = \"apple\",\"banana\",\"cherry\"` | `my_set = {\"apple\",\"banana\",\"cherry\"}` | `my_dict = {\"fruit 1\": \"apple\",\"fruit 2\": \"banana\",\"fruit 3\":\"cherry\"}` |\n",
    "| Ausgabe | print(my_list) | print(my_tuple) | print(my_string) | print(my_set) | print(my_dict) |\n",
    "| Methoden | [List Methods](https://www.w3schools.com/python/python_lists_methods.asp) | [Tuple Methods](https://www.w3schools.com/python/python_tuples_methods.asp) | [String Methods](https://www.w3schools.com/python/python_strings_methods.asp) | [Set Methods](https://www.w3schools.com/python/python_sets_methods.asp) | [Dictionary Methods](https://www.w3schools.com/python/python_dictionaries_methods.asp)  |\n",
    "| Training | [List Exercises](https://www.w3schools.com/python/exercise.asp?filename=exercise_lists1) | [Tuple Exercises](https://www.w3schools.com/python/exercise.asp?filename=exercise_tuples1) | [String Exercises](https://www.w3schools.com/python/python_strings_exercises.asp) | [Set Exercises](https://www.w3schools.com/python/exercise.asp?filename=exercise_sets1) | [Dictionary Exercises](https://www.w3schools.com/python/exercise.asp?filename=exercise_dictionaries1) |"
   ]
  },
  {
   "cell_type": "markdown",
   "id": "048565a6-4a4b-4975-b342-3c302ab49b6d",
   "metadata": {},
   "source": [
    "### Unstrukturierte elementare Datenstrukturen\n",
    "* Speichern einen Wert\n",
    "* Beispiele für skalare Datentypen\n",
    "\n",
    "```python \n",
    "int(i = 1)\n",
    "float(f = 0.1)\n",
    "bool(v = True)\n",
    "```\n"
   ]
  },
  {
   "cell_type": "markdown",
   "id": "f828b56f-7d13-44fb-b0cf-e7ae5afa31e7",
   "metadata": {},
   "source": [
    "### Strukturierte elementare Datenstrukturen\n",
    "* Speichern mehrere Werte\n",
    "* Sequenzen sind Listen von skalaren Datentypen: List, Tuple, Set\n",
    "* Dictionary\n",
    "* Sonderfall Strings\n",
    "    * Listen von einzelnen Zeichen\n",
    "    * grundsätzlich immutable (_unveränderbar_)\n",
    "    * Zeichenkettenmanipulation ermöglicht Verändernbarkeit"
   ]
  },
  {
   "cell_type": "markdown",
   "id": "cedf67e6-7584-49d0-8c18-a3378a9851bb",
   "metadata": {
    "tags": [],
    "toc-hr-collapsed": true
   },
   "source": [
    "\n",
    "### Aktuelle Entwicklung\n",
    "https://www.python.org  \n",
    "https://docs.python.org/3.11/"
   ]
  },
  {
   "cell_type": "markdown",
   "id": "859b639e-29b4-4c4e-9a07-a3fe4d1b19e7",
   "metadata": {},
   "source": [
    "https://earth-env-data-science.github.io/assignments/python_basics_and_functions.html  \n",
    "https://docs.python.org/3.10/tutorial/introduction.html"
   ]
  },
  {
   "cell_type": "markdown",
   "id": "1c481494-ea88-4b2c-ab67-ef92a82bb837",
   "metadata": {},
   "source": [
    "## List\n",
    "### Merkmale\n",
    "* Datentyp `list`\n",
    "* Semantisch: Zusammenfassen mehrerer Objekte und Werte, auch unterschiedlichen Typs, einer Liste\n",
    "* Syntaktisch: Listen können beliebige Objekte enthalten\n",
    "* Geordnete Reihenfolge in eckigen Klammern\n",
    "* Elemente werden mit Komma getrennt\n",
    "* Beliebig tiefe Verschachtelung\n",
    "* Veränderbar (_mutable_)\n",
    "* Dynamisch\n",
    "* Vielzahl an Anwendungen, wie das Speichern von Personaldaten, Messdaten oder Inventarlisten"
   ]
  },
  {
   "cell_type": "markdown",
   "id": "22bda8d2-c5a8-40be-8b15-709bb0a260cd",
   "metadata": {},
   "source": [
    "### Syntax\n",
    "```python\n",
    "[e1,e2,...]\n",
    "```"
   ]
  },
  {
   "cell_type": "markdown",
   "id": "f260c9d5-3ca1-4386-af86-22209afa6b42",
   "metadata": {},
   "source": [
    "### Erstellen"
   ]
  },
  {
   "cell_type": "code",
   "execution_count": null,
   "id": "2f821e7d-b460-4123-9c28-a03324433f3d",
   "metadata": {},
   "outputs": [],
   "source": [
    "elements = [1,2,3,4]"
   ]
  },
  {
   "cell_type": "markdown",
   "id": "74fa395d-04a0-4f2f-b0e7-4ec960aff549",
   "metadata": {},
   "source": [
    "### Anzahl Elemente"
   ]
  },
  {
   "cell_type": "code",
   "execution_count": null,
   "id": "22fffc69-affe-4921-8500-465ea162b0d9",
   "metadata": {},
   "outputs": [],
   "source": [
    "len(elements)"
   ]
  },
  {
   "cell_type": "code",
   "execution_count": null,
   "id": "9feb469b-3c6e-4942-b4d1-bad286f9f62f",
   "metadata": {},
   "outputs": [],
   "source": [
    "type(elements)"
   ]
  },
  {
   "cell_type": "code",
   "execution_count": null,
   "id": "d81d111c-d0bf-4221-8947-4bf221703efc",
   "metadata": {},
   "outputs": [],
   "source": [
    "?elements"
   ]
  },
  {
   "cell_type": "markdown",
   "id": "32337d60-bbbd-448f-9bc2-797aec3cd37a",
   "metadata": {},
   "source": [
    "### Zugriff auf ein Element\n",
    "Feld mit $n$ Elementen, Zugriff über Feld-Index mit ganzzahligen Werten zwischen $0$ und $n−1$"
   ]
  },
  {
   "cell_type": "code",
   "execution_count": null,
   "id": "80c8d96a-7c61-49d7-b912-122329a4fbdb",
   "metadata": {},
   "outputs": [],
   "source": [
    "e1 = elements[3]\n",
    "e1"
   ]
  },
  {
   "cell_type": "code",
   "execution_count": null,
   "id": "4b7ca358-27fb-4430-9f4a-3390ddb863cf",
   "metadata": {},
   "outputs": [],
   "source": [
    "e2 = elements[4]"
   ]
  },
  {
   "cell_type": "markdown",
   "id": "33c6d2c4-1d22-4257-954b-336a4ab46f8f",
   "metadata": {},
   "source": [
    "### Indexzahlen können auch negativ sein\n",
    "```python\n",
    "liste[-1] # gibt letzten Wert aus\n",
    "liste[-2] # gibt vorletzten Wert aus\n",
    "```"
   ]
  },
  {
   "cell_type": "code",
   "execution_count": null,
   "id": "0ef335cd-a88a-487a-8e47-3928ea38452f",
   "metadata": {},
   "outputs": [],
   "source": [
    "elements[-1]"
   ]
  },
  {
   "cell_type": "code",
   "execution_count": null,
   "id": "f24b779e-c8ac-47b8-9d3e-20dde5828b53",
   "metadata": {},
   "outputs": [],
   "source": [
    "elements[-2]"
   ]
  },
  {
   "cell_type": "markdown",
   "id": "f1cd3a68-3e70-4f7d-a5f5-6de40c60a59d",
   "metadata": {},
   "source": [
    "### Wertzuweisung\n",
    "Feld mit $n$ Elementen, Zugriff über Feld-Index mit ganzzahligen Werten zwischen $0$ und $n−1$ und Zuweisungsoperator"
   ]
  },
  {
   "cell_type": "code",
   "execution_count": null,
   "id": "688fe2c6-79cf-43d9-b163-8c437525a6a1",
   "metadata": {},
   "outputs": [],
   "source": [
    "elements[3] = 5"
   ]
  },
  {
   "cell_type": "markdown",
   "id": "66569fe0-e48a-4c13-8b58-0891cbfdaee5",
   "metadata": {},
   "source": [
    "### Zugriff auf mehrere Werte\n",
    "* Slice-Operator `liste[a:b]`\n",
    "* Neu entstandene Liste enthält Werte vom ersten bis zum letzten angegebenen Index, jedoch ohne diesen Wert"
   ]
  },
  {
   "cell_type": "code",
   "execution_count": null,
   "id": "51c1996c-2ff4-40db-b596-ba2fcdd526d7",
   "metadata": {},
   "outputs": [],
   "source": [
    "elements[1:3] # End Index can be greater than list length, why?"
   ]
  },
  {
   "cell_type": "code",
   "execution_count": null,
   "id": "44945db6-5b3d-4cd9-af57-e81d8e0f18eb",
   "metadata": {},
   "outputs": [],
   "source": [
    "len(elements)"
   ]
  },
  {
   "cell_type": "markdown",
   "id": "1838c9c7-a5fb-4909-b8bd-fad8626ae27c",
   "metadata": {},
   "source": [
    "Wenn Beginn bei erstem oder letztem Element, kann durch verkürzte Schreibweise auf einen oder beide Index-Angaben verzichtet werden."
   ]
  },
  {
   "cell_type": "code",
   "execution_count": null,
   "id": "ba23de92-1d75-4a93-9282-cf762b3b441a",
   "metadata": {},
   "outputs": [],
   "source": [
    "elements[:2]"
   ]
  },
  {
   "cell_type": "code",
   "execution_count": null,
   "id": "35bf6ebb-6364-4579-be92-d5233b62d230",
   "metadata": {},
   "outputs": [],
   "source": [
    "elements[2:]"
   ]
  },
  {
   "cell_type": "markdown",
   "id": "1284d338-0909-473f-a835-3fff9227326f",
   "metadata": {},
   "source": [
    "### Zugriff auf mehrere Werte im Intervall\n",
    "* Slice-Operator `liste[a:b:c]`\n",
    "* Ausschnitt von a bis b mit jedem c-ten Element"
   ]
  },
  {
   "cell_type": "code",
   "execution_count": null,
   "id": "e5198638-187a-45f6-900c-b8c55a752c46",
   "metadata": {},
   "outputs": [],
   "source": [
    "schrittweite = int(input(\"Schrittweite:\"))\n",
    "elements[0:3:schrittweite]"
   ]
  },
  {
   "cell_type": "markdown",
   "id": "6f064272-b31c-48ca-a507-06c10af830a0",
   "metadata": {},
   "source": [
    "### Elemente entfernen\n",
    "* Löscht das i-te Element aus der Liste\n",
    "```python\n",
    "del elements[i]\n",
    "```\n",
    "* Ausschnitt löschen\n",
    "```python\n",
    "del elements[a:b]\n",
    "del elements[a:b:c]\n",
    "```"
   ]
  },
  {
   "cell_type": "code",
   "execution_count": null,
   "id": "704e515c-fe27-4e37-9bea-b3e9d7f68b5a",
   "metadata": {},
   "outputs": [],
   "source": [
    "del elements[4]"
   ]
  },
  {
   "cell_type": "markdown",
   "id": "54df6100-64a3-46f1-a929-c57fc376fd7b",
   "metadata": {},
   "source": [
    "### Summe der Elemente bestimmen"
   ]
  },
  {
   "cell_type": "code",
   "execution_count": null,
   "id": "fb98de04-9038-4703-8f4c-53641b56112d",
   "metadata": {},
   "outputs": [],
   "source": [
    "sum(elements)\n",
    "# element"
   ]
  },
  {
   "cell_type": "code",
   "execution_count": null,
   "id": "786caa39-c4dc-4bba-a6f6-668e5e3c61a7",
   "metadata": {},
   "outputs": [],
   "source": [
    "elements[3] = False\n",
    "elements.append(\"Vier\")"
   ]
  },
  {
   "cell_type": "markdown",
   "id": "c82f2117-1399-4f15-8946-c5bfa0b2572a",
   "metadata": {},
   "source": [
    "### Vorkommen von Elementen zählen"
   ]
  },
  {
   "cell_type": "code",
   "execution_count": null,
   "id": "45881a52-f794-4427-88b0-6f6c4a01ec62",
   "metadata": {},
   "outputs": [],
   "source": [
    "e = elements.count(1)\n",
    "e"
   ]
  },
  {
   "cell_type": "markdown",
   "id": "cc0af1bf-9f51-46cc-b968-f0b3a7e7cc32",
   "metadata": {},
   "source": [
    "### Extremwerte bestimmen"
   ]
  },
  {
   "cell_type": "code",
   "execution_count": null,
   "id": "375f825e-7e8a-4ec6-ad2c-dcf65529af1e",
   "metadata": {},
   "outputs": [],
   "source": [
    "print(min(elements))"
   ]
  },
  {
   "cell_type": "code",
   "execution_count": null,
   "id": "5605d29b-f206-46c0-a02e-6d689c3cdf27",
   "metadata": {},
   "outputs": [],
   "source": [
    "print(max(elements))"
   ]
  },
  {
   "cell_type": "code",
   "execution_count": null,
   "id": "adb0f724-8107-49da-910b-2a7bfa5c2f02",
   "metadata": {},
   "outputs": [],
   "source": [
    "elements.sort(reverse = True) # Expliziertes sortieren, absteigend"
   ]
  },
  {
   "cell_type": "markdown",
   "id": "91bedce4-ef6b-4be0-b1b0-3d12d5461dc9",
   "metadata": {},
   "source": [
    "### Verketten von Listen"
   ]
  },
  {
   "cell_type": "code",
   "execution_count": null,
   "id": "4ee81547-6ab2-48ea-b9e1-2d3466d229f4",
   "metadata": {},
   "outputs": [],
   "source": [
    "elements_2 = [7,8,9]\n",
    "elements_all = elements_2 + elements"
   ]
  },
  {
   "cell_type": "code",
   "execution_count": null,
   "id": "0bf9a891-4ce4-4fbc-bf0a-ff6957b98ecb",
   "metadata": {},
   "outputs": [],
   "source": [
    "elements_all.sort(reverse = True)\n",
    "elements_all"
   ]
  },
  {
   "cell_type": "markdown",
   "id": "484e5522-d483-461a-9ad2-13af77b92203",
   "metadata": {},
   "source": [
    "### Wiederholen von Listen"
   ]
  },
  {
   "cell_type": "code",
   "execution_count": null,
   "id": "5c8f3012-995e-4663-b059-9e12e6017444",
   "metadata": {},
   "outputs": [],
   "source": [
    "elements * 3"
   ]
  },
  {
   "cell_type": "markdown",
   "id": "aa958aab-e061-4137-a59c-34d1b714d8f6",
   "metadata": {},
   "source": [
    "### Gezieltes erzeugen mit Schrittweite"
   ]
  },
  {
   "cell_type": "code",
   "execution_count": null,
   "id": "54761d5f-e76c-42a9-a159-fd880e50658b",
   "metadata": {},
   "outputs": [],
   "source": [
    "# list(range(start, end, schrittweite)\n",
    "start = 0\n",
    "end = 100\n",
    "schrittweite = 2\n",
    "zahlen_gerade = list(range(start, end, schrittweite))\n",
    "print(zahlen_gerade)"
   ]
  },
  {
   "cell_type": "markdown",
   "id": "925e211e-e0b5-4ff2-9fa6-f19f030915d2",
   "metadata": {},
   "source": [
    "### Verkürze Schreibweise für gezieltes erzeugen mit Schrittweite 1"
   ]
  },
  {
   "cell_type": "code",
   "execution_count": null,
   "id": "a8a47fda-a14a-4151-9297-fd904b161cd9",
   "metadata": {},
   "outputs": [],
   "source": [
    "zahlen_all_intevall1 = list(range(100))\n",
    "print(zahlen_ungerade)"
   ]
  },
  {
   "cell_type": "markdown",
   "id": "3548260c-251e-4127-88d0-0e74ebda6202",
   "metadata": {},
   "source": [
    "### Mehrfachzuweisung"
   ]
  },
  {
   "cell_type": "code",
   "execution_count": null,
   "id": "818232e8-e72a-4721-aef7-a7eb21845ee1",
   "metadata": {},
   "outputs": [],
   "source": [
    "a, b, c, d = [0,1,2,3]\n",
    "print(a, b, c, d)"
   ]
  },
  {
   "cell_type": "markdown",
   "id": "e957abb9-2659-46b0-bfad-2e37d4dc7220",
   "metadata": {},
   "source": [
    "### Überprüfen, ob Wert in Liste vorhanden"
   ]
  },
  {
   "cell_type": "code",
   "execution_count": null,
   "id": "135f4de9-cc43-4a4e-ae04-807a7a062cfb",
   "metadata": {},
   "outputs": [],
   "source": [
    "wert = 1\n",
    "wert in elements_all"
   ]
  },
  {
   "cell_type": "code",
   "execution_count": null,
   "id": "908f612f-434e-458e-9cc7-6d2fbaf81d28",
   "metadata": {},
   "outputs": [],
   "source": [
    "wert = \"a\"\n",
    "wert not in elements_all"
   ]
  },
  {
   "cell_type": "code",
   "execution_count": null,
   "id": "d173b4e3-b0a7-4c14-bb3f-b1072aeedd6e",
   "metadata": {},
   "outputs": [],
   "source": [
    "elements_all.append(\"Zahl\")"
   ]
  },
  {
   "cell_type": "code",
   "execution_count": null,
   "id": "e7c5c654-e47c-4100-90f3-9adb96e3bdea",
   "metadata": {},
   "outputs": [],
   "source": [
    "# Exkurs: Prüfe eine Liste, ob dort ein bestimmter Datentyp vorhanden ist.\n",
    "# Ist ein String in einer Liste?\n",
    "typ = str\n",
    "gefundene_elemente = []\n",
    "for i in elements_all:\n",
    "    if type(i) == typ:\n",
    "        gefundene_elemente.append(i)\n",
    "    # else:\n",
    "    #     continue\n",
    "\n",
    "print(gefundene_elemente)"
   ]
  },
  {
   "cell_type": "code",
   "execution_count": null,
   "id": "3cc3cfd7-893f-4955-b17b-c7c912dba104",
   "metadata": {},
   "outputs": [],
   "source": [
    "elements_all"
   ]
  },
  {
   "cell_type": "code",
   "execution_count": null,
   "id": "0ca6d869-c0b6-459e-a576-5b8eb9455990",
   "metadata": {},
   "outputs": [],
   "source": [
    "type(elements_all[0]) == int"
   ]
  },
  {
   "cell_type": "markdown",
   "id": "ca3d2a4c-2dae-4794-9c8a-005ff3b13892",
   "metadata": {},
   "source": [
    "### Ersten Index zu angegebenem Wert finden"
   ]
  },
  {
   "cell_type": "code",
   "execution_count": null,
   "id": "d7609046-8daf-47bc-8740-b13b93bde2be",
   "metadata": {},
   "outputs": [],
   "source": [
    "elements_all * 2"
   ]
  },
  {
   "cell_type": "code",
   "execution_count": null,
   "id": "bbd65563-00ad-4058-bb98-27a77da88d6c",
   "metadata": {},
   "outputs": [],
   "source": [
    "elements_all.index(8)"
   ]
  },
  {
   "cell_type": "markdown",
   "id": "4212f471-f6a3-46c5-8169-81ed7d17bfe6",
   "metadata": {},
   "source": [
    "### Hinzufügen eines Wertes am Ende"
   ]
  },
  {
   "cell_type": "code",
   "execution_count": null,
   "id": "3c2d82d9-6eb7-42de-8acb-6a266c44c80b",
   "metadata": {},
   "outputs": [],
   "source": [
    "elements_all.append([1,2,\"drei\"])\n",
    "elements_all"
   ]
  },
  {
   "cell_type": "markdown",
   "id": "c32b5a36-dc78-40c4-bc53-90b546e551d1",
   "metadata": {},
   "source": [
    "### Hinzufügen an bestimmter Position"
   ]
  },
  {
   "cell_type": "code",
   "execution_count": null,
   "id": "b995982f-0780-4041-9330-f1afbad77de7",
   "metadata": {},
   "outputs": [],
   "source": [
    "elements_all.insert(2, \"acht\")\n",
    "elements_all"
   ]
  },
  {
   "cell_type": "code",
   "execution_count": null,
   "id": "30c2ddb2-0b57-4536-8189-35f4162b4105",
   "metadata": {},
   "outputs": [],
   "source": [
    "liste_neu = [\"a\", \"b\", \"c\"]\n",
    "\n",
    "elements_all + liste_neu\n",
    "elements_all.extend(liste_neu)\n",
    "elements_all.insert(len(elements_all)-1,liste_neu)"
   ]
  },
  {
   "cell_type": "code",
   "execution_count": null,
   "id": "f6ddd334-ba31-475a-91f7-87fc63fc4228",
   "metadata": {},
   "outputs": [],
   "source": [
    "elements_all"
   ]
  },
  {
   "cell_type": "code",
   "execution_count": null,
   "id": "7a084464-2ccb-45bd-9634-26d38e906709",
   "metadata": {},
   "outputs": [],
   "source": [
    "l1 = [1,2]\n",
    "l2 = [3,4]\n",
    "l3 = l1 + l2\n",
    "l3"
   ]
  },
  {
   "cell_type": "code",
   "execution_count": null,
   "id": "bea64531-43a4-4739-b39c-aec8517950de",
   "metadata": {},
   "outputs": [],
   "source": [
    "m1 = [1,2]\n",
    "m2 = [3,4]"
   ]
  },
  {
   "cell_type": "code",
   "execution_count": null,
   "id": "e40804b0-b268-4d03-89ce-f744c386374f",
   "metadata": {},
   "outputs": [],
   "source": [
    "print(m1,m2)"
   ]
  },
  {
   "cell_type": "code",
   "execution_count": null,
   "id": "9db0be07-2b6a-47ec-8d6d-5fa302573174",
   "metadata": {},
   "outputs": [],
   "source": [
    "m1.extend(m2)\n",
    "print(m1)"
   ]
  },
  {
   "cell_type": "code",
   "execution_count": null,
   "id": "499ca078-f83e-4b01-a150-d629a4e5aa2a",
   "metadata": {},
   "outputs": [],
   "source": [
    "# n1 = [1,2]\n",
    "n2 = [5,6]\n",
    "n1.insert(len(n1)-1,n2)\n",
    "print(n1)"
   ]
  },
  {
   "cell_type": "markdown",
   "id": "33f56649-6cd1-4b2e-880a-ce130c68fd0c",
   "metadata": {},
   "source": [
    "### Entfernen eines bestimmten Elements"
   ]
  },
  {
   "cell_type": "code",
   "execution_count": null,
   "id": "33a88b1b-b293-41c2-904a-b847fab46fec",
   "metadata": {},
   "outputs": [],
   "source": [
    "elements_all.remove(9)"
   ]
  },
  {
   "cell_type": "code",
   "execution_count": null,
   "id": "4e091c31-dc39-4afc-b41a-afe51f8a2c7f",
   "metadata": {},
   "outputs": [],
   "source": [
    "elements_all.remove(\"acht\")"
   ]
  },
  {
   "cell_type": "code",
   "execution_count": null,
   "id": "687bdd9b-4c1a-40e0-abf5-53bb47628820",
   "metadata": {},
   "outputs": [],
   "source": [
    "elements_all"
   ]
  },
  {
   "cell_type": "markdown",
   "id": "7f329cb1-6f92-4a7b-8e5f-20b7b7833ca3",
   "metadata": {},
   "source": [
    "### Reihenfolge der Elemente umkehren"
   ]
  },
  {
   "cell_type": "code",
   "execution_count": null,
   "id": "ac1b13b4-f64b-4c1a-af52-b9e8292ac153",
   "metadata": {},
   "outputs": [],
   "source": [
    "elements"
   ]
  },
  {
   "cell_type": "code",
   "execution_count": null,
   "id": "3cc3da77-1306-48b0-a97f-d7236e23b11c",
   "metadata": {},
   "outputs": [],
   "source": [
    "elements.reverse()\n",
    "elements"
   ]
  },
  {
   "cell_type": "code",
   "execution_count": null,
   "id": "334743e0-287e-4242-8fce-4bd32a0d84ce",
   "metadata": {},
   "outputs": [],
   "source": [
    "elements.sort(reverse = True)\n",
    "elements"
   ]
  },
  {
   "cell_type": "code",
   "execution_count": null,
   "id": "dd7a3b9b-a572-48f2-bb15-6696488e440e",
   "metadata": {},
   "outputs": [],
   "source": [
    "# Sind auch Listen mit weiteren List-Objekten sortiertbar?\n",
    "q = [1,2,[\"drei\",\"vier\"]]\n",
    "q"
   ]
  },
  {
   "cell_type": "code",
   "execution_count": null,
   "id": "7bb87dd9-7dbf-44f6-baa7-9ad7baec59f1",
   "metadata": {},
   "outputs": [],
   "source": [
    "q.reverse()"
   ]
  },
  {
   "cell_type": "code",
   "execution_count": null,
   "id": "ca09061a-5c3b-4421-9819-9e752ad7b676",
   "metadata": {},
   "outputs": [],
   "source": [
    "q"
   ]
  },
  {
   "cell_type": "markdown",
   "id": "82b38b15-f654-400c-9321-619113e8b4c9",
   "metadata": {},
   "source": [
    "### Referenzkopie"
   ]
  },
  {
   "cell_type": "code",
   "execution_count": null,
   "id": "f5df32e6-647f-4441-8696-d1953c51f1f4",
   "metadata": {},
   "outputs": [],
   "source": [
    "print(l1)\n",
    "print(l2)"
   ]
  },
  {
   "cell_type": "code",
   "execution_count": null,
   "id": "d02daecc-e7a5-4a36-9225-bd18178f39ed",
   "metadata": {},
   "outputs": [],
   "source": [
    "l2 = l1 # Referenz!"
   ]
  },
  {
   "cell_type": "code",
   "execution_count": null,
   "id": "1b5c0272-c326-4d77-9c48-e49e6d234eb0",
   "metadata": {},
   "outputs": [],
   "source": [
    "l2[0] = 0 # Überschreiben wirkt sich auf die entsprechenden Einträge der ursprünglichen Liste aus!\n",
    "print(l2)"
   ]
  },
  {
   "cell_type": "code",
   "execution_count": null,
   "id": "331ea8e3-bcbc-4506-a385-6a0fcdc7e887",
   "metadata": {},
   "outputs": [],
   "source": [
    "print(l1)\n",
    "print(l2)"
   ]
  },
  {
   "cell_type": "markdown",
   "id": "68a2f1db-3ec6-4e29-b09e-ea56d428c5ec",
   "metadata": {},
   "source": [
    "### Wertmäßige Kopie"
   ]
  },
  {
   "cell_type": "code",
   "execution_count": null,
   "id": "80b251af-3e6f-4467-b26a-791995951161",
   "metadata": {},
   "outputs": [],
   "source": [
    "import copy"
   ]
  },
  {
   "cell_type": "code",
   "execution_count": null,
   "id": "c9d82693-e1dd-4df7-a340-45e1e97360da",
   "metadata": {},
   "outputs": [],
   "source": [
    "import copy\n",
    "\n",
    "l1 = [1, 2, [3, 4], 5]\n",
    "\n",
    "# Flache Kopie\n",
    "l2 = copy.copy(l1)"
   ]
  },
  {
   "cell_type": "code",
   "execution_count": null,
   "id": "628b87aa-b414-4867-a902-8137787f8532",
   "metadata": {},
   "outputs": [],
   "source": [
    "print(l2)"
   ]
  },
  {
   "cell_type": "code",
   "execution_count": null,
   "id": "5e2b2276-5c90-49c3-b440-3ab6ad2aaf2e",
   "metadata": {},
   "outputs": [],
   "source": [
    "l2[0] = 0"
   ]
  },
  {
   "cell_type": "code",
   "execution_count": null,
   "id": "2e1485db-13da-4b95-83f1-685600b4bc46",
   "metadata": {},
   "outputs": [],
   "source": [
    "print(l1)\n",
    "print(l2)"
   ]
  },
  {
   "cell_type": "markdown",
   "id": "4f77cf52-fbd6-4cfd-b296-eaf576bdbbd2",
   "metadata": {},
   "source": [
    "Verschachtelte Listen werden mit der Funktion deepcopy() erstellt."
   ]
  },
  {
   "cell_type": "code",
   "execution_count": null,
   "id": "512ed6ff-02bf-4053-937e-13613f0a3c5c",
   "metadata": {},
   "outputs": [],
   "source": [
    "# Tiefenkopie, rekursiv\n",
    "l3 = copy.deepcopy(l1)"
   ]
  },
  {
   "cell_type": "code",
   "execution_count": null,
   "id": "467aa745-35c4-4928-a3da-0f6c3956e836",
   "metadata": {},
   "outputs": [],
   "source": [
    "print(l3)"
   ]
  },
  {
   "cell_type": "markdown",
   "id": "bcd0fe35-aaa4-408b-b438-e3833d817a1d",
   "metadata": {
    "tags": []
   },
   "source": [
    "### Live Demo"
   ]
  },
  {
   "cell_type": "code",
   "execution_count": null,
   "id": "3551c5aa-bc96-4de8-b8f8-8c989b615bab",
   "metadata": {},
   "outputs": [],
   "source": [
    "help(list)"
   ]
  },
  {
   "cell_type": "code",
   "execution_count": null,
   "id": "99f9e89f-955b-4193-9da4-9ed87b628278",
   "metadata": {},
   "outputs": [],
   "source": [
    "l1 = [1,2]\n",
    "l2 = [3,4]"
   ]
  },
  {
   "cell_type": "code",
   "execution_count": null,
   "id": "48196b46-74fe-4e81-b9d7-ad80b6cf3600",
   "metadata": {},
   "outputs": [],
   "source": [
    "import copy\n",
    "\n",
    "# Referenzkopie mit Zuweisungs-Operator =\n",
    "x = [2, 4, 10]\n",
    "y = x\n",
    "x[0] = 11\n",
    "print(\"Referenzkopie: \", y)\n",
    "\n",
    "# Die Werte innerhalb der Liste \"y\" ändern sich ebenfalls, da es sich um dasselbe Objekt handelt.\n",
    "x[2] = 15\n",
    "print(x, y)\n",
    "\n",
    "# Verwendung der Deepcopy-Funktion\n",
    "a = [101, 120, 330]\n",
    "b = copy.deepcopy(a)\n",
    "a[1] = 70\n",
    "print(\"Deepcopy: \", b)"
   ]
  },
  {
   "cell_type": "markdown",
   "id": "733fe097-195d-4dd3-b249-1e6d5256d332",
   "metadata": {},
   "source": [
    "## Mehrdimensionale Listen und Matrizen\n",
    "\n",
    "__Matrix__\n",
    "- Mathematisch gesehen ein mehrdimensionales Feld\n",
    "- Darstellung i.d.R. durch Umhüllung mit runden Klammern\n",
    "- $m \\times n$ Matrix ist eine Tabelle mit $m$ Zeilen und $n$ Spalten"
   ]
  },
  {
   "cell_type": "markdown",
   "id": "9d214b29-08f7-41aa-989f-fcfc581a2788",
   "metadata": {},
   "source": [
    "### Erstellen\n",
    "Aus eindimensionalen Listen mit zusätzlichen eckigen Klammern"
   ]
  },
  {
   "cell_type": "code",
   "execution_count": null,
   "id": "40a0d94e-96cc-4525-b9d5-5c875044107d",
   "metadata": {},
   "outputs": [],
   "source": [
    "matrix = ([1,2], [3,4], [5,6])"
   ]
  },
  {
   "cell_type": "markdown",
   "id": "19a44689-0ec2-4774-a3be-fd7d15519b49",
   "metadata": {},
   "source": [
    "### Zugriff auf ein Element\n",
    "(i+1)-te Stelle und (j+1)-te Stelle der Matrix über zwei Indexe i und j."
   ]
  },
  {
   "cell_type": "code",
   "execution_count": null,
   "id": "2649b84d-4c88-4de8-8e1f-7422f78d4e71",
   "metadata": {},
   "outputs": [],
   "source": [
    "matrix[1][1] # 4"
   ]
  },
  {
   "cell_type": "markdown",
   "id": "bde0f163-5026-463f-b695-9308319c0597",
   "metadata": {},
   "source": [
    "### Anzahl Zeilen"
   ]
  },
  {
   "cell_type": "code",
   "execution_count": null,
   "id": "c59f5da5-9f6e-4090-a9c5-012e02358161",
   "metadata": {},
   "outputs": [],
   "source": [
    "len(matrix)"
   ]
  },
  {
   "cell_type": "markdown",
   "id": "2f1b5a46-c2d3-46e9-9e3b-4323affd3599",
   "metadata": {},
   "source": [
    "### Anzahl Spalten"
   ]
  },
  {
   "cell_type": "code",
   "execution_count": null,
   "id": "5ce86aab-1b57-4b2a-9de6-3f2ae72fcee5",
   "metadata": {},
   "outputs": [],
   "source": [
    "len(matrix[0])"
   ]
  },
  {
   "cell_type": "markdown",
   "id": "b1a37dd6-3b21-46dd-ba5d-bf48c59a799e",
   "metadata": {},
   "source": [
    "### Wertzuweisung"
   ]
  },
  {
   "cell_type": "code",
   "execution_count": null,
   "id": "7cb25a35-43ea-4d80-bf0b-165144cefad1",
   "metadata": {},
   "outputs": [],
   "source": [
    "matrix[1][1] = 5\n",
    "print(matrix)"
   ]
  },
  {
   "cell_type": "markdown",
   "id": "03caec96-c443-4564-ac81-d548ee663fb5",
   "metadata": {},
   "source": [
    "### Vektor aller Elemente\n",
    "An der i-ten Zeile der Matrix"
   ]
  },
  {
   "cell_type": "code",
   "execution_count": null,
   "id": "0c41afa0-e425-4f8a-8a7e-00815365f811",
   "metadata": {},
   "outputs": [],
   "source": [
    "v = matrix [1]\n",
    "print(v)"
   ]
  },
  {
   "cell_type": "markdown",
   "id": "d2877619-83b6-4c3b-91bf-808b7521958e",
   "metadata": {
    "jp-MarkdownHeadingCollapsed": true,
    "tags": []
   },
   "source": [
    "### Live Demo\n"
   ]
  },
  {
   "cell_type": "markdown",
   "id": "0e285a6d-059f-4f3e-ae9e-c63369929fcc",
   "metadata": {},
   "source": [
    "## Tuple\n",
    "\n",
    "### Merkmale\n",
    "* Datentyp `tuple`\n",
    "* Semantisch: Tupel sind unveränderliche Sequenzen, die typischerweise zum Speichern von Sammlungen heterogener Daten verwendet werden, wie die 2er-Tupel, die von der eingebauten Funktion enumerate() erzeugt werden. Tupel werden auch in Fällen verwendet, in denen eine unveränderliche Sequenz homogener Daten benötigt wird z. B. für die Speicherung in einer Set- oder dict-Instanz.\n",
    "* Syntaktisch: Tupel implementieren alle gängigen Sequenzoperationen.\n",
    "* Der Konstruktor erstellt ein Tupel, dessen Elemente die gleichen und in der gleichen Reihenfolge wie die Elemente von `iterable` sind.\n",
    "* Elemente werden mit Komma getrennt\n",
    "* Unveränderbar (_immutable_)\n",
    "* Tupel implementieren alle gängigen [Sequenzoperationen](https://docs.python.org/3.10/library/stdtypes.html?highlight=tuple#typesseq-common)"
   ]
  },
  {
   "cell_type": "markdown",
   "id": "a7ada330-a201-4057-b5d0-60950e8f2873",
   "metadata": {},
   "source": [
    "### Syntax\n",
    "```python\n",
    "(e1,e2,...)\n",
    "```"
   ]
  },
  {
   "cell_type": "markdown",
   "id": "3b88af26-6a99-4f8e-a6e5-1b2a1cddc517",
   "metadata": {},
   "source": [
    "### Erstellen\n",
    "Tupel können auf verschiedene Weise konstruiert werden:"
   ]
  },
  {
   "cell_type": "markdown",
   "id": "9da3576e-d6dc-4e7e-8add-7800101401c6",
   "metadata": {},
   "source": [
    "- Verwendung eines Klammerpaares zur Kennzeichnung eines leeren Tupels: `()`\n",
    "- Verwendung eines nachgestellten Kommas für ein _Singleton_-Tupel: `a,` oder `(a,)`\n",
    "- Trennen von Elementen mit Kommas: `a, b, c` oder `(a, b, c)`\n",
    "- Verwendung des eingebauten tuple(): `tuple()` oder `tuple(iterable)`"
   ]
  },
  {
   "cell_type": "code",
   "execution_count": 1,
   "id": "4a55237f-6d1d-4bf7-a606-08ac4b1bae1a",
   "metadata": {},
   "outputs": [
    {
     "name": "stdout",
     "output_type": "stream",
     "text": [
      "\u001b[0;31mType:\u001b[0m        tuple\n",
      "\u001b[0;31mString form:\u001b[0m (1, 2, 3, 4)\n",
      "\u001b[0;31mLength:\u001b[0m      4\n",
      "\u001b[0;31mDocstring:\u001b[0m  \n",
      "Built-in immutable sequence.\n",
      "\n",
      "If no argument is given, the constructor returns an empty tuple.\n",
      "If iterable is specified the tuple is initialized from iterable's items.\n",
      "\n",
      "If the argument is a tuple, the return value is the same object.\n"
     ]
    }
   ],
   "source": [
    "tup1 = (1,2,3,4)\n",
    "?tup1"
   ]
  },
  {
   "cell_type": "code",
   "execution_count": 2,
   "id": "f7101674-c890-4252-8ade-d04e3b5f9dbc",
   "metadata": {},
   "outputs": [
    {
     "name": "stdout",
     "output_type": "stream",
     "text": [
      "\u001b[0;31mType:\u001b[0m        tuple\n",
      "\u001b[0;31mString form:\u001b[0m (3,)\n",
      "\u001b[0;31mLength:\u001b[0m      1\n",
      "\u001b[0;31mDocstring:\u001b[0m  \n",
      "Built-in immutable sequence.\n",
      "\n",
      "If no argument is given, the constructor returns an empty tuple.\n",
      "If iterable is specified the tuple is initialized from iterable's items.\n",
      "\n",
      "If the argument is a tuple, the return value is the same object.\n"
     ]
    }
   ],
   "source": [
    "'''\n",
    "Da Klammern auch verwendet werden, um die Operatorrangfolge in Ausdrücken zu definieren,\n",
    "wertet Python den Ausdruck tup = (3) einfach als ganze Zahl 3 aus und erstellt ein int-Objekt.\n",
    "Besser tup2 = (3,) also Komma einfügen, wenngleich der zweite Wert leer bleibt.\n",
    "'''\n",
    "tup2 = (3,)\n",
    "?tup2"
   ]
  },
  {
   "cell_type": "code",
   "execution_count": null,
   "id": "9099f09b-6123-46a9-b844-2efb9340df63",
   "metadata": {},
   "outputs": [],
   "source": [
    "# Umwandlung einer Liste und eines Strings in ein Tupel\n",
    "l2 = [0, 1, 2]\n",
    "print(tuple(l2))\n",
    "print(tuple(\"python\"))"
   ]
  },
  {
   "cell_type": "markdown",
   "id": "0054a356-43de-46bb-aa78-c2cffce1fa9f",
   "metadata": {},
   "source": [
    "### Anzahl Elemente"
   ]
  },
  {
   "cell_type": "code",
   "execution_count": null,
   "id": "a275a268-2d75-448a-8df5-9e4d5a3c1609",
   "metadata": {},
   "outputs": [],
   "source": [
    "len(tup1)"
   ]
  },
  {
   "cell_type": "markdown",
   "id": "5b7dd642-c046-4c00-b624-126c85e494ba",
   "metadata": {},
   "source": [
    "### Zugriff auf ein Element\n",
    "Feld mit $n$ Elementen, Zugriff über Feld-Index mit ganzzahligen Werten zwischen $0$ und $n−1$"
   ]
  },
  {
   "cell_type": "code",
   "execution_count": null,
   "id": "dbd05d5b-9dcd-466b-acd6-3e2cb230c283",
   "metadata": {},
   "outputs": [],
   "source": [
    "tup1[1]"
   ]
  },
  {
   "cell_type": "markdown",
   "id": "e2e4a4ee-de78-4bcf-bc03-c7b83dd5bf65",
   "metadata": {},
   "source": [
    "### Zugriff auf mehrere Werte\n",
    "* Slice-Operator `tuple[a:b]`\n",
    "* Neu entstandenes Tuple enthält Werte vom ersten bis zum letzten angegebenen Index, jedoch ohne diesen Wert"
   ]
  },
  {
   "cell_type": "code",
   "execution_count": 3,
   "id": "4099c97d-e499-4021-af09-d420e7aba6bb",
   "metadata": {},
   "outputs": [
    {
     "name": "stdout",
     "output_type": "stream",
     "text": [
      "(2, 3, 4)\n"
     ]
    }
   ],
   "source": [
    "tup2 = tup1[1:]\n",
    "print(tup2)"
   ]
  },
  {
   "cell_type": "code",
   "execution_count": 4,
   "id": "e3ef965e-5cc9-4867-99b6-f9dcde758cd3",
   "metadata": {},
   "outputs": [
    {
     "name": "stdout",
     "output_type": "stream",
     "text": [
      "(2,)\n"
     ]
    }
   ],
   "source": [
    "tup3 = tup1[1:2:2] # Start, Ende, Interval\n",
    "print(tup3)"
   ]
  },
  {
   "cell_type": "markdown",
   "id": "c26ab4eb-cdec-40d2-a056-31fe4b5e0c93",
   "metadata": {},
   "source": [
    "### Packing und Unpacking\n",
    "Ein literales Tupel, das mehrere Elemente enthält, kann einem einzelnen Objekt zugewiesen werden. Dabei ist es so, als ob die Elemente des Tupels in das Objekt \"gepackt\" wurden."
   ]
  },
  {
   "cell_type": "code",
   "execution_count": 5,
   "id": "4402c245-34bc-48c4-a583-a88e3f0862d5",
   "metadata": {},
   "outputs": [],
   "source": [
    "tup4 = (\"foo\", \"bar\", \"baz\", \"qux\")"
   ]
  },
  {
   "cell_type": "markdown",
   "id": "c2561ac3-e0e2-4385-ba28-1297e036e5d8",
   "metadata": {},
   "source": [
    "![Packing](./images/3.3_Packing.jpg)"
   ]
  },
  {
   "cell_type": "code",
   "execution_count": 6,
   "id": "58ceb12a-2d5f-48da-93a0-5c93204279ef",
   "metadata": {},
   "outputs": [
    {
     "name": "stdout",
     "output_type": "stream",
     "text": [
      "('foo', 'bar', 'baz', 'qux')\n"
     ]
    }
   ],
   "source": [
    "print(tup4)"
   ]
  },
  {
   "cell_type": "code",
   "execution_count": 7,
   "id": "317db54c-113f-49ab-be41-7057c2c34e60",
   "metadata": {},
   "outputs": [
    {
     "data": {
      "text/plain": [
       "'foo'"
      ]
     },
     "execution_count": 7,
     "metadata": {},
     "output_type": "execute_result"
    }
   ],
   "source": [
    "tup4[0]"
   ]
  },
  {
   "cell_type": "code",
   "execution_count": 8,
   "id": "28968b96-e2b2-4fa8-90eb-dc2664ca4404",
   "metadata": {},
   "outputs": [
    {
     "data": {
      "text/plain": [
       "'qux'"
      ]
     },
     "execution_count": 8,
     "metadata": {},
     "output_type": "execute_result"
    }
   ],
   "source": [
    "tup4[-1]"
   ]
  },
  {
   "cell_type": "code",
   "execution_count": 9,
   "id": "e77d08dc-3c63-41cd-a502-3da85e89846a",
   "metadata": {},
   "outputs": [
    {
     "ename": "NameError",
     "evalue": "name 't' is not defined",
     "output_type": "error",
     "traceback": [
      "\u001b[0;31m---------------------------------------------------------------------------\u001b[0m",
      "\u001b[0;31mNameError\u001b[0m                                 Traceback (most recent call last)",
      "Cell \u001b[0;32mIn [9], line 5\u001b[0m\n\u001b[1;32m      1\u001b[0m \u001b[39m'''\u001b[39;00m\n\u001b[1;32m      2\u001b[0m \u001b[39mBeim Entpacken muss die Anzahl der Variablen auf der linken\u001b[39;00m\n\u001b[1;32m      3\u001b[0m \u001b[39mSeite mit der Anzahl der Werte im Tupel übereinstimmen.\u001b[39;00m\n\u001b[1;32m      4\u001b[0m \u001b[39m'''\u001b[39;00m\n\u001b[0;32m----> 5\u001b[0m (s1, s2, s3, s4) \u001b[39m=\u001b[39m t\n",
      "\u001b[0;31mNameError\u001b[0m: name 't' is not defined"
     ]
    }
   ],
   "source": [
    "'''\n",
    "Beim Entpacken muss die Anzahl der Variablen auf der linken\n",
    "Seite mit der Anzahl der Werte im Tupel übereinstimmen.\n",
    "'''\n",
    "(s1, s2, s3, s4) = t"
   ]
  },
  {
   "cell_type": "markdown",
   "id": "43b5fa6c-4a05-48b2-a7e6-8995c789886e",
   "metadata": {},
   "source": [
    "![Unpacking](./images/3.3_Unpacking.jpg)"
   ]
  },
  {
   "cell_type": "code",
   "execution_count": 10,
   "id": "7fd224b6-c3d6-4b44-9668-3f8a7a85b4ed",
   "metadata": {},
   "outputs": [
    {
     "ename": "NameError",
     "evalue": "name 's1' is not defined",
     "output_type": "error",
     "traceback": [
      "\u001b[0;31m---------------------------------------------------------------------------\u001b[0m",
      "\u001b[0;31mNameError\u001b[0m                                 Traceback (most recent call last)",
      "Cell \u001b[0;32mIn [10], line 1\u001b[0m\n\u001b[0;32m----> 1\u001b[0m \u001b[39mprint\u001b[39m(s1, s2, s3, s4)\n",
      "\u001b[0;31mNameError\u001b[0m: name 's1' is not defined"
     ]
    }
   ],
   "source": [
    "print(s1, s2, s3, s4)"
   ]
  },
  {
   "cell_type": "code",
   "execution_count": 11,
   "id": "52b117f9-31ec-4451-b86b-f90ca3e225b4",
   "metadata": {},
   "outputs": [],
   "source": [
    "'''\n",
    "Das Ein- und Auspacken kann zu einer Anweisung zusammengefasst\n",
    "werden, um eine zusammengesetzte Zuordnung zu treffen.\n",
    "'''\n",
    "(s1, s2, s3, s4) = ('foo', 'bar', 'baz', 'qux')"
   ]
  },
  {
   "cell_type": "markdown",
   "id": "41801a60-012e-4b6f-b9e5-8f52ad8ff998",
   "metadata": {},
   "source": [
    "### Wertetausch"
   ]
  },
  {
   "cell_type": "code",
   "execution_count": 12,
   "id": "65bd3b4b-e306-4f75-808e-7cce07d8cf8b",
   "metadata": {},
   "outputs": [],
   "source": [
    "# Übliches Vorgehen mit temporärer Variable\n",
    "a = \"foo\"\n",
    "b = \"bar\"\n",
    "\n",
    "temp = a\n",
    "a = b\n",
    "b = temp"
   ]
  },
  {
   "cell_type": "code",
   "execution_count": 13,
   "id": "5943ab84-9f84-44a4-b17b-b326b041f2f8",
   "metadata": {},
   "outputs": [],
   "source": [
    "# Tupel Zuweisung\n",
    "a = \"foo\"\n",
    "b = \"bar\"\n",
    "\n",
    "a, b = b, a"
   ]
  },
  {
   "cell_type": "markdown",
   "id": "cc79cc8f-b846-46a3-9d7d-8168b77a5aa0",
   "metadata": {},
   "source": [
    "### Tupel anstatt Liste\n",
    "- Die Programmausführung ist bei der Manipulation eines Tupels schneller als bei der entsprechenden Liste.  \n",
    "Dies wird wahrscheinlich nicht auffallen, wenn die Liste oder das Tupel klein ist.\n",
    "- Manchmal möchten Sie nicht, dass Daten geändert werden.  \n",
    "Sollen die Werte in der Collection für die gesamte Lebensdauer des Programms konstant bleiben,  \n",
    "schützt die Verwendung eines Tupels anstelle einer Liste vor\n",
    "versehentlichen Änderungen.\n",
    "- Verwendung in Dictionaries, weil dieser Datentyp unveränderliche Datentypen erfordert.  \n",
    "Ein Tupel ist hierfür geeignet, eine Liste nicht."
   ]
  },
  {
   "cell_type": "markdown",
   "id": "3c368216-0e13-4f90-88c6-4aa8534de2b9",
   "metadata": {
    "tags": []
   },
   "source": [
    "### Live Demo"
   ]
  },
  {
   "cell_type": "code",
   "execution_count": 14,
   "id": "a945cdf3-a83f-4c49-9a9c-3406034db17c",
   "metadata": {},
   "outputs": [
    {
     "name": "stdout",
     "output_type": "stream",
     "text": [
      "('apple', 'banana', 'cherry', 'apple', 'cherry')\n"
     ]
    }
   ],
   "source": [
    "fruits = (\"apple\", \"banana\", \"cherry\", \"apple\", \"cherry\")\n",
    "print(fruits)"
   ]
  },
  {
   "cell_type": "code",
   "execution_count": 15,
   "id": "05ce4135-1b22-4a56-acfe-16a3fa11f53d",
   "metadata": {},
   "outputs": [
    {
     "name": "stdout",
     "output_type": "stream",
     "text": [
      "5\n"
     ]
    }
   ],
   "source": [
    "print(len(fruits))"
   ]
  },
  {
   "cell_type": "code",
   "execution_count": 16,
   "id": "6440b7da-b310-4814-b48b-d82561a3ea3b",
   "metadata": {},
   "outputs": [],
   "source": [
    "numbers = (1, 5, 7, 9, 3)\n",
    "booleans = (True, False, False)"
   ]
  },
  {
   "cell_type": "code",
   "execution_count": 17,
   "id": "1b0c57d3-6a64-430d-b031-47b2374577ec",
   "metadata": {},
   "outputs": [
    {
     "name": "stdout",
     "output_type": "stream",
     "text": [
      "There are 2 apples in the basket.\n"
     ]
    }
   ],
   "source": [
    "# Gibt die Anzahl der Vorkommen eines bestimmten Wertes in einem Tupel zurück\n",
    "print(f\"There are {fruits.count('apple')} apples in the basket.\")"
   ]
  },
  {
   "cell_type": "code",
   "execution_count": 18,
   "id": "b3ca7844-1883-4528-8681-a6e496da60ff",
   "metadata": {},
   "outputs": [
    {
     "name": "stdout",
     "output_type": "stream",
     "text": [
      "3\n"
     ]
    }
   ],
   "source": [
    "# Durchsucht das Tupel nach einem bestimmten Wert und gibt die Position zurück, an der er gefunden wurde\n",
    "numbers2 = (1, 3, 7, 8, 7, 5, 4, 6, 8, 5)\n",
    "\n",
    "x = numbers2.index(8)\n",
    "\n",
    "print(x)"
   ]
  },
  {
   "cell_type": "markdown",
   "id": "418b21e2-e1e5-4e58-b376-726a29613bf1",
   "metadata": {},
   "source": [
    "## String\n",
    "### Merkmale\n",
    "* Datentyp `str`\n",
    "* Semantisch: Strings sind veränderliche Zeichenketten\n",
    "* Syntaktisch: Nur Funktionalitäten für unveränderliche Listen\n",
    "* Elemente werden mit einfachen oder doppelten Hochkomma umschlossen\n",
    "* Veränderbar (_mutable_)"
   ]
  },
  {
   "cell_type": "markdown",
   "id": "c45f048e-17d9-4405-aad6-fdcd12d2dfec",
   "metadata": {},
   "source": [
    "### Syntax\n",
    "```python\n",
    "\" \" oder ' '\n",
    "```"
   ]
  },
  {
   "cell_type": "markdown",
   "id": "635d93a5-c683-4613-b07a-81894cad37f6",
   "metadata": {},
   "source": [
    "### Erstellen"
   ]
  },
  {
   "cell_type": "code",
   "execution_count": 19,
   "id": "44202dfd-402b-47e6-a2c3-3cfda6017061",
   "metadata": {},
   "outputs": [],
   "source": [
    "name = \"John\""
   ]
  },
  {
   "cell_type": "code",
   "execution_count": null,
   "id": "d315556c-aed2-491d-8321-8ef561313815",
   "metadata": {},
   "outputs": [],
   "source": [
    "?name"
   ]
  },
  {
   "cell_type": "markdown",
   "id": "68218ab1-148e-44cb-acd5-5eed0a26d57c",
   "metadata": {},
   "source": [
    "### Anzahl Elemente"
   ]
  },
  {
   "cell_type": "code",
   "execution_count": 20,
   "id": "53ffb1b6-985f-45d8-b209-abe980d6d438",
   "metadata": {},
   "outputs": [
    {
     "data": {
      "text/plain": [
       "4"
      ]
     },
     "execution_count": 20,
     "metadata": {},
     "output_type": "execute_result"
    }
   ],
   "source": [
    "len(name)"
   ]
  },
  {
   "cell_type": "markdown",
   "id": "c72946bf-5537-4a80-888e-94b8c461d986",
   "metadata": {},
   "source": [
    "### Zugriff auf ein Element\n",
    "Feld mit $n$ Elementen, Zugriff über Feld-Index mit ganzzahligen Werten zwischen $0$ und $n−1$"
   ]
  },
  {
   "cell_type": "code",
   "execution_count": 21,
   "id": "ef203a1b-72cb-495d-a23e-8496dec37f00",
   "metadata": {},
   "outputs": [],
   "source": [
    "anfangsbuchstabe = name[0]"
   ]
  },
  {
   "cell_type": "markdown",
   "id": "d75127a9-2b81-46bb-bb38-0537d38cc6ac",
   "metadata": {},
   "source": [
    "Weitere Funktionalität wurde bereits in __3.2 Einführung in Python__ im Unterkapitel \"Verarbeitung von Zeichenketten\" beschrieben."
   ]
  },
  {
   "cell_type": "markdown",
   "id": "76d9d2f1-42a3-4a38-9e09-525f5c857cc3",
   "metadata": {},
   "source": [
    "### Zeichen ersetzen\n",
    "Erstellen Sie eine Zuordnungstabelle und verwenden Sie diese in der Methode `translate()`, um alle \"S\"-Zeichen durch ein \"P\"-Zeichen zu ersetzen."
   ]
  },
  {
   "cell_type": "code",
   "execution_count": 22,
   "id": "ecd16442-03dd-4d74-8a62-a388de6a78a0",
   "metadata": {},
   "outputs": [
    {
     "name": "stdout",
     "output_type": "stream",
     "text": [
      "Hello Pam!\n"
     ]
    },
    {
     "name": "stdout",
     "output_type": "stream",
     "text": [
      "\u001b[0;31mType:\u001b[0m        dict\n",
      "\u001b[0;31mString form:\u001b[0m {83: 80}\n",
      "\u001b[0;31mLength:\u001b[0m      1\n",
      "\u001b[0;31mDocstring:\u001b[0m  \n",
      "dict() -> new empty dictionary\n",
      "dict(mapping) -> new dictionary initialized from a mapping object's\n",
      "    (key, value) pairs\n",
      "dict(iterable) -> new dictionary initialized as if via:\n",
      "    d = {}\n",
      "    for k, v in iterable:\n",
      "        d[k] = v\n",
      "dict(**kwargs) -> new dictionary initialized with the name=value pairs\n",
      "    in the keyword argument list.  For example:  dict(one=1, two=2)\n"
     ]
    }
   ],
   "source": [
    "# Die Methode translate() gibt eine Zeichenkette zurück, in der einige angegebene Zeichen durch die in einem Wörterbuch oder einer Zuordnungstabelle beschriebenen Zeichen ersetzt werden.\n",
    "# https://www.w3schools.com/python/ref_string_maketrans.asp\n",
    "txt = \"Hello Sam!\"\n",
    "\n",
    "mapping = txt.maketrans(\"S\", \"P\")\n",
    "?mapping\n",
    "\n",
    "print(txt.translate(mapping))"
   ]
  },
  {
   "cell_type": "code",
   "execution_count": 23,
   "id": "07247dda-60eb-4897-920f-279e1ac117f4",
   "metadata": {},
   "outputs": [
    {
     "name": "stdout",
     "output_type": "stream",
     "text": [
      "Hi Joe!\n"
     ]
    },
    {
     "name": "stdout",
     "output_type": "stream",
     "text": [
      "\u001b[0;31mType:\u001b[0m        dict\n",
      "\u001b[0;31mString form:\u001b[0m {109: 101, 97: 111, 83: 74}\n",
      "\u001b[0;31mLength:\u001b[0m      3\n",
      "\u001b[0;31mDocstring:\u001b[0m  \n",
      "dict() -> new empty dictionary\n",
      "dict(mapping) -> new dictionary initialized from a mapping object's\n",
      "    (key, value) pairs\n",
      "dict(iterable) -> new dictionary initialized as if via:\n",
      "    d = {}\n",
      "    for k, v in iterable:\n",
      "        d[k] = v\n",
      "dict(**kwargs) -> new dictionary initialized with the name=value pairs\n",
      "    in the keyword argument list.  For example:  dict(one=1, two=2)\n"
     ]
    }
   ],
   "source": [
    "# Verwenden Sie eine Zuordnungstabelle, um viele Zeichen zu ersetzen:\n",
    "txt = \"Hi Sam!\"\n",
    "x = \"maS\"\n",
    "y = \"eoJ\"\n",
    "mapping2 = txt.maketrans(x, y)\n",
    "?mapping2\n",
    "print(txt.translate(mapping2))"
   ]
  },
  {
   "cell_type": "code",
   "execution_count": 24,
   "id": "8abcd39d-a1a7-4391-8b16-3b3dc408ea6f",
   "metadata": {},
   "outputs": [
    {
     "name": "stdout",
     "output_type": "stream",
     "text": [
      "G i Joe!\n"
     ]
    }
   ],
   "source": [
    "# Der dritte Parameter in der Zuordnungstabelle beschreibt die Zeichen, die Sie aus der Zeichenkette entfernen möchten.\n",
    "txt = \"Good night Sam!\"\n",
    "x = \"mSa\"\n",
    "y = \"eJo\"\n",
    "z = \"odnght\"\n",
    "mapping3 = txt.maketrans(x, y, z)\n",
    "print(txt.translate(mapping3))"
   ]
  },
  {
   "cell_type": "code",
   "execution_count": 25,
   "id": "6aa8b280-e6ef-456d-9f98-2c19727112f5",
   "metadata": {},
   "outputs": [
    {
     "name": "stdout",
     "output_type": "stream",
     "text": [
      "-------banana-------\n"
     ]
    }
   ],
   "source": [
    "# Die Methode center() richtet die Zeichenkette mittig aus, wobei ein bestimmtes Zeichen (standardmäßig ein Leerzeichen) als Füllzeichen verwendet wird.\n",
    "txt = \"banana\"\n",
    "\n",
    "x = txt.center(20, \"-\")\n",
    "\n",
    "print(x)"
   ]
  },
  {
   "cell_type": "markdown",
   "id": "342ad159-3e0d-404b-80f2-e1972388a471",
   "metadata": {
    "tags": []
   },
   "source": [
    "### Live Demo\n"
   ]
  },
  {
   "cell_type": "code",
   "execution_count": 26,
   "id": "a1148eba-3c1d-4827-b0af-f516b3597710",
   "metadata": {},
   "outputs": [
    {
     "name": "stdout",
     "output_type": "stream",
     "text": [
      "Hello\n"
     ]
    }
   ],
   "source": [
    "# Ein Backslash gefolgt von einem \"x\" und einer Hex-Zahl steht für einen Hex-Wert\n",
    "txt = \"\\x48\\x65\\x6c\\x6c\\x6f\"\n",
    "print(txt) "
   ]
  },
  {
   "cell_type": "code",
   "execution_count": 27,
   "id": "c7e76cb2-6067-4965-9747-5ec70992a006",
   "metadata": {},
   "outputs": [
    {
     "name": "stdout",
     "output_type": "stream",
     "text": [
      "['apple', 'banana', 'cherry']\n"
     ]
    },
    {
     "name": "stdout",
     "output_type": "stream",
     "text": [
      "\u001b[0;31mType:\u001b[0m        list\n",
      "\u001b[0;31mString form:\u001b[0m ['apple', 'banana', 'cherry']\n",
      "\u001b[0;31mLength:\u001b[0m      3\n",
      "\u001b[0;31mDocstring:\u001b[0m  \n",
      "Built-in mutable sequence.\n",
      "\n",
      "If no argument is given, the constructor creates a new empty list.\n",
      "The argument must be an iterable if specified.\n"
     ]
    }
   ],
   "source": [
    "# Eine Zeichenkette in eine Liste aufteilen, wobei ein Komma, gefolgt von einem Leerzeichen (, ) als Trennzeichen verwendet wird\n",
    "txt = \"apple, banana, cherry\"\n",
    "\n",
    "x = txt.split(\", \")\n",
    "\n",
    "print(x)\n",
    "?x"
   ]
  },
  {
   "cell_type": "markdown",
   "id": "924d3d9c-5735-445c-89a5-1377346ae493",
   "metadata": {},
   "source": [
    "## Set\n",
    "### Merkmale\n",
    "* Datentyp `set`\n",
    "* Semantisch: Ungeordnete Sammlung ohne doppelte Elemente (Dubletten)\n",
    "* Syntaktisch: Listen können beliebige Objekte von beliebigem Datentyp enthalten\n",
    "* Ungeordnet bedeutet, dass die Elemente in einem Set keine bestimmte Reihenfolge haben. Set-Elemente können bei jeder Verwendung in einer anderen Reihenfolge erscheinen und können nicht durch Index oder Schlüssel referenziert werden.\n",
    "* Menge in geschweiften Klammern\n",
    "* Elemente werden mit Komma getrennt\n",
    "* Unveränderbar (_mutable_)\n",
    "* Elemente können entfernt und neue Elemente hinzufügt werden\n",
    "* Grundlegenden Anwendungen: Testen der Mitgliedschaft und das Eliminieren doppelter Einträge\n",
    "* Sets zeichnen die Elementposition oder die Einfügereihenfolge nicht auf\n",
    "* Sets unterstützen kein Indizieren, Slicing oder anderes sequenzähnliches Verhalten\n",
    "* Set-Objekte unterstützen auch mathematische Operationen wie Vereinigung, Schnittmenge, Differenz und symmetrische Differenz."
   ]
  },
  {
   "cell_type": "markdown",
   "id": "497cee41-d289-4ed6-a419-6739e5aa53d8",
   "metadata": {},
   "source": [
    "### Syntax\n",
    "```python\n",
    "{\"apple\", \"banana\", \"cherry\"}\n",
    "```"
   ]
  },
  {
   "cell_type": "markdown",
   "id": "eb93cc7b-8292-460a-9641-36dda8186e41",
   "metadata": {},
   "source": [
    "### Erstellen"
   ]
  },
  {
   "cell_type": "code",
   "execution_count": 28,
   "id": "9d29e9c1-fc16-4f92-b6ea-14aceee77c57",
   "metadata": {},
   "outputs": [
    {
     "name": "stdout",
     "output_type": "stream",
     "text": [
      "{'apple', 'banana', 'cherry'}\n"
     ]
    }
   ],
   "source": [
    "fruits2 = {\"apple\", \"banana\", \"cherry\", \"apple\"}\n",
    "\n",
    "print(fruits2)"
   ]
  },
  {
   "cell_type": "code",
   "execution_count": 29,
   "id": "8deebe14-9584-48fe-b10e-12e68f47dd2a",
   "metadata": {},
   "outputs": [
    {
     "name": "stdout",
     "output_type": "stream",
     "text": [
      "\u001b[0;31mType:\u001b[0m        set\n",
      "\u001b[0;31mString form:\u001b[0m {'apple', 'banana', 'cherry'}\n",
      "\u001b[0;31mLength:\u001b[0m      3\n",
      "\u001b[0;31mDocstring:\u001b[0m  \n",
      "set() -> new empty set object\n",
      "set(iterable) -> new set object\n",
      "\n",
      "Build an unordered collection of unique elements.\n"
     ]
    }
   ],
   "source": [
    "?fruits2"
   ]
  },
  {
   "cell_type": "code",
   "execution_count": 30,
   "id": "2f7c2631-d10c-4fce-b2da-9ef783533820",
   "metadata": {},
   "outputs": [],
   "source": [
    "numbers2 = {1, 5, 7, 9, 3}\n",
    "booleans2 = {True, False, False}"
   ]
  },
  {
   "cell_type": "code",
   "execution_count": 32,
   "id": "c62a9192-8437-4e35-b473-288882d64a8f",
   "metadata": {},
   "outputs": [
    {
     "name": "stdout",
     "output_type": "stream",
     "text": [
      "{'Tim', 'Anna', 'Sam', 'Derrick'}\n"
     ]
    }
   ],
   "source": [
    "# Dubletten entfernen durch kovertieren in Set\n",
    "names = [\"Anna\", \"Sam\", \"Derrick\", \"Sam\", \"Tim\", \"Anna\"]\n",
    "names_unique_unsorted = set(names)\n",
    "print(names_unique_unsorted)"
   ]
  },
  {
   "cell_type": "code",
   "execution_count": 34,
   "id": "9e6e7cfb-1c27-4ddd-890e-de2e8b3823e0",
   "metadata": {},
   "outputs": [
    {
     "name": "stdout",
     "output_type": "stream",
     "text": [
      "['Anna', 'Derrick', 'Sam', 'Tim']\n"
     ]
    }
   ],
   "source": [
    "# Sortieren über Konvertierung zu Liste\n",
    "x = list(names_unique_unsorted)\n",
    "x.sort()\n",
    "print(x)\n",
    "names_unique_sorted = set(x)"
   ]
  },
  {
   "cell_type": "markdown",
   "id": "54b5db9e-cea5-442d-b443-4e16f906ab93",
   "metadata": {},
   "source": [
    "### Anzahl Elemente"
   ]
  },
  {
   "cell_type": "code",
   "execution_count": null,
   "id": "14ac0ad0-f827-4f1c-8655-3b0adc9831ad",
   "metadata": {},
   "outputs": [],
   "source": [
    "len(fruits2)"
   ]
  },
  {
   "cell_type": "markdown",
   "id": "60defad0-ec57-443e-8535-075c5e4f2661",
   "metadata": {},
   "source": [
    "### Mengenoperationen an eindeutigen Buchstaben aus zwei Wörtern"
   ]
  },
  {
   "cell_type": "code",
   "execution_count": null,
   "id": "e055d6c4-13aa-45f7-992b-c6734d1a3fe4",
   "metadata": {},
   "outputs": [],
   "source": [
    "a = set('abracadabra')\n",
    "b = set('alacazam')\n",
    "\n",
    "a # einzigartige Buchstaben in a\n",
    "{'a', 'r', 'b', 'c', 'd'}\n",
    "\n",
    "a - b # Buchstaben in a, aber nicht in b\n",
    "{'r', 'd', 'b'}\n",
    "\n",
    "a | b # Buchstaben in a oder b oder beides\n",
    "{'a', 'c', 'r', 'd', 'b', 'm', 'z', 'l'}\n",
    "\n",
    "a & b # Buchstaben in a und b\n",
    "{'a', 'c'}\n",
    "\n",
    "a ^ b # Buchstaben in a oder b, aber nicht beides, XOR\n",
    "{'r', 'd', 'b', 'm', 'z', 'l'}"
   ]
  },
  {
   "cell_type": "markdown",
   "id": "f95874a0-a24f-4818-b5bc-d3462ad51d54",
   "metadata": {},
   "source": [
    "### Neue Elemente hinzufügen mit add()"
   ]
  },
  {
   "cell_type": "code",
   "execution_count": 35,
   "id": "da59f1da-4705-448b-86f7-63ea5825d4c2",
   "metadata": {},
   "outputs": [
    {
     "name": "stdout",
     "output_type": "stream",
     "text": [
      "{'apple', 'orange', 'banana', 'cherry'}\n"
     ]
    }
   ],
   "source": [
    "smoothie = {\"apple\", \"banana\", \"cherry\"}\n",
    "smoothie.add(\"orange\")\n",
    "print(smoothie)"
   ]
  },
  {
   "cell_type": "markdown",
   "id": "1e9bd69b-7a9a-4871-aaec-dc8e64a5687b",
   "metadata": {},
   "source": [
    "### Neue Elemente aus einem anderen Set hinzufügen"
   ]
  },
  {
   "cell_type": "code",
   "execution_count": 36,
   "id": "fb47041a-b60b-4dd0-b8aa-9289638d913e",
   "metadata": {},
   "outputs": [
    {
     "name": "stdout",
     "output_type": "stream",
     "text": [
      "{'pineapple', 'orange', 'banana', 'papaya', 'cherry', 'apple', 'mango'}\n"
     ]
    }
   ],
   "source": [
    "tropical = {\"pineapple\", \"mango\", \"papaya\"}\n",
    "smoothie.update(tropical)\n",
    "print(smoothie)"
   ]
  },
  {
   "cell_type": "markdown",
   "id": "c119761a-2987-4041-8d50-319b687b7c49",
   "metadata": {},
   "source": [
    "### Neue Elemente aus einem anderen iterierbarem Objekt hinzufügen"
   ]
  },
  {
   "cell_type": "code",
   "execution_count": 37,
   "id": "9e2bf754-ec7b-40f7-8d3f-41c5d5fe9fff",
   "metadata": {},
   "outputs": [
    {
     "name": "stdout",
     "output_type": "stream",
     "text": [
      "{'orange', 'cherry', 'banana', 'kiwi', 'apple'}\n"
     ]
    }
   ],
   "source": [
    "smoothie = {\"apple\", \"banana\", \"cherry\"}\n",
    "my_favorites = [\"kiwi\", \"orange\"]\n",
    "smoothie.update(my_favorites)\n",
    "print(smoothie)"
   ]
  },
  {
   "cell_type": "markdown",
   "id": "5841f842-26d3-408c-941e-a44844a26d47",
   "metadata": {},
   "source": [
    "### Elemente entfernen mit remove()"
   ]
  },
  {
   "cell_type": "code",
   "execution_count": null,
   "id": "374c7073-6984-401d-81c7-a3edfe95f2d2",
   "metadata": {},
   "outputs": [],
   "source": [
    "smoothie = {\"apple\", \"banana\", \"cherry\"}\n",
    "smoothie.remove(\"banana\") # Wenn das zu entfernende Element nicht existiert, löst remove() einen Fehler aus.\n",
    "print(smoothie)"
   ]
  },
  {
   "cell_type": "markdown",
   "id": "42a27f0d-1ffe-4e64-a5af-21c964eb9397",
   "metadata": {},
   "source": [
    "### Elemente entfernen mit discard()"
   ]
  },
  {
   "cell_type": "code",
   "execution_count": null,
   "id": "c8761a90-ac78-4267-b653-90b06b428109",
   "metadata": {},
   "outputs": [],
   "source": [
    "smoothie = {\"apple\", \"banana\", \"cherry\"}\n",
    "smoothie.discard(\"banana\") # Wenn das zu entfernende Element nicht vorhanden ist, löst discard() KEINEN Fehler aus.\n",
    "print(smoothie)"
   ]
  },
  {
   "cell_type": "markdown",
   "id": "f9bcd11a-c4c5-49fb-adc4-d09c14038600",
   "metadata": {},
   "source": [
    "### Elemente entfernen mit pop()"
   ]
  },
  {
   "cell_type": "code",
   "execution_count": null,
   "id": "14484de2-7ea5-46c3-9520-009ab2229d87",
   "metadata": {},
   "outputs": [],
   "source": [
    "smoothie = {\"apple\", \"banana\", \"cherry\"}"
   ]
  },
  {
   "cell_type": "code",
   "execution_count": null,
   "id": "99966c5c-9d97-48d3-a00a-4630a113125a",
   "metadata": {},
   "outputs": [],
   "source": [
    "smoothie.pop() # Sets sind ungeordnet, sodass Verwendung der Methode pop() nicht bekannt ist, welches Element entfernt wird.\n",
    "print(smoothie)"
   ]
  },
  {
   "cell_type": "markdown",
   "id": "751a42f3-de52-4911-ba60-8e8efec35a08",
   "metadata": {},
   "source": [
    "### Elemente vollständig entfernen mit clear()"
   ]
  },
  {
   "cell_type": "code",
   "execution_count": null,
   "id": "52afd2cb-2395-418f-8ef4-779a6f86b405",
   "metadata": {},
   "outputs": [],
   "source": [
    "smoothie.clear()\n",
    "print(smoothie)"
   ]
  },
  {
   "cell_type": "markdown",
   "id": "7699834a-5661-4eb5-a2aa-d43473ea0f84",
   "metadata": {},
   "source": [
    "### Set auflösen mit del()"
   ]
  },
  {
   "cell_type": "code",
   "execution_count": null,
   "id": "c3771af0-427b-40f9-89f2-1065eb829ef0",
   "metadata": {},
   "outputs": [],
   "source": [
    "del smoothie"
   ]
  },
  {
   "cell_type": "markdown",
   "id": "00705733-22dc-499c-8db7-e39981ba2aae",
   "metadata": {
    "tags": []
   },
   "source": [
    "### Live Demo\n"
   ]
  },
  {
   "cell_type": "code",
   "execution_count": 38,
   "id": "381d67af-0fc5-477a-8428-dd021c80b194",
   "metadata": {},
   "outputs": [
    {
     "name": "stdout",
     "output_type": "stream",
     "text": [
      "{'apple', 'orange', 'banana', 'pear'}\n"
     ]
    },
    {
     "data": {
      "text/plain": [
       "True"
      ]
     },
     "execution_count": 38,
     "metadata": {},
     "output_type": "execute_result"
    }
   ],
   "source": [
    "basket = {'apple', 'orange', 'apple', 'pear', 'orange', 'banana'}\n",
    "print(basket) # Ausgabe, um zu zeigen, dass Duplikate entfernt wurden\n",
    "\n",
    "# Überprüfen, ob Wert vorhanden\n",
    "'orange' in basket # schnelle Prüfung auf Mitgliedchaft"
   ]
  },
  {
   "cell_type": "code",
   "execution_count": 39,
   "id": "af2fe769-f905-4872-a32e-49a7d1d34dd9",
   "metadata": {},
   "outputs": [
    {
     "data": {
      "text/plain": [
       "False"
      ]
     },
     "execution_count": 39,
     "metadata": {},
     "output_type": "execute_result"
    }
   ],
   "source": [
    "# Überprüfen, ob Wert vorhanden\n",
    "'crabgrass' in basket # schnelle Prüfung auf Mitgliedchaft"
   ]
  },
  {
   "cell_type": "code",
   "execution_count": 40,
   "id": "32c43098-36d7-44a9-b649-9dfd0f087242",
   "metadata": {},
   "outputs": [
    {
     "name": "stdout",
     "output_type": "stream",
     "text": [
      "{'apple', 'banana', 'cherry'}\n"
     ]
    }
   ],
   "source": [
    "smoothie = set((\"apple\", \"banana\", \"cherry\")) # Doppelte runde Klammern!\n",
    "print(smoothie)"
   ]
  },
  {
   "cell_type": "code",
   "execution_count": 41,
   "id": "3f2191b9-e9f9-4aaf-86f2-65d7f4203ea2",
   "metadata": {},
   "outputs": [
    {
     "name": "stdout",
     "output_type": "stream",
     "text": [
      "{'apple', 'banana', 'maple syrup', 'cherry'}\n"
     ]
    }
   ],
   "source": [
    "smoothie.add(\"maple syrup\")\n",
    "print(smoothie)"
   ]
  },
  {
   "cell_type": "markdown",
   "id": "0ccda356-749c-435a-bbd6-f2dd6516e901",
   "metadata": {
    "tags": []
   },
   "source": [
    "## Dictionary\n",
    "### Merkmale\n",
    "* Datentyp `dict`\n",
    "* Semantisch: Dictionaries gehören zu den mächtigsten Datentypen, die Python zu bieten hat.\n",
    "* Syntaktisch: Der Zugriff auf die Werte eines Dictionaries erfolgt über Schlüssel (_keys_). Dies bedeutet, dass es bei der Definition eines Dictionaries für jeden Wert (_value_) auch einen zugehörigen Schlüssel angeben müssen.\n",
    "* Als Schlüssel können jedoch Instanzen aller unveränderlichen (immutable) Datentypen verwendet werden, d.h. Integer, Floats, Strings oder Tupel, jedoch keine veränderlichen Objekte wie beispielsweise Listen oder Dictionaries.\n",
    "* Wie Listen können Dictionaries leicht verändert werden, außerdem können sie während der Laufzeit beliebig wachsen und schrumpfen.\n",
    "* Der Konstruktor erstellt ein Schlüssel-Wert-Paar\n",
    "* Schlüssel-Wert-Paare werden mit Komma getrennt\n",
    "* Veränderbar (_mutable_)\n",
    "* Ein Dictionary optimiert die Suche nach Elementen  \n",
    "* Es werden Schlüssel/Wert-Paare anstelle von Zahlen als Platzhalter verwendet\n",
    "* Jeder Schlüssel muss einen Wert haben, und Sie können einen Schlüssel verwenden, um einen Wert zu finden\n",
    "* Ein Wörterbuch optimiert die Suche nach Elementen."
   ]
  },
  {
   "cell_type": "markdown",
   "id": "533bbaae-42d0-4d57-8ff5-88ec04735748",
   "metadata": {},
   "source": [
    "### Syntax\n",
    "```python\n",
    "{'apple' : 52, 'banana' : 89, 'choco' : 546} # calories\n",
    "```"
   ]
  },
  {
   "cell_type": "markdown",
   "id": "418299c7-ceb7-41c2-86da-d1f76bdd75a8",
   "metadata": {},
   "source": [
    "### Erstellen"
   ]
  },
  {
   "cell_type": "code",
   "execution_count": 42,
   "id": "84c2715f-6d46-4aef-9792-af475596e536",
   "metadata": {},
   "outputs": [
    {
     "name": "stdout",
     "output_type": "stream",
     "text": [
      "\u001b[0;31mType:\u001b[0m        dict\n",
      "\u001b[0;31mString form:\u001b[0m {'apple': 52, 'banana': 89, 'choco': 546}\n",
      "\u001b[0;31mLength:\u001b[0m      3\n",
      "\u001b[0;31mDocstring:\u001b[0m  \n",
      "dict() -> new empty dictionary\n",
      "dict(mapping) -> new dictionary initialized from a mapping object's\n",
      "    (key, value) pairs\n",
      "dict(iterable) -> new dictionary initialized as if via:\n",
      "    d = {}\n",
      "    for k, v in iterable:\n",
      "        d[k] = v\n",
      "dict(**kwargs) -> new dictionary initialized with the name=value pairs\n",
      "    in the keyword argument list.  For example:  dict(one=1, two=2)\n"
     ]
    }
   ],
   "source": [
    "cal = {\"apple\" : 52, \"banana\" : 89, \"choco\" : 546} # calories\n",
    "?cal"
   ]
  },
  {
   "cell_type": "code",
   "execution_count": 43,
   "id": "25f3a213-05db-468b-a447-a1a7a4b08b6a",
   "metadata": {},
   "outputs": [
    {
     "name": "stdout",
     "output_type": "stream",
     "text": [
      "{'brand': 'Ford', 'model': 'Mustang', 'year': 1964}\n"
     ]
    }
   ],
   "source": [
    "car = dict(brand=\"Ford\",model=\"Mustang\",year=1964)\n",
    "print(car)"
   ]
  },
  {
   "cell_type": "markdown",
   "id": "d6916352-4926-4b67-a5b9-63a6dabd8b75",
   "metadata": {},
   "source": [
    "### Anzahl Elemente"
   ]
  },
  {
   "cell_type": "code",
   "execution_count": 44,
   "id": "301780e4-eaa0-4f8f-a224-dc17f4b7104f",
   "metadata": {},
   "outputs": [
    {
     "data": {
      "text/plain": [
       "3"
      ]
     },
     "execution_count": 44,
     "metadata": {},
     "output_type": "execute_result"
    }
   ],
   "source": [
    "len(cal)"
   ]
  },
  {
   "cell_type": "markdown",
   "id": "da2fe94c-b137-4946-b173-eaaaed7ebaab",
   "metadata": {},
   "source": [
    "### Zugriff auf ein Element"
   ]
  },
  {
   "cell_type": "code",
   "execution_count": 45,
   "id": "eec72974-006f-47e0-9ad8-d40036ddef69",
   "metadata": {},
   "outputs": [
    {
     "data": {
      "text/plain": [
       "52"
      ]
     },
     "execution_count": 45,
     "metadata": {},
     "output_type": "execute_result"
    }
   ],
   "source": [
    "cal[\"apple\"]"
   ]
  },
  {
   "cell_type": "code",
   "execution_count": 46,
   "id": "dc954f0a-f0bb-4e68-806b-054b4c2e5c15",
   "metadata": {},
   "outputs": [
    {
     "name": "stdout",
     "output_type": "stream",
     "text": [
      "True\n"
     ]
    }
   ],
   "source": [
    "print(cal['apple'] < cal['choco'])"
   ]
  },
  {
   "cell_type": "markdown",
   "id": "4b9fdd27-0e17-491d-a9ad-8b2da96d8d21",
   "metadata": {},
   "source": [
    "### Element hinzufügen"
   ]
  },
  {
   "cell_type": "code",
   "execution_count": 47,
   "id": "c16efbf0-fa5b-490c-b2b8-41368a64de2e",
   "metadata": {},
   "outputs": [
    {
     "name": "stdout",
     "output_type": "stream",
     "text": [
      "{'apple': 52, 'banana': 89, 'choco': 546, 'cappu': 74}\n"
     ]
    }
   ],
   "source": [
    "cal['cappu'] = 74\n",
    "print(cal)"
   ]
  },
  {
   "cell_type": "markdown",
   "id": "69266922-a65a-4f0f-a77d-3ea5ff305380",
   "metadata": {},
   "source": [
    "### Schlüssel und Werte auslesen"
   ]
  },
  {
   "cell_type": "code",
   "execution_count": 48,
   "id": "18bcfe46-8dfd-45f8-a0f4-684147601927",
   "metadata": {},
   "outputs": [
    {
     "name": "stdout",
     "output_type": "stream",
     "text": [
      "True\n"
     ]
    }
   ],
   "source": [
    "print(\"apple\" in cal.keys())"
   ]
  },
  {
   "cell_type": "code",
   "execution_count": 49,
   "id": "150ac9ba-0564-426d-b833-b4c987ce6195",
   "metadata": {},
   "outputs": [
    {
     "name": "stdout",
     "output_type": "stream",
     "text": [
      "True\n"
     ]
    }
   ],
   "source": [
    "print(52 in cal.values())"
   ]
  },
  {
   "cell_type": "markdown",
   "id": "364dfceb-0b22-40e1-848d-f9fd8cc500bb",
   "metadata": {},
   "source": [
    "### Iteration der Elemente"
   ]
  },
  {
   "cell_type": "code",
   "execution_count": 266,
   "id": "efe2eb84-e194-4760-ad8e-c3c2ea35b13a",
   "metadata": {},
   "outputs": [
    {
     "name": "stdout",
     "output_type": "stream",
     "text": [
      "choco\n"
     ]
    }
   ],
   "source": [
    "for k, v in cal.items():\n",
    "    # print(k) if v > 500 else '' # Kurzschreibweise\n",
    "    if v > 500:\n",
    "        print(k)\n",
    "    else: ''"
   ]
  },
  {
   "cell_type": "markdown",
   "id": "558d23aa-48f6-44b5-98cb-66c0f325aac6",
   "metadata": {},
   "source": [
    "### Mitgliedschafts-Operator\n",
    "Prüfen Sie mit dem Schlüsselwort `in`, ob `Set`, `List` oder `Dictionary` ein Element enthält. Die Zugehörigkeit mit `Set` zu prüfen ist schneller als die Prüfung mit `List`."
   ]
  },
  {
   "cell_type": "code",
   "execution_count": 50,
   "id": "1fdea379-b7c0-424c-afce-2d28bbbf161d",
   "metadata": {},
   "outputs": [
    {
     "name": "stdout",
     "output_type": "stream",
     "text": [
      "True\n",
      "False\n"
     ]
    }
   ],
   "source": [
    "basket = {'apple', 'eggs', 'banana', 'orange'}\n",
    "\n",
    "print('eggs' in basket) # True\n",
    "print('mushroom' in basket) # False"
   ]
  },
  {
   "cell_type": "markdown",
   "id": "ce89a197-7e10-4574-be49-4a634d36f2b5",
   "metadata": {
    "tags": []
   },
   "source": [
    "### Live Demo\n"
   ]
  },
  {
   "cell_type": "code",
   "execution_count": 51,
   "id": "6fee25c2-60b5-41ee-8133-b775370f622c",
   "metadata": {},
   "outputs": [],
   "source": [
    "my_dict = {\"fruit 1\": \"apple\",\"fruit 2\": \"banana\",\"fruit 3\":\"cherry\"}"
   ]
  },
  {
   "cell_type": "code",
   "execution_count": 52,
   "id": "6f8ef56b-bbf1-494e-bbc3-9c882ec9ced4",
   "metadata": {},
   "outputs": [
    {
     "name": "stdout",
     "output_type": "stream",
     "text": [
      "{1: 2, 2: 2, 5: 4}\n"
     ]
    }
   ],
   "source": [
    "# Speichern von Duplikaten als Dictionary mit der Duplikatnummer als Schlüssel und der Anzahl der Duplikate als Wert.\n",
    "a = [1,2,3,2,1,5,6,5,5,5]\n",
    "\n",
    "duplicates={}\n",
    "\n",
    "for i in set((a)):\n",
    "    if a.count(i) > 1:\n",
    "        duplicates[i] = a.count(i)\n",
    "print(duplicates)"
   ]
  },
  {
   "cell_type": "markdown",
   "id": "cc143426-42d0-48e9-8a7c-aa1355b831f7",
   "metadata": {},
   "source": [
    "# Weiterführendes Material\n",
    "- https://www.w3schools.com/python/python_reference.asp  \n",
    "- https://docs.python.org/3.10/tutorial/introduction.html\n",
    "- https://www.geeksforgeeks.org/copy-python-deep-copy-shallow-copy/\n",
    "- https://www.geeksforgeeks.org/difference-between-find-and-index-in-python/"
   ]
  }
 ],
 "metadata": {
  "kernelspec": {
   "display_name": "Python 3.10.6 64-bit",
   "language": "python",
   "name": "python3"
  },
  "language_info": {
   "codemirror_mode": {
    "name": "ipython",
    "version": 3
   },
   "file_extension": ".py",
   "mimetype": "text/x-python",
   "name": "python",
   "nbconvert_exporter": "python",
   "pygments_lexer": "ipython3",
   "version": "3.10.6"
  },
  "vscode": {
   "interpreter": {
    "hash": "916dbcbb3f70747c44a77c7bcd40155683ae19c65e1c03b4aa3499c5328201f1"
   }
  }
 },
 "nbformat": 4,
 "nbformat_minor": 5
}
