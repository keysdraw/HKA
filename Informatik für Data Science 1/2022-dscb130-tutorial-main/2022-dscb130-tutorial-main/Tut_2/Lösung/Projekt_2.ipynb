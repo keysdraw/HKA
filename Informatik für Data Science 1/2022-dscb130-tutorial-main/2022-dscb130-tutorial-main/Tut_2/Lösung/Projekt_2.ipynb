{
 "cells": [
  {
   "cell_type": "markdown",
   "metadata": {},
   "source": [
    "# Schritt 2"
   ]
  },
  {
   "cell_type": "code",
   "execution_count": null,
   "metadata": {},
   "outputs": [],
   "source": [
    "num1 = input(\"Gib die erste Zahl ein: \")\n",
    "oper = input(\"Welche Rechenoperation soll durchgefuehrt werden? (+,-,/.,*): \")\n",
    "num2 = input(\"Gib die zweite Zahl ein: \")\n",
    "\n",
    "num1 = int(num1)\n",
    "num2 = int(num2)\n",
    "print(f\"Deine Rechnung: {num1} {oper} {num2}\")\n",
    "\n",
    "if (oper == \"+\"):\n",
    "    print(\"Ergebnis:\", num1 + num2)\n",
    "\n",
    "elif(oper == \"-\"):\n",
    "    print(\"Ergebnis:\", num1 + num2)\n",
    "    \n",
    "elif(oper == \"/\"):\n",
    "    print(\"Ergebnis:\", num1 / num2)\n",
    "    \n",
    "elif(oper == \"*\"):\n",
    "    print(\"Dein Ergebnis:\", num1 * num2)\n"
   ]
  },
  {
   "cell_type": "markdown",
   "metadata": {},
   "source": [
    "# Schritt 2,5"
   ]
  },
  {
   "cell_type": "code",
   "execution_count": 2,
   "metadata": {},
   "outputs": [
    {
     "name": "stdout",
     "output_type": "stream",
     "text": [
      "Deine Eingaben sind nicht gueltig\n"
     ]
    }
   ],
   "source": [
    "num1 = input(\"Gib die erste Zahl ein: \")\n",
    "oper = input(\"Welche Rechenoperation soll durchgefuehrt werden? (+,-,/.,*): \")\n",
    "num2 = input(\"Gib die zweite Zahl ein: \")\n",
    "\n",
    "if num1 and oper and num2 and num2 != 0:\n",
    "    \n",
    "    num1 = int(num1)\n",
    "    num2 = int(num2)\n",
    "    print(f\"Deine Rechnung: {num1} {oper} {num2}\")\n",
    "\n",
    "\n",
    "    if (oper == \"+\"):\n",
    "        print(\"Ergebnis:\", num1 + num2)\n",
    "\n",
    "    elif(oper == \"-\"):\n",
    "        print(\"Ergebnis:\", num1 + num2)\n",
    "        \n",
    "    elif(oper == \"/\"):\n",
    "        print(\"Ergebnis:\", num1 / num2)\n",
    "        \n",
    "    elif(oper == \"*\"):\n",
    "        print(\"Dein Ergebnis:\", num1 * num2)\n",
    "else:\n",
    "    print(\"Deine Eingaben sind nicht gueltig\")"
   ]
  },
  {
   "cell_type": "markdown",
   "metadata": {},
   "source": [
    "# Schritt 3"
   ]
  },
  {
   "cell_type": "code",
   "execution_count": null,
   "metadata": {},
   "outputs": [],
   "source": [
    "num1 = input(\"Gib die erste Zahl ein: \")\n",
    "oper = input(\"Welche Rechenoperation soll durchgefuehrt werden? (+,-,/.,*): \")\n",
    "num2 = input(\"Gib die zweite Zahl ein: \")\n",
    "\n",
    "if num1 and oper and num2 and num2 != 0:\n",
    "    \n",
    "    num1 = int(num1)\n",
    "    num2 = int(num2)\n",
    "    print(f\"Deine Rechnung: {num1} {oper} {num2}\")\n",
    "\n",
    "\n",
    "    if (oper == \"+\"):\n",
    "        print(\"Ergebnis:\", num1 + num2)\n",
    "\n",
    "    elif(oper == \"-\"):\n",
    "        print(\"Ergebnis:\", num1 + num2)\n",
    "        \n",
    "    elif(oper == \"/\"):\n",
    "        print(\"Ergebnis:\", num1 / num2)\n",
    "        \n",
    "    elif(oper == \"*\"):\n",
    "        print(\"Dein Ergebnis:\", num1 * num2)\n",
    "        \n",
    "    elif(oper == \"%\"):\n",
    "        print(f\"Dein Ergebnis: {num1 // num2} Rest: {num1 % num2}\")\n",
    "else:\n",
    "    print(\"Deine Eingaben sind nicht gueltig\")\n"
   ]
  },
  {
   "cell_type": "markdown",
   "metadata": {},
   "source": [
    "# Sehr Sehr Fortgeschrittene Lösung"
   ]
  },
  {
   "cell_type": "code",
   "execution_count": 3,
   "metadata": {},
   "outputs": [
    {
     "name": "stdout",
     "output_type": "stream",
     "text": [
      "0\n"
     ]
    }
   ],
   "source": [
    "print(eval(input()))\n",
    "#btw this is bad code realy bad code \n",
    "#but cool"
   ]
  }
 ],
 "metadata": {
  "kernelspec": {
   "display_name": "Python 3.8.10 64-bit",
   "language": "python",
   "name": "python3"
  },
  "language_info": {
   "codemirror_mode": {
    "name": "ipython",
    "version": 3
   },
   "file_extension": ".py",
   "mimetype": "text/x-python",
   "name": "python",
   "nbconvert_exporter": "python",
   "pygments_lexer": "ipython3",
   "version": "3.8.10"
  },
  "orig_nbformat": 4,
  "vscode": {
   "interpreter": {
    "hash": "916dbcbb3f70747c44a77c7bcd40155683ae19c65e1c03b4aa3499c5328201f1"
   }
  }
 },
 "nbformat": 4,
 "nbformat_minor": 2
}
