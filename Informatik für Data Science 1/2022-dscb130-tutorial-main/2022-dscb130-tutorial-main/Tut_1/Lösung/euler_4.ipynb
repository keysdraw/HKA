{
 "cells": [
  {
   "cell_type": "markdown",
   "metadata": {},
   "source": [
    "# Largest palindrome product\n",
    "Problem 4"
   ]
  },
  {
   "cell_type": "markdown",
   "metadata": {},
   "source": [
    "\n",
    "\n",
    "A palindromic number reads the same both ways. The largest palindrome made from the product of two 2-digit numbers is 9009 = 91 × 99."
   ]
  },
  {
   "cell_type": "code",
   "execution_count": 6,
   "metadata": {},
   "outputs": [
    {
     "data": {
      "text/plain": [
       "9009"
      ]
     },
     "execution_count": 6,
     "metadata": {},
     "output_type": "execute_result"
    }
   ],
   "source": [
    "stop = 100\n",
    "\n",
    "def palindrome(x: int) -> bool:\n",
    "    return str(x)==str(x)[::-1]\n",
    "\n",
    "res = []\n",
    "for x in range(stop):\n",
    "    for y in range(stop):\n",
    "        num = y*x\n",
    "        if palindrome(num):\n",
    "            res.append(num)\n",
    "max(res)\n",
    "            "
   ]
  },
  {
   "cell_type": "markdown",
   "metadata": {},
   "source": [
    "Find the largest palindrome made from the product of two 3-digit numbers."
   ]
  },
  {
   "cell_type": "code",
   "execution_count": 7,
   "metadata": {},
   "outputs": [
    {
     "data": {
      "text/plain": [
       "906609"
      ]
     },
     "execution_count": 7,
     "metadata": {},
     "output_type": "execute_result"
    }
   ],
   "source": [
    "stop = 1000\n",
    "\n",
    "def palindrome(x: int) -> bool:\n",
    "    return str(x)==str(x)[::-1]\n",
    "\n",
    "res = []\n",
    "for x in range(stop):\n",
    "    for y in range(stop):\n",
    "        num = y*x\n",
    "        if palindrome(num):\n",
    "            res.append(num)\n",
    "max(res)"
   ]
  },
  {
   "cell_type": "code",
   "execution_count": 8,
   "metadata": {},
   "outputs": [
    {
     "data": {
      "text/plain": [
       "906609"
      ]
     },
     "execution_count": 8,
     "metadata": {},
     "output_type": "execute_result"
    }
   ],
   "source": [
    "def palindrome(x: int) -> bool:\n",
    "    s = str(x)\n",
    "    for h in range(1,len(s)//2 +1):\n",
    "        # print(\"-------\")\n",
    "        # print(h)\n",
    "        # print(s[h - 1])\n",
    "        # print(s[-h])\n",
    "        if s[h - 1] != (s[-h]):\n",
    "            return False\n",
    "    return True\n",
    "\n",
    "l =[]\n",
    "\n",
    "for x in range(999,0,-1):\n",
    "    for y in range(999,0,-1):\n",
    "        if palindrome (x * y):\n",
    "            \n",
    "            # print(f\"x:{x} y:{y} = x*y:{x*y}\")\n",
    "            l.append(x*y)\n",
    "max(l)"
   ]
  },
  {
   "cell_type": "markdown",
   "metadata": {},
   "source": [
    "Answer:  906609"
   ]
  }
 ],
 "metadata": {
  "kernelspec": {
   "display_name": "Python 3.8.10 64-bit",
   "language": "python",
   "name": "python3"
  },
  "language_info": {
   "codemirror_mode": {
    "name": "ipython",
    "version": 3
   },
   "file_extension": ".py",
   "mimetype": "text/x-python",
   "name": "python",
   "nbconvert_exporter": "python",
   "pygments_lexer": "ipython3",
   "version": "3.8.10"
  },
  "orig_nbformat": 4,
  "vscode": {
   "interpreter": {
    "hash": "916dbcbb3f70747c44a77c7bcd40155683ae19c65e1c03b4aa3499c5328201f1"
   }
  }
 },
 "nbformat": 4,
 "nbformat_minor": 2
}
