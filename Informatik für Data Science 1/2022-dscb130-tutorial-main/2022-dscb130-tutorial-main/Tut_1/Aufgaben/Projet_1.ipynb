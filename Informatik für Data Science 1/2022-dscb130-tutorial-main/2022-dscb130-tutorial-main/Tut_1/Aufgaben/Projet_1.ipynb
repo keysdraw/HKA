{
 "cells": [
  {
   "cell_type": "markdown",
   "metadata": {},
   "source": [
    "### Programmiere 1\n",
    "Schreibe deinen eingenen Text Generator"
   ]
  },
  {
   "cell_type": "markdown",
   "metadata": {},
   "source": [
    "##### Bonus:\n",
    "Mit dem Paket Random kannst du dir mittels Zufall unterschiedliche Geschichten generieren. Zum Beispiel so:\n",
    "``` py\n",
    "import random\n",
    "\n",
    "mylist = [\"apple\", \"banana\", \"cherry\"]\n",
    "\n",
    "print(random.choice(mylist)) \n",
    "```\n",
    "Googel wie du verschieden Methoden des random Modules verwendest. Ins Besondere <a href=\"https://www.w3schools.com/python/ref_random_choice.asp\"> random.choice() </a>"
   ]
  },
  {
   "cell_type": "code",
   "execution_count": 1,
   "metadata": {},
   "outputs": [],
   "source": [
    "#Eingabe\n",
    "\n",
    "#Verarbeitung\n",
    "\n",
    "#Ausgabe\n"
   ]
  }
 ],
 "metadata": {
  "kernelspec": {
   "display_name": "Python 3.8.10 64-bit",
   "language": "python",
   "name": "python3"
  },
  "language_info": {
   "codemirror_mode": {
    "name": "ipython",
    "version": 3
   },
   "file_extension": ".py",
   "mimetype": "text/x-python",
   "name": "python",
   "nbconvert_exporter": "python",
   "pygments_lexer": "ipython3",
   "version": "3.8.10"
  },
  "orig_nbformat": 4,
  "vscode": {
   "interpreter": {
    "hash": "916dbcbb3f70747c44a77c7bcd40155683ae19c65e1c03b4aa3499c5328201f1"
   }
  }
 },
 "nbformat": 4,
 "nbformat_minor": 2
}
