{
 "cells": [
  {
   "cell_type": "markdown",
   "id": "910e0e52",
   "metadata": {},
   "source": [
    "# Functions"
   ]
  },
  {
   "cell_type": "markdown",
   "id": "11802015",
   "metadata": {},
   "source": [
    "Eine Funktion (englisch function) ist in der Informatik und in verschiedenen höheren Programmiersprachen die Bezeichnung eines Programmkonstrukts, mit dem der Programm-Quellcode strukturiert werden kann, so dass Teile der Funktionalität des Programms wiederverwendbar sind. <a href=\"https://de.wikipedia.org/wiki/Funktion_(Programmierung)\">Quelle </a>"
   ]
  },
  {
   "cell_type": "markdown",
   "id": "93e3f933",
   "metadata": {},
   "source": [
    "Du hast bereits einige Funtionen genutzt wie z.B. `print()` oder `isnumeric()`. Eine Funktion ist kurz gesagt ein Codeblock der aufgerufen werden kann. In Python gibt es schon einige built-in Funktionen. Sinnvoll ist es aber eigene Funktionen für individuelle Anwendungsfällt zu definieren."
   ]
  },
  {
   "cell_type": "markdown",
   "id": "50d51f15",
   "metadata": {},
   "source": [
    "## Definieren und aufrufen einer Funktion"
   ]
  },
  {
   "cell_type": "code",
   "execution_count": 1,
   "id": "983d4abf",
   "metadata": {},
   "outputs": [],
   "source": [
    "# Beispiel\n",
    "\n",
    "def print_hello_function():                          # Namen der Funktion klein schreiben (Konvention)  \n",
    "    '''Gibt einen Hello! String aus'''\n",
    "    \n",
    "    print('Hello!')\n"
   ]
  },
  {
   "cell_type": "markdown",
   "id": "60699970",
   "metadata": {},
   "source": [
    " <div class=\"alert alert-block alert-info\"> \n",
    "    <b>NOTE</b> \"Am Anfang einer Funktion sollte durch einen sog. Documentation String (Docstring), beschrieben sein was eine Funktion macht (nicht wie). Definiert werden Docstrings durch drei Anführungszeichen (Siehe Beispiel oben)\" </div>"
   ]
  },
  {
   "cell_type": "code",
   "execution_count": 2,
   "id": "6b2d44f9",
   "metadata": {
    "scrolled": true
   },
   "outputs": [
    {
     "name": "stdout",
     "output_type": "stream",
     "text": [
      "Hello!\n"
     ]
    }
   ],
   "source": [
    "# Aufruf durch schreiben des Funktionsnamens mit Klammern\n",
    "\n",
    "print_hello_function()"
   ]
  },
  {
   "cell_type": "markdown",
   "id": "71ba93d4",
   "metadata": {},
   "source": [
    "## return-statement"
   ]
  },
  {
   "cell_type": "markdown",
   "id": "376d35e9",
   "metadata": {},
   "source": [
    "Wenn eine Funktion einen Wert zurückliefern soll kann das `return` Statement genutzt werden. "
   ]
  },
  {
   "cell_type": "markdown",
   "id": "52487805",
   "metadata": {},
   "source": [
    "## pass-statement"
   ]
  },
  {
   "cell_type": "markdown",
   "id": "fcb15945",
   "metadata": {},
   "source": [
    "Funktionen können nicht \"leer\" sein, wenn eine Funtion aber keinen Wert zurückliefern soll kann man das `pass` Statement nutzen"
   ]
  },
  {
   "cell_type": "code",
   "execution_count": null,
   "id": "6edcde05",
   "metadata": {},
   "outputs": [],
   "source": [
    "# Beispiel\n",
    "\n",
    "def neue_funktion():\n",
    "    pass"
   ]
  },
  {
   "cell_type": "markdown",
   "id": "832872b2",
   "metadata": {},
   "source": [
    "## Funktionsaufruf mit Parametern"
   ]
  },
  {
   "cell_type": "markdown",
   "id": "a88bc2c9",
   "metadata": {},
   "source": [
    "Funktionen können auch Parameter übergeben werden. Mache dir klar was die `least_difference` Funktion macht, rufe sie auf und schreibe den passenden Docstring dazu."
   ]
  },
  {
   "cell_type": "code",
   "execution_count": 7,
   "id": "4b2cf2e2",
   "metadata": {},
   "outputs": [
    {
     "name": "stdout",
     "output_type": "stream",
     "text": [
      "3\n"
     ]
    }
   ],
   "source": [
    "# Beispiel\n",
    "\n",
    "def least_difference(a, b, c):\n",
    "\n",
    "    diff1 = abs(a - b)\n",
    "    diff2 = abs(b - c)\n",
    "    diff3 = abs(a - c)\n",
    "    \n",
    "    return min(diff1, diff2, diff3)   \n",
    "\n",
    "print(least_difference(15,4,1))  "
   ]
  },
  {
   "cell_type": "markdown",
   "id": "23abf634",
   "metadata": {},
   "source": [
    "## Aufgabe_1"
   ]
  },
  {
   "cell_type": "markdown",
   "id": "4869d81e",
   "metadata": {},
   "source": [
    "Schreibe eine Funktion welche die höchste Ziffer einer dreistelligen Zahl ausgibt und schreibe den passenden Docstring."
   ]
  },
  {
   "cell_type": "code",
   "execution_count": 53,
   "id": "d4ab5f16",
   "metadata": {},
   "outputs": [
    {
     "name": "stdout",
     "output_type": "stream",
     "text": [
      "[9, 8, 7, 6, 5, 4]\n"
     ]
    },
    {
     "data": {
      "text/plain": [
       "9"
      ]
     },
     "execution_count": 53,
     "metadata": {},
     "output_type": "execute_result"
    }
   ],
   "source": [
    "\n",
    "def highest_char(num):\n",
    "    '''finden der höchsten Ziffer eine beliebig langen Zahl'''\n",
    "    \n",
    "    value = 0\n",
    "    num_list = []\n",
    "    num_str = str(num)\n",
    "\n",
    "    for i in num_str:\n",
    "        i = int(i)\n",
    "        num_list.append(i)\n",
    "\n",
    "    num_list.sort(reverse=True)\n",
    "\n",
    "    value = num_list[0]\n",
    "    print(num_list)\n",
    "\n",
    "    return value\n",
    "\n",
    "num = input('Zahl eingeben: ')\n",
    "\n",
    "highest_char(num)\n"
   ]
  },
  {
   "cell_type": "markdown",
   "id": "1fc3f9d7",
   "metadata": {},
   "source": [
    "## Aufgabe_2"
   ]
  },
  {
   "cell_type": "markdown",
   "id": "094bb67b",
   "metadata": {},
   "source": [
    "Schreibe eine Funktion welche die geraden Zahlen einer Liste ausgiebt und schreibe den passenden Docstring."
   ]
  },
  {
   "cell_type": "code",
   "execution_count": 56,
   "id": "2c67178d",
   "metadata": {},
   "outputs": [
    {
     "data": {
      "text/plain": [
       "[4, 32, 88, 78]"
      ]
     },
     "execution_count": 56,
     "metadata": {},
     "output_type": "execute_result"
    }
   ],
   "source": [
    "numbers = [1,4,5,32,7,5,55,88,7,87,78]\n",
    "\n",
    "def even_number_list(numbers: list):\n",
    "    '''prüft Zahlen einer Liste ob sie gerade oder ungerade sind'''\n",
    "    numbers_even = []\n",
    "\n",
    "    for i in numbers:\n",
    "        if i % 2 == 0:\n",
    "            numbers_even.append(i)\n",
    "        else:\n",
    "            continue\n",
    "\n",
    "    return numbers_even\n",
    "\n",
    "even_number_list(numbers)\n"
   ]
  },
  {
   "cell_type": "markdown",
   "id": "520db1e6",
   "metadata": {},
   "source": [
    "## Aufgabe_3"
   ]
  },
  {
   "cell_type": "markdown",
   "id": "cc627562",
   "metadata": {},
   "source": [
    "Schreibe eine Funktion die einen String umkehrt und ausgiebt und schreibe den passenden Docstring. \n",
    "<br>\n",
    "Sample String : \"1234abcd\"<br>\n",
    "Expected Output : \"dcba4321\""
   ]
  },
  {
   "cell_type": "code",
   "execution_count": 57,
   "id": "cf6b7c8d",
   "metadata": {},
   "outputs": [
    {
     "data": {
      "text/plain": [
       "'ollaH'"
      ]
     },
     "execution_count": 57,
     "metadata": {},
     "output_type": "execute_result"
    }
   ],
   "source": [
    "def rev_string(string: str):\n",
    "    '''gibt umgekehrten string aus'''\n",
    "    output = string[::-1]\n",
    "\n",
    "    return output\n",
    "\n",
    "rev_string('Hallo')"
   ]
  },
  {
   "cell_type": "markdown",
   "id": "5e213331",
   "metadata": {},
   "source": [
    "## Aufgabe_4"
   ]
  },
  {
   "cell_type": "markdown",
   "id": "fd1a4d82",
   "metadata": {},
   "source": [
    "Schreibe eine Python Funktion die nur Strings entgegennimmt und die Anzahl der Groß- und Kleinbuchstaben ausgibt und schreibe den passenden Docstring. <br>\n",
    "Schaue dir hierzu die `isupper()` und `islower()` Funktionen an"
   ]
  },
  {
   "cell_type": "code",
   "execution_count": 70,
   "id": "31962fd7",
   "metadata": {},
   "outputs": [
    {
     "name": "stdout",
     "output_type": "stream",
     "text": [
      "(3, 2)\n"
     ]
    }
   ],
   "source": [
    "def count_string_cases(string: str):\n",
    "    '''zählt die Groß- und Kleinbuchstaben eines Strings'''\n",
    "\n",
    "    uppercase = 0\n",
    "    lowercase = 0\n",
    "\n",
    "    for i in string:\n",
    "        if i.isupper() == True:\n",
    "            uppercase += 1\n",
    "        else:\n",
    "            lowercase += 1\n",
    "\n",
    "    return uppercase, lowercase\n",
    "\n",
    "print(count_string_cases('HaLlO'))  \n",
    "\n",
    "\n"
   ]
  }
 ],
 "metadata": {
  "kernelspec": {
   "display_name": "Python 3.8.10 64-bit",
   "language": "python",
   "name": "python3"
  },
  "language_info": {
   "codemirror_mode": {
    "name": "ipython",
    "version": 3
   },
   "file_extension": ".py",
   "mimetype": "text/x-python",
   "name": "python",
   "nbconvert_exporter": "python",
   "pygments_lexer": "ipython3",
   "version": "3.10.6"
  },
  "vscode": {
   "interpreter": {
    "hash": "916dbcbb3f70747c44a77c7bcd40155683ae19c65e1c03b4aa3499c5328201f1"
   }
  }
 },
 "nbformat": 4,
 "nbformat_minor": 5
}
