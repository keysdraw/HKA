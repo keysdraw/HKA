{
 "cells": [
  {
   "cell_type": "markdown",
   "metadata": {},
   "source": [
    "# Sum square difference\n",
    "\n",
    "Problem 6"
   ]
  },
  {
   "cell_type": "markdown",
   "metadata": {},
   "source": [
    "<p>The sum of the squares of the first ten natural numbers is,</p>\n",
    "1^2 + 2^2 + ... + 10^2 = 385\n",
    "<p>The square of the sum of the first ten natural numbers is,</p>\n",
    "(1 + 2 + ... + 10)^2 = 55^2 = 3025\n",
    "<p>Hence the difference between the sum of the squares of the first ten natural numbers and the square of the sum is 3025 - 385 = 2640.</p>\n",
    "<p>Find the difference between the sum of the squares of the first one hundred natural numbers and the square of the sum.</p>\n"
   ]
  },
  {
   "cell_type": "code",
   "execution_count": 4,
   "metadata": {},
   "outputs": [
    {
     "name": "stdout",
     "output_type": "stream",
     "text": [
      "10 : 3025 - 385 = 2640\n",
      "100 : 25502500 - 338350 = 25164150\n"
     ]
    }
   ],
   "source": [
    "def problem_6(i :int):\n",
    "    a = 0\n",
    "    b = 0\n",
    "    for x in range(1,i+1):\n",
    "        a += x*x\n",
    "        \n",
    "    for x in range(1,i+1):\n",
    "        b += x\n",
    "    b *= b\n",
    "        \n",
    "        \n",
    "    return f\"{b} - {a} = {b-a}\"\n",
    "print(f\"10 : {problem_6(10)}\")\n",
    "print(f\"100 : {problem_6(100)}\")"
   ]
  }
 ],
 "metadata": {
  "kernelspec": {
   "display_name": "Python 3.8.10 64-bit",
   "language": "python",
   "name": "python3"
  },
  "language_info": {
   "codemirror_mode": {
    "name": "ipython",
    "version": 3
   },
   "file_extension": ".py",
   "mimetype": "text/x-python",
   "name": "python",
   "nbconvert_exporter": "python",
   "pygments_lexer": "ipython3",
   "version": "3.8.10"
  },
  "orig_nbformat": 4,
  "vscode": {
   "interpreter": {
    "hash": "916dbcbb3f70747c44a77c7bcd40155683ae19c65e1c03b4aa3499c5328201f1"
   }
  }
 },
 "nbformat": 4,
 "nbformat_minor": 2
}
