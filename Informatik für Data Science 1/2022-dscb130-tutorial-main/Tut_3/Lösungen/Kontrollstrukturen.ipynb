{
 "cells": [
  {
   "cell_type": "markdown",
   "id": "d06e81f3",
   "metadata": {},
   "source": [
    "# Kontrollstrukturen in Python"
   ]
  },
  {
   "cell_type": "markdown",
   "id": "711e4031",
   "metadata": {},
   "source": [
    "## if - else - elif"
   ]
  },
  {
   "cell_type": "markdown",
   "id": "50465954",
   "metadata": {},
   "source": [
    " <div class=\"alert alert-block alert-info\"> \n",
    "    <b>NOTE</b> \"Das if Statement wird verwendet wenn ein Teil des Codes nur unter einer bestimmten Bedingung ausgeführt werden soll. Python unterstützt hierzu die Vergleichsoperatoren der Mathematik\" </div>"
   ]
  },
  {
   "cell_type": "markdown",
   "id": "685c8a0e",
   "metadata": {},
   "source": [
    "+ Equals: <span style=\"color:red\">a == b</span>\n",
    "+ Not Equals: <span style=\"color:red\">a != b</span>\n",
    "+ Less than: <span style=\"color:red\">a < b</span>\n",
    "+ Less than or equal to: <span style=\"color:red\">a <= b</span>\n",
    "+ Greater than: <span style=\"color:red\">a > b</span>\n",
    "+ Greater than or equal to:  <span style=\"color:red\">a >= b</span>\n",
    "\n"
   ]
  },
  {
   "cell_type": "code",
   "execution_count": 4,
   "id": "ca56ecbd",
   "metadata": {},
   "outputs": [],
   "source": [
    "# Beispiel - Prüfen der Gleichheit zweier Variablen\n",
    "\n",
    "a = 33\n",
    "b = 24 \n",
    "\n",
    "if a == b:\n",
    "    print('a und b sind gleich')\n",
    "else: \n",
    "    print('a und b sind nicht gleich')"
   ]
  },
  {
   "cell_type": "markdown",
   "id": "6e60bdb9",
   "metadata": {},
   "source": [
    "### Aufgabe_1: Einstieg"
   ]
  },
  {
   "cell_type": "markdown",
   "id": "16796bdc",
   "metadata": {},
   "source": [
    "Definiere ein paar Variablen und wende die oben aufgeführten Vergleichsoperatoren auf diese an."
   ]
  },
  {
   "cell_type": "code",
   "execution_count": null,
   "id": "47d4b6d1",
   "metadata": {},
   "outputs": [],
   "source": [
    "#Hier programmieren "
   ]
  },
  {
   "cell_type": "markdown",
   "id": "5cc8f7bf",
   "metadata": {},
   "source": [
    "### Aufgabe_2: if vs. elif"
   ]
  },
  {
   "cell_type": "markdown",
   "id": "7c16cce6",
   "metadata": {},
   "source": [
    "<div class=\"alert alert-block alert-info\"> \n",
    "    <b>NOTE</b> \"elif sagt in Python in etwa \"wenn die vorausgegangene Condition not true war dann prüfe diese Condition (inf anderen Programmiersprachen häufig \"else if\"). \" </div>"
   ]
  },
  {
   "cell_type": "markdown",
   "id": "5967720e",
   "metadata": {},
   "source": [
    "Zeige an einem selbstgewählten Beispiel den Unterschied zwischen mehreren aufeinanderfolgenden `if-Statements` und der Verwendung von einem if Statement gefolgt von `elif-Statements`. "
   ]
  },
  {
   "cell_type": "code",
   "execution_count": null,
   "id": "c19b60cc",
   "metadata": {
    "scrolled": true
   },
   "outputs": [],
   "source": [
    "#Hier programmieren "
   ]
  },
  {
   "cell_type": "markdown",
   "id": "218274b0",
   "metadata": {},
   "source": [
    "### Aufgabe_3: Umwandlung von Zeichenketten"
   ]
  },
  {
   "cell_type": "markdown",
   "id": "3be0fef9",
   "metadata": {},
   "source": [
    "Schreiben Sie ein Python Programm, welches beliebige Eingabewerte(input) in Integer- und Float-Typen umwandelt. Schaue dir hierzu auch die `isnumeric()` methode an. "
   ]
  },
  {
   "cell_type": "code",
   "execution_count": 2,
   "id": "0d3b2155",
   "metadata": {},
   "outputs": [
    {
     "ename": "TypeError",
     "evalue": "'list' object is not callable",
     "output_type": "error",
     "traceback": [
      "\u001b[0;31m---------------------------------------------------------------------------\u001b[0m",
      "\u001b[0;31mTypeError\u001b[0m                                 Traceback (most recent call last)",
      "\u001b[1;32m/home/ich/Documents/Uni/Semester_3/tutorium/2022-dscb130-tutorial/Tut_3/Aufgaben/Kontrollstrukturen.ipynb Cell 15\u001b[0m in \u001b[0;36m<cell line: 2>\u001b[0;34m()\u001b[0m\n\u001b[1;32m      <a href='vscode-notebook-cell:/home/ich/Documents/Uni/Semester_3/tutorium/2022-dscb130-tutorial/Tut_3/Aufgaben/Kontrollstrukturen.ipynb#X20sZmlsZQ%3D%3D?line=0'>1</a>\u001b[0m i \u001b[39m=\u001b[39m \u001b[39minput\u001b[39m()\n\u001b[0;32m----> <a href='vscode-notebook-cell:/home/ich/Documents/Uni/Semester_3/tutorium/2022-dscb130-tutorial/Tut_3/Aufgaben/Kontrollstrukturen.ipynb#X20sZmlsZQ%3D%3D?line=1'>2</a>\u001b[0m \u001b[39mlist\u001b[39;49m(\u001b[39mmap\u001b[39;49m([\u001b[39mfloat\u001b[39;49m,\u001b[39mint\u001b[39;49m],i))\n",
      "\u001b[0;31mTypeError\u001b[0m: 'list' object is not callable"
     ]
    }
   ],
   "source": [
    "i = input()\n",
    "\n"
   ]
  },
  {
   "cell_type": "markdown",
   "id": "1bdfb707",
   "metadata": {},
   "source": [
    "### Aufgabe_4 Umrechnung"
   ]
  },
  {
   "cell_type": "markdown",
   "id": "db47cdc5",
   "metadata": {},
   "source": [
    "Schreibe ein Programm, das Temperaturen in verschiedene Skalensystemen ineinander umwandelt. Das Programm soll zu Beginn eine Auswahl mit den verschiedenen Möglichkeiten anbieten nutze hierzu die `if`-`elif`-`else` Verzweigung"
   ]
  },
  {
   "cell_type": "markdown",
   "id": "5c54d6b0",
   "metadata": {},
   "source": [
    "<div class=\"alert alert-block alert-info\"> \n",
    "    <b>NOTE</b> \"Celsius = 5/9 * (Fahrenheit - 32)\" </div>"
   ]
  },
  {
   "cell_type": "code",
   "execution_count": 51,
   "id": "fec83f69",
   "metadata": {
    "scrolled": true
   },
   "outputs": [],
   "source": [
    "print(\"(1) Umrechnung von Celsius nach Fahrenheit\")\n",
    "print(\"(2) Umrechnung von Fahrenheit nach Celsius\")\n",
    "\n",
    "wahl = input(\"Bitte wählen: \")\n",
    "\n",
    "#Hier weiterprogrammieren "
   ]
  },
  {
   "cell_type": "markdown",
   "id": "d892a5a3",
   "metadata": {},
   "source": [
    "## NOT - OR - AND - IN"
   ]
  },
  {
   "cell_type": "markdown",
   "id": "34264951",
   "metadata": {},
   "source": [
    "<div class=\"alert alert-block alert-info\"> \n",
    "    <b>NOTE</b> \"Logische Operatoren werden genutzt um Conditional Statements zu kombinieren\" </div>"
   ]
  },
  {
   "cell_type": "markdown",
   "id": "eab52ad3",
   "metadata": {},
   "source": [
    "| Operator     | Description                                | Example               | \n",
    "|:--------------|:--------------------------------------------|-----------------------:|\n",
    "|and           |`True` wenn beide Statements true           |x < 5 `and` x < 10     |\n",
    "|or            |`True` wenn eines der beiden Statements true|x < 5 `or` x < 4       |\n",
    "|not           |`False` wenn beide Statements true          |not(x < 5 `and` x < 10)|\n",
    "|in            |`True` wenn ein definierter Wert in geprüfter Sequenz liegt         |x `in` y|\n",
    "|not in        |`True` wenn ein definierter Wert nicht in geprüfter Sequenz liegt   |x `in` y|"
   ]
  },
  {
   "cell_type": "markdown",
   "id": "5a6ec1e9",
   "metadata": {},
   "source": [
    "<table>\n",
    "<tr><th> AND </th><th> OR </th><th> NOT </th></tr>\n",
    "<tr><td>\n",
    "\n",
    "|A|B|A and B|\n",
    "|--|--|:--:|\n",
    "|T|T|T|\n",
    "|T|F|F|\n",
    "|F|T|F|\n",
    "|F|F|F|\n",
    "\n",
    "</td><td>\n",
    "\n",
    "|A|B|A or B|\n",
    "|--|--|:--:|\n",
    "|T|T|T|\n",
    "|T|F|T|\n",
    "|F|T|T|\n",
    "|F|F|F|\n",
    "    \n",
    "</td><td>\n",
    "\n",
    "|A|A'|\n",
    "|-|-|\n",
    "|T|F|\n",
    "|F|T|\n",
    "\n",
    "</td></tr> </table>\n"
   ]
  },
  {
   "cell_type": "markdown",
   "id": "ee16918c",
   "metadata": {},
   "source": [
    "### Aufgabe_5: Wetterempfehlung"
   ]
  },
  {
   "cell_type": "markdown",
   "id": "908aa3c1",
   "metadata": {},
   "source": [
    "Schreibe ein Programm welches nach der aktuellen Temperatur fragt und abhängig davon ausgibt ob das Wetter gut oder schlecht ist. \n",
    "Wenn die eingegebene Temperatur nicht niedriger als 10 Grad und nicht höher als 30 Grad ist, dann ist das Wetter gut. Wenn die Temperatur aber außerhalb des Intervalls liegt, ist das Wetter schlecht. "
   ]
  },
  {
   "cell_type": "code",
   "execution_count": 52,
   "id": "86a9c6ad",
   "metadata": {},
   "outputs": [],
   "source": [
    "#Hier programmieren "
   ]
  },
  {
   "cell_type": "markdown",
   "id": "41ae8057",
   "metadata": {},
   "source": [
    "## for - while - break - continue"
   ]
  },
  {
   "cell_type": "markdown",
   "id": "ecc9fcba",
   "metadata": {},
   "source": [
    "## for\n",
    "https://pythonbuch.com/kontrollstrukturen.html#die-for-schleife"
   ]
  },
  {
   "cell_type": "code",
   "execution_count": null,
   "id": "4ba5dd94",
   "metadata": {},
   "outputs": [],
   "source": [
    "for zahl in [4,5,7,11,21]:\n",
    "    summe = zahl + 2\n",
    "    print(\"Wenn ich zu\", zahl, \"zwei addiere, erhalte ich\", summe)\n",
    "print(\"Ich bin fertig!\")\n"
   ]
  },
  {
   "cell_type": "markdown",
   "id": "bc4597c9",
   "metadata": {},
   "source": [
    "Die Fakultät (manchmal, besonders in Österreich, auch Faktorielle genannt) ist in der Mathematik eine Funktion, die einer natürlichen Zahl das Produkt aller natürlichen Zahlen (ohne Null) kleiner und gleich dieser Zahl zuordnet. <a href=\"https://de.wikipedia.org/wiki/Fakult%C3%A4t_(Mathematik)\"> Qulle </a> <br>\n",
    "\n",
    "### Aufgabe_5:\n",
    "\n",
    "Er rechne die 5. Fakultät\n"
   ]
  },
  {
   "cell_type": "code",
   "execution_count": 6,
   "id": "3bd9bd2d",
   "metadata": {},
   "outputs": [
    {
     "name": "stdout",
     "output_type": "stream",
     "text": [
      "120\n",
      "120\n"
     ]
    }
   ],
   "source": [
    "from math import factorial\n",
    "\n",
    "\n",
    "f = 1\n",
    "for i in range(5,1,-1):\n",
    "    f *= i\n",
    "print(f)\n",
    "print(factorial(5))\n",
    "\n"
   ]
  },
  {
   "cell_type": "markdown",
   "id": "cf226d5e",
   "metadata": {},
   "source": [
    "### While\n",
    "https://pythonbuch.com/kontrollstrukturen.html#die-while-schleife"
   ]
  },
  {
   "cell_type": "code",
   "execution_count": 14,
   "id": "f5119430",
   "metadata": {},
   "outputs": [
    {
     "name": "stdout",
     "output_type": "stream",
     "text": [
      "Vielen Dank!\n"
     ]
    }
   ],
   "source": [
    "antwort = input('Beantworte die Frage mit Ja oder Nein (J/N): ')\n",
    "\n",
    "while antwort not in ['j', 'J', 'n', 'N']:\n",
    "    print('Eingabe ungültig!')\n",
    "    antwort = input('Beantworte die Frage mit Ja oder Nein (J/N): ')\n",
    "\n",
    "print('Vielen Dank!')\n"
   ]
  },
  {
   "cell_type": "markdown",
   "id": "c632143f",
   "metadata": {},
   "source": [
    "### Aufgabe_6:\n",
    "Herr Spar legt sich jedes Jahr einen festen Betrag (z.B. 800.00 Fr.) auf sein Konto, welches beispielsweise 2.5 Zins trägt. Er tut dies so lange, bis er einen bestimmten Betrag überschreitet. Dieser Betrag ist auch einzugeben, z.B. 5000.00. Schreibe dazu ein Programm."
   ]
  },
  {
   "cell_type": "code",
   "execution_count": 3,
   "id": "dc2eafd1",
   "metadata": {},
   "outputs": [
    {
     "data": {
      "text/plain": [
       "3"
      ]
     },
     "execution_count": 3,
     "metadata": {},
     "output_type": "execute_result"
    }
   ],
   "source": [
    "betrag = 800.00 \n",
    "zins =2.5 \n",
    "i = 0\n",
    "while betrag < 5000.00:\n",
    "    betrag = betrag + betrag*(1+zins/100)\n",
    "    i +=1\n",
    "i"
   ]
  },
  {
   "cell_type": "markdown",
   "id": "3b781fdc",
   "metadata": {},
   "source": [
    "### break\n",
    "-> Bricht die Schleife ab\n",
    "## continue\n",
    "-> Springt zur nächsten Schleifen iteration"
   ]
  },
  {
   "cell_type": "markdown",
   "id": "33084a45",
   "metadata": {},
   "source": [
    "\n",
    "# Fizz-Buzz-Test\n",
    "\n",
    "### Aufgabe_7\n",
    "\n",
    "Schreibe ein Programm, dass die Zahlen von 1 bis 100 durchläuft:\n",
    "\n",
    "* ist die Zahl durch 3 teilbar, gibt das Programm *\"Fizz\"* aus\n",
    "* ist die Zahl durch 5 teilbar, gibt das Programm *\"Buzz\"* aus\n",
    "* ist die Zahl durch 3 und 5 teilbar, gibt das Programm *\"FizzBuzz\"* aus\n",
    "* andernfalls wird die Zahl ausgegeben\n",
    "\n"
   ]
  },
  {
   "cell_type": "markdown",
   "id": "3c5420c3",
   "metadata": {},
   "source": [
    "Nutze den gegeben code und break und continue."
   ]
  },
  {
   "cell_type": "code",
   "execution_count": 5,
   "id": "e5a0500e",
   "metadata": {},
   "outputs": [
    {
     "name": "stdout",
     "output_type": "stream",
     "text": [
      "1\n",
      "2\n",
      "Fizz\n",
      "4\n",
      "Buzz\n",
      "Fizz\n",
      "7\n",
      "8\n",
      "Fizz\n",
      "Buzz\n",
      "11\n",
      "Fizz\n",
      "13\n",
      "14\n",
      "FizzBuzz\n",
      "16\n",
      "17\n",
      "Fizz\n",
      "19\n",
      "Buzz\n",
      "Fizz\n",
      "22\n",
      "23\n",
      "Fizz\n",
      "Buzz\n",
      "26\n",
      "Fizz\n",
      "28\n",
      "29\n",
      "FizzBuzz\n",
      "31\n",
      "32\n",
      "Fizz\n",
      "34\n",
      "Buzz\n",
      "Fizz\n",
      "37\n",
      "38\n",
      "Fizz\n",
      "Buzz\n",
      "41\n",
      "Fizz\n",
      "43\n",
      "44\n",
      "FizzBuzz\n",
      "46\n",
      "47\n",
      "Fizz\n",
      "49\n",
      "Buzz\n",
      "Fizz\n",
      "52\n",
      "53\n",
      "Fizz\n",
      "Buzz\n",
      "56\n",
      "Fizz\n",
      "58\n",
      "59\n",
      "FizzBuzz\n",
      "61\n",
      "62\n",
      "Fizz\n",
      "64\n",
      "Buzz\n",
      "Fizz\n",
      "67\n",
      "68\n",
      "Fizz\n",
      "Buzz\n",
      "71\n",
      "Fizz\n",
      "73\n",
      "74\n",
      "FizzBuzz\n",
      "76\n",
      "77\n",
      "Fizz\n",
      "79\n",
      "Buzz\n",
      "Fizz\n",
      "82\n",
      "83\n",
      "Fizz\n",
      "Buzz\n",
      "86\n",
      "Fizz\n",
      "88\n",
      "89\n",
      "FizzBuzz\n",
      "91\n",
      "92\n",
      "Fizz\n",
      "94\n",
      "Buzz\n",
      "Fizz\n",
      "97\n",
      "98\n",
      "Fizz\n"
     ]
    }
   ],
   "source": [
    "i = 0\n",
    "while True: #while True ist prinzipiell schlechter Style\n",
    "    i += 1\n",
    "    if i == 100:\n",
    "        break\n",
    "    \n",
    "    if (i % 3 == 0 or i % 5 == 0):\n",
    "        if i % 3 == 0:\n",
    "            print(\"Fizz\", end=\"\")\n",
    "        if i % 5 == 0:\n",
    "            print(\"Buzz\", end=\"\")\n",
    "        \n",
    "    else :\n",
    "        print(i, end=\"\")\n",
    "    print(\"\")"
   ]
  },
  {
   "cell_type": "markdown",
   "id": "b0e6aca7",
   "metadata": {},
   "source": [
    "#### Augabe_8"
   ]
  },
  {
   "cell_type": "markdown",
   "id": "d39fa07b",
   "metadata": {},
   "source": [
    "Schreibe ein Programm, welches alle Primzahlen zwischen 1 und einer vom Benutzer gewählten oberen Grenze ausgibt.\n",
    "\n",
    "Zusatzaufgabe: Versuche im Internet herauszufinden, wie man dieses Problem möglichst effizient (d.h. so, dass es wenig Zeit braucht) löst und schreibe dein Programm um, damit es schneller wird.\n"
   ]
  },
  {
   "cell_type": "code",
   "execution_count": 23,
   "id": "f1aae494",
   "metadata": {},
   "outputs": [
    {
     "data": {
      "text/plain": [
       "[2,\n",
       " 3,\n",
       " 5,\n",
       " 7,\n",
       " 11,\n",
       " 13,\n",
       " 17,\n",
       " 19,\n",
       " 23,\n",
       " 29,\n",
       " 31,\n",
       " 37,\n",
       " 41,\n",
       " 43,\n",
       " 47,\n",
       " 53,\n",
       " 59,\n",
       " 61,\n",
       " 67,\n",
       " 71,\n",
       " 73,\n",
       " 79,\n",
       " 83,\n",
       " 89,\n",
       " 97]"
      ]
     },
     "execution_count": 23,
     "metadata": {},
     "output_type": "execute_result"
    }
   ],
   "source": [
    "import math\n",
    "l =[]\n",
    "\n",
    "zahl = 100\n",
    "for n in range(1,zahl):\n",
    "    prime = True\n",
    "    if n == 1 or n == 0:\n",
    "        prime = False\n",
    "    for i in range(2,n):#int(math.sqrt(n))+1):\n",
    "        if (n%i) == 0:\n",
    "            prime = False\n",
    "    if prime:\n",
    "        \n",
    "        l.append(n)\n",
    "\n",
    "\n",
    "l\n",
    "                    \n"
   ]
  },
  {
   "cell_type": "code",
   "execution_count": 20,
   "id": "bd5ce2ac",
   "metadata": {},
   "outputs": [
    {
     "data": {
      "text/plain": [
       "[2,\n",
       " 3,\n",
       " 5,\n",
       " 7,\n",
       " 11,\n",
       " 13,\n",
       " 17,\n",
       " 19,\n",
       " 23,\n",
       " 29,\n",
       " 31,\n",
       " 37,\n",
       " 41,\n",
       " 43,\n",
       " 47,\n",
       " 53,\n",
       " 59,\n",
       " 61,\n",
       " 67,\n",
       " 71,\n",
       " 73,\n",
       " 79,\n",
       " 83,\n",
       " 89,\n",
       " 97]"
      ]
     },
     "execution_count": 20,
     "metadata": {},
     "output_type": "execute_result"
    }
   ],
   "source": [
    "[2, 3, 5, 7, 11, 13, 17, 19, 23, 29, 31, 37, 41, 43, 47, 53, 59, 61, 67, 71, 73, 79, 83, 89, 97]"
   ]
  },
  {
   "cell_type": "code",
   "execution_count": null,
   "id": "f271fcc7",
   "metadata": {},
   "outputs": [],
   "source": []
  }
 ],
 "metadata": {
  "kernelspec": {
   "display_name": "Python 3.8.10 64-bit",
   "language": "python",
   "name": "python3"
  },
  "language_info": {
   "codemirror_mode": {
    "name": "ipython",
    "version": 3
   },
   "file_extension": ".py",
   "mimetype": "text/x-python",
   "name": "python",
   "nbconvert_exporter": "python",
   "pygments_lexer": "ipython3",
   "version": "3.8.10"
  },
  "vscode": {
   "interpreter": {
    "hash": "916dbcbb3f70747c44a77c7bcd40155683ae19c65e1c03b4aa3499c5328201f1"
   }
  }
 },
 "nbformat": 4,
 "nbformat_minor": 5
}
