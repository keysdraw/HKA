{
 "cells": [
  {
   "cell_type": "markdown",
   "metadata": {},
   "source": [
    "# Special Pythagorean triplet\n",
    "\n",
    "Problem 9"
   ]
  },
  {
   "cell_type": "markdown",
   "metadata": {},
   "source": [
    "A Pythagorean triplet is a set of three natural numbers, a < b < c, for which, </br>\n",
    "a^2 + b^2 = c^2\n",
    "\n",
    "For example, 32 + 42 = 9 + 16 = 25 = 52.\n",
    "\n",
    "There exists exactly one Pythagorean triplet for which a + b + c = 1000.\n",
    "Find the product abc.\n"
   ]
  },
  {
   "cell_type": "code",
   "execution_count": 1,
   "metadata": {},
   "outputs": [
    {
     "name": "stdout",
     "output_type": "stream",
     "text": [
      "a: 375, b: 200, c: 425\n",
      "Result: 31875000\n",
      "a: 200, b: 375, c: 425\n",
      "Result: 31875000\n"
     ]
    }
   ],
   "source": [
    "\n",
    "abc = 1000\n",
    "\n",
    "for a in range(abc,0,-1):\n",
    "    bc = abc - a\n",
    "    for BC in range(1,bc):\n",
    "        b = BC\n",
    "        c = bc - BC\n",
    "        \n",
    "        # Optional debugging\n",
    "        assert a+b+c == 1000, \"a+c+b dose not add up to 1000\"\n",
    "        # print(f\"a: {a}, b: {b}, c: {c}\")\n",
    "        \n",
    "        \n",
    "        if  a**2 + b**2 == c**2:\n",
    "            print(f\"a: {a}, b: {b}, c: {c}\")\n",
    "            print(f\"Result: {a*b*c}\")\n",
    "            \n"
   ]
  },
  {
   "cell_type": "code",
   "execution_count": null,
   "metadata": {},
   "outputs": [],
   "source": []
  }
 ],
 "metadata": {
  "kernelspec": {
   "display_name": "Python 3.8.10 64-bit",
   "language": "python",
   "name": "python3"
  },
  "language_info": {
   "codemirror_mode": {
    "name": "ipython",
    "version": 3
   },
   "file_extension": ".py",
   "mimetype": "text/x-python",
   "name": "python",
   "nbconvert_exporter": "python",
   "pygments_lexer": "ipython3",
   "version": "3.8.10"
  },
  "orig_nbformat": 4,
  "vscode": {
   "interpreter": {
    "hash": "916dbcbb3f70747c44a77c7bcd40155683ae19c65e1c03b4aa3499c5328201f1"
   }
  }
 },
 "nbformat": 4,
 "nbformat_minor": 2
}
